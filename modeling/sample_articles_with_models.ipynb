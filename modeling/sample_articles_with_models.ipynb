{
 "cells": [
  {
   "cell_type": "markdown",
   "metadata": {},
   "source": [
    "# Take sample of articles based on classification scores for org. science perspectives\n",
    "\n",
    "@author: Jaren Haber, PhD<br>\n",
    "@coauthors: Prof. Heather Haveman, UC Berkeley; Yoon Sung Hong, Wayfair<br>\n",
    "@contact: Jaren.Haber@georgetown.edu<br>\n",
    "@project: Computational Literature Review of Organizational Scholarship<br>\n",
    "@repo: https://github.com/h2researchgroup/classification/<br>\n",
    "@date: December 2020\n",
    "\n",
    "'''\n",
    "Uses classifiers trained on labeled articles (uses a perspective or not) to select a sample of articles (of given length) per perspective (cultural, relational, and demographic) for hand-labeling. Data source is full academic articles in sociology or management/org. behavior from JSTOR. For the first batch using this script, 90% of these selected articles are predicted to be of the minority class for that perspective, which is 'yes' for all three. The remaining 10% are from majority class, which are easier to predict in our skewed first batch of data. Future batches may use a more balanced sampling procedure. \n",
    "'''"
   ]
  },
  {
   "cell_type": "markdown",
   "metadata": {},
   "source": [
    "## Initialize"
   ]
  },
  {
   "cell_type": "code",
   "execution_count": 1,
   "metadata": {},
   "outputs": [
    {
     "name": "stderr",
     "output_type": "stream",
     "text": [
      "[nltk_data] Downloading package punkt to /home/jovyan/nltk_data...\n",
      "[nltk_data]   Package punkt is already up-to-date!\n",
      "[nltk_data] Downloading package wordnet to /home/jovyan/nltk_data...\n",
      "[nltk_data]   Package wordnet is already up-to-date!\n"
     ]
    },
    {
     "data": {
      "text/plain": [
       "True"
      ]
     },
     "execution_count": 1,
     "metadata": {},
     "output_type": "execute_result"
    }
   ],
   "source": [
    "# Install anything not already in server\n",
    "#!pip install nltk\n",
    "#!pip install --upgrade scikit-learn # need to update sklearn for Jaren's VM\n",
    "\n",
    "import nltk\n",
    "nltk.download('punkt')\n",
    "nltk.download('wordnet')"
   ]
  },
  {
   "cell_type": "code",
   "execution_count": 1,
   "metadata": {},
   "outputs": [],
   "source": [
    "######################################################\n",
    "# Import libraries\n",
    "######################################################\n",
    "\n",
    "import pandas as pd\n",
    "import numpy as np\n",
    "import re, csv, os\n",
    "from datetime import date\n",
    "from random import sample\n",
    "from collections import Counter\n",
    "from tqdm import tqdm\n",
    "tqdm.pandas()\n",
    "import time\n",
    "import random\n",
    "random.seed(43)\n",
    "\n",
    "import nltk\n",
    "from nltk import word_tokenize\n",
    "from nltk import sent_tokenize\n",
    "from nltk.corpus import stopwords\n",
    "from nltk.stem import WordNetLemmatizer\n",
    "\n",
    "stemmer = WordNetLemmatizer()\n",
    "\n",
    "from pandas.plotting import scatter_matrix\n",
    "import matplotlib.pyplot as plt\n",
    "\n",
    "import joblib\n",
    "import math\n",
    "\n",
    "import sys; sys.path.insert(0, \"../preprocess/\") # For loading functions from files in other directory\n",
    "#from clean_text import stopwords_make, punctstr_make, unicode_make, apache_tokenize, clean_sentence_apache # for preprocessing text\n",
    "from quickpickle import quickpickle_dump, quickpickle_load # custom scripts for quick saving & loading to pickle format\n",
    "from text_to_file import write_textlist, read_text # custom scripts for reading and writing text lists to .txt files"
   ]
  },
  {
   "cell_type": "code",
   "execution_count": 13,
   "metadata": {},
   "outputs": [],
   "source": [
    "######################################################\n",
    "# Define filepaths\n",
    "######################################################\n",
    "\n",
    "thisday = date.today().strftime(\"%m%d%y\")\n",
    "\n",
    "cwd = os.getcwd()\n",
    "root = str.replace(cwd, 'classification/modeling', '')\n",
    "\n",
    "# Directory for prepared data and trained models: save files here\n",
    "data_fp = root + 'classification/data/'\n",
    "model_fp = root + 'classification/models/'\n",
    "\n",
    "# Current article lists\n",
    "article_list_fp = data_fp + 'filtered_length_index.csv' # Filtered index of research articles\n",
    "article_paths_fp = data_fp + 'filtered_length_article_paths.csv' # List of article file paths\n",
    "article_names_fp = data_fp + 'filtered_length_article_names.xlsx' # Filtered list of article names and general data, sorted by journal then article name\n",
    "\n",
    "# Path to ALL JSTOR preprocessed text\n",
    "all_prepped_fp = data_fp + 'filtered_preprocessed_texts_65365_120720.pkl'\n",
    "\n",
    "# Path to predictions for each perspective\n",
    "predicted_fp = model_fp + 'predictions_RF_65365_121420.pkl'\n",
    "\n",
    "# Per-article metadata with year and URL info\n",
    "meta_fp = root + 'dictionary_methods/code/metadata_combined.h5' \n",
    "\n",
    "n_sample = 150 # 50 per perspective\n",
    "\n",
    "# Output: Sample for hand-coding\n",
    "sample_fp = data_fp + f'coding_sample_{str(n_sample)}_{str(thisday)}.pkl'"
   ]
  },
  {
   "cell_type": "markdown",
   "metadata": {},
   "source": [
    "## Load & merge data"
   ]
  },
  {
   "cell_type": "code",
   "execution_count": 9,
   "metadata": {},
   "outputs": [
    {
     "data": {
      "text/html": [
       "<div>\n",
       "<style scoped>\n",
       "    .dataframe tbody tr th:only-of-type {\n",
       "        vertical-align: middle;\n",
       "    }\n",
       "\n",
       "    .dataframe tbody tr th {\n",
       "        vertical-align: top;\n",
       "    }\n",
       "\n",
       "    .dataframe thead th {\n",
       "        text-align: right;\n",
       "    }\n",
       "</style>\n",
       "<table border=\"1\" class=\"dataframe\">\n",
       "  <thead>\n",
       "    <tr style=\"text-align: right;\">\n",
       "      <th></th>\n",
       "      <th>edited_filename</th>\n",
       "      <th>article_name</th>\n",
       "      <th>jstor_url</th>\n",
       "      <th>abstract</th>\n",
       "      <th>journal_title</th>\n",
       "      <th>given_names</th>\n",
       "      <th>primary_subject</th>\n",
       "      <th>year</th>\n",
       "      <th>type</th>\n",
       "    </tr>\n",
       "  </thead>\n",
       "  <tbody>\n",
       "    <tr>\n",
       "      <th>0</th>\n",
       "      <td>10.2307_4167860</td>\n",
       "      <td>Cross-Dialectal Variation in Arabic: Competing...</td>\n",
       "      <td>https://www.jstor.org/stable/4167860</td>\n",
       "      <td>Most researchers of Arabic sociolinguistics as...</td>\n",
       "      <td>Language in Society</td>\n",
       "      <td>None</td>\n",
       "      <td>Other</td>\n",
       "      <td>1979</td>\n",
       "      <td>research-article</td>\n",
       "    </tr>\n",
       "    <tr>\n",
       "      <th>1</th>\n",
       "      <td>10.2307_2578336</td>\n",
       "      <td>None</td>\n",
       "      <td>https://www.jstor.org/stable/2578336</td>\n",
       "      <td>None</td>\n",
       "      <td>Social Forces</td>\n",
       "      <td>[Sidney, Hyman P., Riv-Ellen, Stephen, Thomas,...</td>\n",
       "      <td>Sociology</td>\n",
       "      <td>1983</td>\n",
       "      <td>book-review</td>\n",
       "    </tr>\n",
       "    <tr>\n",
       "      <th>2</th>\n",
       "      <td>10.2307_2654760</td>\n",
       "      <td>None</td>\n",
       "      <td>https://www.jstor.org/stable/2654760</td>\n",
       "      <td>None</td>\n",
       "      <td>Contemporary Sociology</td>\n",
       "      <td>[Sidney, Hyman P., Riv-Ellen, Stephen, Thomas,...</td>\n",
       "      <td>Sociology</td>\n",
       "      <td>1998</td>\n",
       "      <td>book-review</td>\n",
       "    </tr>\n",
       "    <tr>\n",
       "      <th>3</th>\n",
       "      <td>10.2307_43242281</td>\n",
       "      <td>editor's note: A KNIGHT'S TALE</td>\n",
       "      <td>https://www.jstor.org/stable/43242281</td>\n",
       "      <td>None</td>\n",
       "      <td>Corporate Knights</td>\n",
       "      <td>[Sidney, Hyman P., Riv-Ellen, Stephen, Thomas,...</td>\n",
       "      <td>Other</td>\n",
       "      <td>2005</td>\n",
       "      <td>misc</td>\n",
       "    </tr>\n",
       "    <tr>\n",
       "      <th>4</th>\n",
       "      <td>10.2307_42862018</td>\n",
       "      <td>None</td>\n",
       "      <td>https://www.jstor.org/stable/42862018</td>\n",
       "      <td>None</td>\n",
       "      <td>Social Science Quarterly</td>\n",
       "      <td>[Sidney, Hyman P., Riv-Ellen, Stephen, Thomas,...</td>\n",
       "      <td>Sociology</td>\n",
       "      <td>1985</td>\n",
       "      <td>book-review</td>\n",
       "    </tr>\n",
       "  </tbody>\n",
       "</table>\n",
       "</div>"
      ],
      "text/plain": [
       "    edited_filename                                       article_name  \\\n",
       "0   10.2307_4167860  Cross-Dialectal Variation in Arabic: Competing...   \n",
       "1   10.2307_2578336                                               None   \n",
       "2   10.2307_2654760                                               None   \n",
       "3  10.2307_43242281                     editor's note: A KNIGHT'S TALE   \n",
       "4  10.2307_42862018                                               None   \n",
       "\n",
       "                               jstor_url  \\\n",
       "0   https://www.jstor.org/stable/4167860   \n",
       "1   https://www.jstor.org/stable/2578336   \n",
       "2   https://www.jstor.org/stable/2654760   \n",
       "3  https://www.jstor.org/stable/43242281   \n",
       "4  https://www.jstor.org/stable/42862018   \n",
       "\n",
       "                                            abstract  \\\n",
       "0  Most researchers of Arabic sociolinguistics as...   \n",
       "1                                               None   \n",
       "2                                               None   \n",
       "3                                               None   \n",
       "4                                               None   \n",
       "\n",
       "              journal_title  \\\n",
       "0       Language in Society   \n",
       "1             Social Forces   \n",
       "2    Contemporary Sociology   \n",
       "3         Corporate Knights   \n",
       "4  Social Science Quarterly   \n",
       "\n",
       "                                         given_names primary_subject  year  \\\n",
       "0                                               None           Other  1979   \n",
       "1  [Sidney, Hyman P., Riv-Ellen, Stephen, Thomas,...       Sociology  1983   \n",
       "2  [Sidney, Hyman P., Riv-Ellen, Stephen, Thomas,...       Sociology  1998   \n",
       "3  [Sidney, Hyman P., Riv-Ellen, Stephen, Thomas,...           Other  2005   \n",
       "4  [Sidney, Hyman P., Riv-Ellen, Stephen, Thomas,...       Sociology  1985   \n",
       "\n",
       "               type  \n",
       "0  research-article  \n",
       "1       book-review  \n",
       "2       book-review  \n",
       "3              misc  \n",
       "4       book-review  "
      ]
     },
     "execution_count": 9,
     "metadata": {},
     "output_type": "execute_result"
    }
   ],
   "source": [
    "# Read in metadata file\n",
    "df_meta = pd.read_hdf(meta_fp)\n",
    "df_meta.reset_index(drop=False, inplace=True) # extract file name from index\n",
    "\n",
    "# For merging purposes, get ID alone from file name, e.g. 'journal-article-10.2307_2065002' -> '10.2307_2065002'\n",
    "df_meta['edited_filename'] = df_meta['file_name'].apply(lambda x: x[16:]) \n",
    "df_meta = df_meta[[\"edited_filename\", \"article_name\", \"jstor_url\", \"abstract\", \"journal_title\", \"given_names\", \"primary_subject\", \"year\", \"type\"]] # keep only relevant columns\n",
    "\n",
    "df_meta.head()"
   ]
  },
  {
   "cell_type": "code",
   "execution_count": 22,
   "metadata": {},
   "outputs": [
    {
     "name": "stdout",
     "output_type": "stream",
     "text": [
      "All columns:\n",
      " ['file_name', 'edited_filename', 'article_name', 'jstor_url', 'abstract', 'journal_title', 'given_names', 'primary_subject', 'year', 'type', 'prediction_cult', 'prediction_cult_prob_yes', 'prediction_cult_prob_no', 'prediction_relt', 'prediction_relt_prob_yes', 'prediction_relt_prob_no', 'prediction_demog', 'prediction_demog_prob_yes', 'prediction_demog_prob_no', 'file_path']\n",
      "\n",
      "Rows, cols in data: (65365, 20)\n"
     ]
    },
    {
     "data": {
      "text/html": [
       "<div>\n",
       "<style scoped>\n",
       "    .dataframe tbody tr th:only-of-type {\n",
       "        vertical-align: middle;\n",
       "    }\n",
       "\n",
       "    .dataframe tbody tr th {\n",
       "        vertical-align: top;\n",
       "    }\n",
       "\n",
       "    .dataframe thead th {\n",
       "        text-align: right;\n",
       "    }\n",
       "</style>\n",
       "<table border=\"1\" class=\"dataframe\">\n",
       "  <thead>\n",
       "    <tr style=\"text-align: right;\">\n",
       "      <th></th>\n",
       "      <th>file_name</th>\n",
       "      <th>edited_filename</th>\n",
       "      <th>article_name</th>\n",
       "      <th>jstor_url</th>\n",
       "      <th>abstract</th>\n",
       "      <th>journal_title</th>\n",
       "      <th>given_names</th>\n",
       "      <th>primary_subject</th>\n",
       "      <th>year</th>\n",
       "      <th>type</th>\n",
       "      <th>prediction_cult</th>\n",
       "      <th>prediction_cult_prob_yes</th>\n",
       "      <th>prediction_cult_prob_no</th>\n",
       "      <th>prediction_relt</th>\n",
       "      <th>prediction_relt_prob_yes</th>\n",
       "      <th>prediction_relt_prob_no</th>\n",
       "      <th>prediction_demog</th>\n",
       "      <th>prediction_demog_prob_yes</th>\n",
       "      <th>prediction_demog_prob_no</th>\n",
       "      <th>file_path</th>\n",
       "    </tr>\n",
       "  </thead>\n",
       "  <tbody>\n",
       "    <tr>\n",
       "      <th>0</th>\n",
       "      <td>journal-article-10.2307_2065002</td>\n",
       "      <td>10.2307_2065002</td>\n",
       "      <td>Toward More Cumulative Inquiry</td>\n",
       "      <td>https://www.jstor.org/stable/2065002</td>\n",
       "      <td>None</td>\n",
       "      <td>Contemporary Sociology</td>\n",
       "      <td>[Ariela, ARTHUR J., John A., Marilyn, Janemari...</td>\n",
       "      <td>Sociology</td>\n",
       "      <td>1978</td>\n",
       "      <td>research-article</td>\n",
       "      <td>no</td>\n",
       "      <td>0.03</td>\n",
       "      <td>0.97</td>\n",
       "      <td>no</td>\n",
       "      <td>0.02</td>\n",
       "      <td>0.98</td>\n",
       "      <td>no</td>\n",
       "      <td>0.02</td>\n",
       "      <td>0.98</td>\n",
       "      <td>/vol_b/data/jstor_data/ocr/journal-article-10....</td>\n",
       "    </tr>\n",
       "    <tr>\n",
       "      <th>1</th>\n",
       "      <td>journal-article-10.2307_3380821</td>\n",
       "      <td>10.2307_3380821</td>\n",
       "      <td>An Analysis of an Incentive Sick Leave Policy ...</td>\n",
       "      <td>https://www.jstor.org/stable/3380821</td>\n",
       "      <td>Local health departments are under tremendous ...</td>\n",
       "      <td>Public Productivity &amp; Management Review</td>\n",
       "      <td>[Werner, Werner, Konrad, Rudi, Paul, Jean, Rob...</td>\n",
       "      <td>Management &amp; Organizational Behavior</td>\n",
       "      <td>1986</td>\n",
       "      <td>research-article</td>\n",
       "      <td>no</td>\n",
       "      <td>0.05</td>\n",
       "      <td>0.95</td>\n",
       "      <td>no</td>\n",
       "      <td>0.04</td>\n",
       "      <td>0.96</td>\n",
       "      <td>no</td>\n",
       "      <td>0.01</td>\n",
       "      <td>0.99</td>\n",
       "      <td>/vol_b/data/jstor_data/ocr/journal-article-10....</td>\n",
       "    </tr>\n",
       "    <tr>\n",
       "      <th>2</th>\n",
       "      <td>journal-article-10.2307_2095822</td>\n",
       "      <td>10.2307_2095822</td>\n",
       "      <td>Local Friendship Ties and Community Attachment...</td>\n",
       "      <td>https://www.jstor.org/stable/2095822</td>\n",
       "      <td>This study presents a multilevel empirical tes...</td>\n",
       "      <td>American Sociological Review</td>\n",
       "      <td>[Alice O., Peter, W. Erwin, Bert, Robert W., C...</td>\n",
       "      <td>Sociology</td>\n",
       "      <td>1983</td>\n",
       "      <td>research-article</td>\n",
       "      <td>no</td>\n",
       "      <td>0.01</td>\n",
       "      <td>0.99</td>\n",
       "      <td>no</td>\n",
       "      <td>0.05</td>\n",
       "      <td>0.95</td>\n",
       "      <td>no</td>\n",
       "      <td>0.01</td>\n",
       "      <td>0.99</td>\n",
       "      <td>/vol_b/data/jstor_data/ocr/journal-article-10....</td>\n",
       "    </tr>\n",
       "    <tr>\n",
       "      <th>3</th>\n",
       "      <td>journal-article-10.2307_40836133</td>\n",
       "      <td>10.2307_40836133</td>\n",
       "      <td>Knowledge Transfer within the Multinational Fi...</td>\n",
       "      <td>https://www.jstor.org/stable/40836133</td>\n",
       "      <td>This paper examines the process of knowledge t...</td>\n",
       "      <td>MIR: Management International Review</td>\n",
       "      <td>[Ariela, ARTHUR J., John A., Marilyn, Janemari...</td>\n",
       "      <td>Management &amp; Organizational Behavior</td>\n",
       "      <td>2005</td>\n",
       "      <td>research-article</td>\n",
       "      <td>no</td>\n",
       "      <td>0.01</td>\n",
       "      <td>0.99</td>\n",
       "      <td>no</td>\n",
       "      <td>0.01</td>\n",
       "      <td>0.99</td>\n",
       "      <td>no</td>\n",
       "      <td>0.01</td>\n",
       "      <td>0.99</td>\n",
       "      <td>/vol_b/data/jstor_data/ocr/journal-article-10....</td>\n",
       "    </tr>\n",
       "    <tr>\n",
       "      <th>4</th>\n",
       "      <td>journal-article-10.2307_2579666</td>\n",
       "      <td>10.2307_2579666</td>\n",
       "      <td>Dynamics of Labor Market Segmentation in Polan...</td>\n",
       "      <td>https://www.jstor.org/stable/2579666</td>\n",
       "      <td>Research in the early 1980s showed that indust...</td>\n",
       "      <td>Social Forces</td>\n",
       "      <td>[Ariela, ARTHUR J., John A., Marilyn, Janemari...</td>\n",
       "      <td>Sociology</td>\n",
       "      <td>1990</td>\n",
       "      <td>research-article</td>\n",
       "      <td>no</td>\n",
       "      <td>0.02</td>\n",
       "      <td>0.98</td>\n",
       "      <td>no</td>\n",
       "      <td>0.01</td>\n",
       "      <td>0.99</td>\n",
       "      <td>no</td>\n",
       "      <td>0.02</td>\n",
       "      <td>0.98</td>\n",
       "      <td>/vol_b/data/jstor_data/ocr/journal-article-10....</td>\n",
       "    </tr>\n",
       "  </tbody>\n",
       "</table>\n",
       "</div>"
      ],
      "text/plain": [
       "                          file_name   edited_filename  \\\n",
       "0   journal-article-10.2307_2065002   10.2307_2065002   \n",
       "1   journal-article-10.2307_3380821   10.2307_3380821   \n",
       "2   journal-article-10.2307_2095822   10.2307_2095822   \n",
       "3  journal-article-10.2307_40836133  10.2307_40836133   \n",
       "4   journal-article-10.2307_2579666   10.2307_2579666   \n",
       "\n",
       "                                        article_name  \\\n",
       "0                     Toward More Cumulative Inquiry   \n",
       "1  An Analysis of an Incentive Sick Leave Policy ...   \n",
       "2  Local Friendship Ties and Community Attachment...   \n",
       "3  Knowledge Transfer within the Multinational Fi...   \n",
       "4  Dynamics of Labor Market Segmentation in Polan...   \n",
       "\n",
       "                               jstor_url  \\\n",
       "0   https://www.jstor.org/stable/2065002   \n",
       "1   https://www.jstor.org/stable/3380821   \n",
       "2   https://www.jstor.org/stable/2095822   \n",
       "3  https://www.jstor.org/stable/40836133   \n",
       "4   https://www.jstor.org/stable/2579666   \n",
       "\n",
       "                                            abstract  \\\n",
       "0                                               None   \n",
       "1  Local health departments are under tremendous ...   \n",
       "2  This study presents a multilevel empirical tes...   \n",
       "3  This paper examines the process of knowledge t...   \n",
       "4  Research in the early 1980s showed that indust...   \n",
       "\n",
       "                             journal_title  \\\n",
       "0                   Contemporary Sociology   \n",
       "1  Public Productivity & Management Review   \n",
       "2             American Sociological Review   \n",
       "3     MIR: Management International Review   \n",
       "4                            Social Forces   \n",
       "\n",
       "                                         given_names  \\\n",
       "0  [Ariela, ARTHUR J., John A., Marilyn, Janemari...   \n",
       "1  [Werner, Werner, Konrad, Rudi, Paul, Jean, Rob...   \n",
       "2  [Alice O., Peter, W. Erwin, Bert, Robert W., C...   \n",
       "3  [Ariela, ARTHUR J., John A., Marilyn, Janemari...   \n",
       "4  [Ariela, ARTHUR J., John A., Marilyn, Janemari...   \n",
       "\n",
       "                        primary_subject  year              type  \\\n",
       "0                             Sociology  1978  research-article   \n",
       "1  Management & Organizational Behavior  1986  research-article   \n",
       "2                             Sociology  1983  research-article   \n",
       "3  Management & Organizational Behavior  2005  research-article   \n",
       "4                             Sociology  1990  research-article   \n",
       "\n",
       "  prediction_cult  prediction_cult_prob_yes  prediction_cult_prob_no  \\\n",
       "0              no                      0.03                     0.97   \n",
       "1              no                      0.05                     0.95   \n",
       "2              no                      0.01                     0.99   \n",
       "3              no                      0.01                     0.99   \n",
       "4              no                      0.02                     0.98   \n",
       "\n",
       "  prediction_relt  prediction_relt_prob_yes  prediction_relt_prob_no  \\\n",
       "0              no                      0.02                     0.98   \n",
       "1              no                      0.04                     0.96   \n",
       "2              no                      0.05                     0.95   \n",
       "3              no                      0.01                     0.99   \n",
       "4              no                      0.01                     0.99   \n",
       "\n",
       "  prediction_demog  prediction_demog_prob_yes  prediction_demog_prob_no  \\\n",
       "0               no                       0.02                      0.98   \n",
       "1               no                       0.01                      0.99   \n",
       "2               no                       0.01                      0.99   \n",
       "3               no                       0.01                      0.99   \n",
       "4               no                       0.02                      0.98   \n",
       "\n",
       "                                           file_path  \n",
       "0  /vol_b/data/jstor_data/ocr/journal-article-10....  \n",
       "1  /vol_b/data/jstor_data/ocr/journal-article-10....  \n",
       "2  /vol_b/data/jstor_data/ocr/journal-article-10....  \n",
       "3  /vol_b/data/jstor_data/ocr/journal-article-10....  \n",
       "4  /vol_b/data/jstor_data/ocr/journal-article-10....  "
      ]
     },
     "execution_count": 22,
     "metadata": {},
     "output_type": "execute_result"
    }
   ],
   "source": [
    "# Read in filtered index\n",
    "df = pd.read_csv(article_list_fp, low_memory=False, header=None, names=[\"file_name\"])\n",
    "df['edited_filename'] = df['file_name'].apply(lambda x: x[16:]) # New col with only article ID\n",
    "\n",
    "# Read predictions using latest models\n",
    "df_pred = quickpickle_load(predicted_fp)\n",
    "\n",
    "# For consistency across data sources, rename absolute file path to 'file_path' and create shorter 'file_name'\n",
    "df_pred['file_path'] = df_pred['file_name'] # rename for consistency across files\n",
    "df_pred['file_name'] = df_pred['file_name'].str.replace(\n",
    "    '/vol_b/data/jstor_data/ocr/', '').str.replace('.txt', '') # remove folders + file suffix\n",
    "\n",
    "# Merge meta data, predictions into articles list DF\n",
    "df = pd.merge(df, df_meta, how='left', on='edited_filename') # meta data\n",
    "df = pd.merge(df, df_pred, how='right', on='file_name') # predictions\n",
    "\n",
    "# Show all columns in resulting DF\n",
    "print(\"All columns:\\n\", list(df))\n",
    "print()\n",
    "\n",
    "print(\"Rows, cols in data:\", df.shape)\n",
    "\n",
    "df.head()"
   ]
  },
  {
   "cell_type": "markdown",
   "metadata": {},
   "source": [
    "## Visualize distributions of labels"
   ]
  },
  {
   "cell_type": "code",
   "execution_count": 23,
   "metadata": {},
   "outputs": [],
   "source": [
    "def calculate_threshold(num_to_find, series):\n",
    "    '''\n",
    "    Calculates greatest threshold to find requested number of texts in a dataframe series\n",
    "    \n",
    "    Args:\n",
    "        tweets_to_find: number of tweets to find\n",
    "        df: df series to search through\n",
    "    Returns:\n",
    "        threshold: minimum value of probability\n",
    "    \n",
    "    '''\n",
    "    threshold = .500\n",
    "    texts_num = series[series > threshold].size\n",
    "    \n",
    "    while num_to_find > texts_num:\n",
    "        threshold = round(threshold - .001,3)\n",
    "        texts_num = series[series > threshold].size\n",
    "        \n",
    "    return threshold"
   ]
  },
  {
   "cell_type": "markdown",
   "metadata": {},
   "source": [
    "### Cultural perspective"
   ]
  },
  {
   "cell_type": "code",
   "execution_count": 46,
   "metadata": {},
   "outputs": [
    {
     "data": {
      "text/plain": [
       "no    65365\n",
       "Name: prediction_cult, dtype: int64"
      ]
     },
     "execution_count": 46,
     "metadata": {},
     "output_type": "execute_result"
    }
   ],
   "source": [
    "# Show predicted labels\n",
    "pred_col = 'prediction_cult'\n",
    "df[pred_col].value_counts()"
   ]
  },
  {
   "cell_type": "code",
   "execution_count": 47,
   "metadata": {},
   "outputs": [
    {
     "data": {
      "text/plain": [
       "<matplotlib.axes._subplots.AxesSubplot at 0x7f4a91967e48>"
      ]
     },
     "execution_count": 47,
     "metadata": {},
     "output_type": "execute_result"
    },
    {
     "data": {
      "image/png": "[encoded data removed]",
      "text/plain": [
       "<Figure size 432x288 with 1 Axes>"
      ]
     },
     "metadata": {
      "needs_background": "light"
     },
     "output_type": "display_data"
    }
   ],
   "source": [
    "# Minority Class (yes) Distribution\n",
    "prob_col = 'prediction_cult_prob_yes'\n",
    "df[prob_col].hist(bins=25)"
   ]
  },
  {
   "cell_type": "code",
   "execution_count": 57,
   "metadata": {},
   "outputs": [
    {
     "name": "stdout",
     "output_type": "stream",
     "text": [
      "0.139% (91) of cases are above 0.079\n"
     ]
    }
   ],
   "source": [
    "# Look at top_n most likely cases for using this perspective\n",
    "top_n = 60\n",
    "threshold = calculate_threshold(top_n, df[prob_col])\n",
    "num = len(df[df[prob_col] > threshold])\n",
    "prop = (num/len(df))*100 \n",
    "print(f'{str(round(prop,3))}% ({num}) of cases are above {str(threshold)}')"
   ]
  },
  {
   "cell_type": "markdown",
   "metadata": {},
   "source": [
    "### Relational perspective"
   ]
  },
  {
   "cell_type": "code",
   "execution_count": 42,
   "metadata": {},
   "outputs": [
    {
     "data": {
      "text/plain": [
       "no    65365\n",
       "Name: prediction_relt, dtype: int64"
      ]
     },
     "execution_count": 42,
     "metadata": {},
     "output_type": "execute_result"
    }
   ],
   "source": [
    "# Show predicted labels\n",
    "pred_col = 'prediction_relt'\n",
    "df[pred_col].value_counts()"
   ]
  },
  {
   "cell_type": "code",
   "execution_count": 34,
   "metadata": {},
   "outputs": [
    {
     "data": {
      "text/plain": [
       "<matplotlib.axes._subplots.AxesSubplot at 0x7f4a918c48d0>"
      ]
     },
     "execution_count": 34,
     "metadata": {},
     "output_type": "execute_result"
    },
    {
     "data": {
      "image/png": "[encoded data removed]",
      "text/plain": [
       "<Figure size 432x288 with 1 Axes>"
      ]
     },
     "metadata": {
      "needs_background": "light"
     },
     "output_type": "display_data"
    }
   ],
   "source": [
    "# Minority Class (yes) Distribution\n",
    "prob_col = 'prediction_relt_prob_yes'\n",
    "df[prob_col].hist(bins=25)"
   ]
  },
  {
   "cell_type": "code",
   "execution_count": 35,
   "metadata": {},
   "outputs": [
    {
     "name": "stdout",
     "output_type": "stream",
     "text": [
      "0.095% (62) of cases are above 0.089\n"
     ]
    }
   ],
   "source": [
    "# Look at top_n most likely cases for using this perspective\n",
    "top_n = 60\n",
    "threshold = calculate_threshold(top_n, df[prob_col])\n",
    "num = len(df[df[prob_col] > threshold])\n",
    "prop = (num/len(df))*100 \n",
    "print(f'{str(round(prop,3))}% ({num}) of cases are above {str(threshold)}')"
   ]
  },
  {
   "cell_type": "markdown",
   "metadata": {},
   "source": [
    "### Demographic perspective"
   ]
  },
  {
   "cell_type": "code",
   "execution_count": 43,
   "metadata": {},
   "outputs": [
    {
     "data": {
      "text/plain": [
       "no    65365\n",
       "Name: prediction_demog, dtype: int64"
      ]
     },
     "execution_count": 43,
     "metadata": {},
     "output_type": "execute_result"
    }
   ],
   "source": [
    "# Show predicted labels\n",
    "pred_col = 'prediction_demog'\n",
    "df[pred_col].value_counts()"
   ]
  },
  {
   "cell_type": "code",
   "execution_count": 36,
   "metadata": {},
   "outputs": [
    {
     "data": {
      "text/plain": [
       "<matplotlib.axes._subplots.AxesSubplot at 0x7f4a91912ac8>"
      ]
     },
     "execution_count": 36,
     "metadata": {},
     "output_type": "execute_result"
    },
    {
     "data": {
      "image/png": "[encoded data removed]",
      "text/plain": [
       "<Figure size 432x288 with 1 Axes>"
      ]
     },
     "metadata": {
      "needs_background": "light"
     },
     "output_type": "display_data"
    }
   ],
   "source": [
    "# Minority Class (yes) Distribution\n",
    "prob_col = 'prediction_demog_prob_yes'\n",
    "df[prob_col].hist(bins=25)"
   ]
  },
  {
   "cell_type": "code",
   "execution_count": 37,
   "metadata": {},
   "outputs": [
    {
     "name": "stdout",
     "output_type": "stream",
     "text": [
      "0.101% (66) of cases are above 0.069\n"
     ]
    }
   ],
   "source": [
    "# Look at top_n most likely cases for using this perspective\n",
    "top_n = 60\n",
    "threshold = calculate_threshold(top_n, df[prob_col])\n",
    "num = len(df[df[prob_col] > threshold])\n",
    "prop = (num/len(df))*100 \n",
    "print(f'{str(round(prop,3))}% ({num}) of cases are above {str(threshold)}')"
   ]
  },
  {
   "cell_type": "markdown",
   "metadata": {},
   "source": [
    "## Select articles for sample"
   ]
  },
  {
   "cell_type": "markdown",
   "metadata": {},
   "source": [
    "Get sample of 150 new articles (50 per perspective), composed of 90% minority class and 10% majority class.<br>\n",
    "To improve fidelity of model, make the tweets selected majority class fuzzy/unreliable, so model gets better at labeling these.<br>\n",
    "First, filter into new DFs, one for minority class and one for (fuzzy) majority class."
   ]
  },
  {
   "cell_type": "code",
   "execution_count": 39,
   "metadata": {},
   "outputs": [
    {
     "name": "stdout",
     "output_type": "stream",
     "text": [
      "Number of minority cases selected for each myth:\n",
      "162 for disinfectants\n",
      "164 for home remedies\n",
      "1631 for weather\n"
     ]
    }
   ],
   "source": [
    "# set thresholds for minority cases for each myth\n",
    "# set these as low as possible to capture ~45 tweets likely to fall in minority class\n",
    "capture_num = 60\n",
    "minority_threshold_dis = calculate_threshold(capture_num,final_df['prediction_dis_prob_yes'])\n",
    "minority_threshold_rem = calculate_threshold(capture_num,final_df['prediction_rem_prob_yes'])\n",
    "minority_threshold_wth = calculate_threshold(capture_num,final_df['prediction_wth_prob_yes'])\n",
    "\n",
    "# filter using threshold\n",
    "df_dis_minority = final_df[final_df['prediction_dis_prob_yes'] > minority_threshold_dis]\n",
    "df_rem_minority = final_df[final_df['prediction_rem_prob_yes'] > minority_threshold_rem]\n",
    "df_wth_minority = final_df[final_df['prediction_wth_prob_yes'] > minority_threshold_wth]\n",
    "\n",
    "# check out results\n",
    "print('Number of minority cases selected for each myth:')\n",
    "print(f'{len(df_dis_minority)} for disinfectants')\n",
    "print(f'{len(df_rem_minority)} for home remedies')\n",
    "print(f'{len(df_wth_minority)} for weather')"
   ]
  },
  {
   "cell_type": "code",
   "execution_count": 40,
   "metadata": {
    "scrolled": true
   },
   "outputs": [],
   "source": [
    "def check_pred_fuzzy(row, \n",
    "                     pred_labels = ['yes', 'no'], \n",
    "                     myth_labels = ['dis', 'rem', 'wth'],\n",
    "                     upper_threshold=0.3, \n",
    "                     lower_threshold=0.10):\n",
    "    \n",
    "    '''\n",
    "    Checks whether prediction is fuzzy/unreliable. Use this to determine if a tweet is worth hand-coding.\n",
    "    Rationale: by only coding tweets with unreliable labels, we can improve the classifier's ability to detect 'unsure' cases.\n",
    "    \n",
    "    Function focuses on this difference: prob(predicted label) - prob(some other label).\n",
    "    If difference is greater than lower_threshold (minimum for hand-coding of tweet to be possible), \n",
    "    but lesser than upper_threshold (maximum for hand-coding to be necessary), then it IS worth coding, so return True. \n",
    "    If difference is not between these, then we either it can't be reliably coded, or already have a reliable prediction,\n",
    "    so we don't need to hand-code --> return False.\n",
    "\n",
    "    To help select a threshold, ask: To what extent do we want the uncertainty to be, to help inform our sample selection?    \n",
    "    For example, if a tweet is labeled as POS with 90% prob and NEG 10% --> this is very obvious sample, so don't bother coding.\n",
    "    On the other hand, if the predictions are 51% NEG and 49 POS, then we need ppl to label this to update our model. \n",
    "    If our upper_threshold is 20% (0.20), then if a tweet has 61% NEG 39% POS probabilities, we don't choose it. \n",
    "    If some other tweet has prob 59% POS 41% NEG, we do select it for coding.\n",
    "    \n",
    "    Args:\n",
    "        row: row corresponding to tweet, with predictions in format...\n",
    "        pred_labels: labels for probabilities to use--used for naming columns\n",
    "        myth_labels: labels for COVID-19 myths to detect--used for naming columns\n",
    "        upper_threshold: max difference between predicted probs\n",
    "        lower_threshold: min difference between predicted probs\n",
    "    \n",
    "    Returns:\n",
    "        Array: True if tweet should be hand-coded, otherwise False. Array contains determinations for all myths\n",
    "    '''\n",
    "    \n",
    "    worth_coding = []\n",
    "    \n",
    "    for myth in myth_labels:\n",
    "        pred_label = row[f'prediction_{myth}'].strip() # get label of prediction for tweet--must be one of those in possible_labels!\n",
    "        pred_score = float(row[f'prediction_{myth}_prob_{pred_label}']) # get probability of predicted label (probably high)\n",
    "        \n",
    "        for pred in pred_labels: # Look at each label\n",
    "            pred = pred.strip() # clean label text\n",
    "            \n",
    "            if pred != pred_label: # if this label isn't the predicted one...\n",
    "                difference = pred_score - float(row[f'prediction_{myth}_prob_{pred}']) # ...then look at their difference in probability\n",
    "                if lower_threshold <= difference <= upper_threshold:\n",
    "                 # if difference in probs is > lower_threshold but < upper_threshold, then pred is fuzzy and we should code\n",
    "                    worth_coding.append(True) # worth coding\n",
    "                \n",
    "                else: worth_coding.append(False)\n",
    "                    \n",
    "    if len(worth_coding) == 1:\n",
    "        return worth_coding[0]\n",
    "    \n",
    "    else: return worth_coding"
   ]
  },
  {
   "cell_type": "code",
   "execution_count": 41,
   "metadata": {},
   "outputs": [
    {
     "name": "stderr",
     "output_type": "stream",
     "text": [
      "100%|██████████| 1631/1631 [00:00<00:00, 57795.04it/s]\n",
      "100%|██████████| 1631/1631 [00:00<00:00, 60957.09it/s]\n",
      "100%|██████████| 1631/1631 [00:00<00:00, 61658.70it/s]"
     ]
    },
    {
     "name": "stdout",
     "output_type": "stream",
     "text": [
      "df_dis_fuzzy: (75, 13)\n",
      "df_rem_fuzzy: (122, 13)\n",
      "df_wth_fuzzy: (20, 13)\n"
     ]
    },
    {
     "name": "stderr",
     "output_type": "stream",
     "text": [
      "\n"
     ]
    }
   ],
   "source": [
    "df_dis_fuzzy = final_df[final_df.progress_apply(lambda x: check_pred_fuzzy(x, myth_labels = ['dis'], upper_threshold = .65), axis=1)]      \n",
    "df_rem_fuzzy = final_df[final_df.progress_apply(lambda x: check_pred_fuzzy(x, myth_labels = ['rem'], upper_threshold = .65), axis=1)]\n",
    "df_wth_fuzzy = final_df[final_df.progress_apply(lambda x: check_pred_fuzzy(x, myth_labels = ['wth'], upper_threshold = .65), axis=1)]\n",
    "print(f'df_dis_fuzzy: {df_dis_fuzzy.shape}')\n",
    "print(f'df_rem_fuzzy: {df_rem_fuzzy.shape}')\n",
    "print(f'df_wth_fuzzy: {df_wth_fuzzy.shape}')"
   ]
  },
  {
   "cell_type": "markdown",
   "metadata": {},
   "source": [
    "## Compile sample"
   ]
  },
  {
   "cell_type": "code",
   "execution_count": 42,
   "metadata": {},
   "outputs": [
    {
     "name": "stderr",
     "output_type": "stream",
     "text": [
      "100%|██████████| 162/162 [00:00<00:00, 451.26it/s]\n",
      "100%|██████████| 18/18 [00:00<00:00, 445.03it/s]\n",
      " 29%|██▉       | 47/162 [00:00<00:00, 464.74it/s]"
     ]
    },
    {
     "name": "stdout",
     "output_type": "stream",
     "text": [
      "                    id                created_at  \\\n",
      "0  1252363412497027078 2020-04-20 22:27:59+00:00   \n",
      "1  1252363943449788417 2020-04-20 22:30:06+00:00   \n",
      "2  1252202084541231105 2020-04-20 11:46:56+00:00   \n",
      "3  1252209617020444678 2020-04-20 12:16:52+00:00   \n",
      "4  1290804398935998464 2020-08-05 00:18:45+00:00   \n",
      "\n",
      "                                           full_text  \n",
      "0  Sick bastards. Spread this. #2019nCoV #COVID19...  \n",
      "1  So sad. Looks like we got the flow out of hosp...  \n",
      "2  ITS NORMAL TO FEEL SAD, STRESSED AND CONFUSED ...  \n",
      "3  😷 TAIWAN: ❝Virus Outbreak: Social distancing l...  \n",
      "4  How does @christufton, @themohwgovjm or even G...  \n"
     ]
    },
    {
     "name": "stderr",
     "output_type": "stream",
     "text": [
      "100%|██████████| 162/162 [00:00<00:00, 446.90it/s]\n",
      "100%|██████████| 18/18 [00:00<00:00, 443.95it/s]\n",
      " 18%|█▊        | 45/252 [00:00<00:00, 439.86it/s]"
     ]
    },
    {
     "name": "stdout",
     "output_type": "stream",
     "text": [
      "                    id                created_at  \\\n",
      "0  1262535766741139457 2020-05-19 00:09:18+00:00   \n",
      "1  1279393572303900672 2020-07-04 12:36:12+00:00   \n",
      "2  1290803454688890880 2020-08-05 00:15:00+00:00   \n",
      "3  1252177328219672577 2020-04-20 10:08:34+00:00   \n",
      "4  1252177073650589696 2020-04-20 10:07:33+00:00   \n",
      "\n",
      "                                           full_text  \n",
      "0  Plenty Pre-#COVID19 patients who'd been using ...  \n",
      "1  @10DowningStreet Preliminary investigations co...  \n",
      "2  “Doctors believe many people are fighting #Cov...  \n",
      "3  New article: Strategies for Prevention of Coro...  \n",
      "4  New article: Association of the COVID-19 pande...  \n"
     ]
    },
    {
     "name": "stderr",
     "output_type": "stream",
     "text": [
      "100%|██████████| 252/252 [00:00<00:00, 443.27it/s]\n",
      "100%|██████████| 28/28 [00:00<00:00, 435.89it/s]"
     ]
    },
    {
     "name": "stdout",
     "output_type": "stream",
     "text": [
      "                    id                created_at  \\\n",
      "0  1279217386881720321 2020-07-04 00:56:06+00:00   \n",
      "1  1294791116886167552 2020-08-16 00:20:32+00:00   \n",
      "2  1262535512247730176 2020-05-19 00:08:17+00:00   \n",
      "3  1279269617693863936 2020-07-04 04:23:39+00:00   \n",
      "4  1262535494308712449 2020-05-19 00:08:13+00:00   \n",
      "\n",
      "                                           full_text  \n",
      "0  They played with lives of people for their pol...  \n",
      "1  Dangerous ill-informed advisories from @CDC. I...  \n",
      "2  ⭐️⭐️🇺🇸⭐️⭐️\\nDear Plexiglas maker of ... well.....  \n",
      "3  @SEKCSF @Pote78399148 @pigson0127 Can we retur...  \n",
      "4  \"seroprevalence study in Los Angeles County fi...  \n"
     ]
    },
    {
     "name": "stderr",
     "output_type": "stream",
     "text": [
      "\n"
     ]
    }
   ],
   "source": [
    "def sample_tweets(df, df_minority, df_fuzzy, sample_size=150, prop_maj=.1):\n",
    "    '''\n",
    "    Preliminary script to sample tweets using the previously determined minority and fuzzy df.\n",
    "    Does not take into account distribution of dates.\n",
    "    \n",
    "    Args:\n",
    "        df: original df with tweet id and full text\n",
    "        df_minority: minority df with tweets above threshold\n",
    "        sample_size: number of total tweets to sample\n",
    "        prop_maj: proportion of total tweets to be majority label/fuzzy\n",
    "        \n",
    "    '''\n",
    "    df_sample = pd.DataFrame()\n",
    "    min_size = int(sample_size * (1-prop_maj))\n",
    "    maj_size = sample_size - min_size\n",
    "    \n",
    "    for id in tqdm(df_minority['id'].sample(n=min_size)):\n",
    "        df_sample = df_sample.append(df.loc[df['id'] == id][['id','created_at','full_text']],ignore_index=True)\n",
    "    for id in tqdm(df_minority['id'].sample(n=maj_size)):\n",
    "        df_sample = df_sample.append(df.loc[df['id'] == id][['id','created_at','full_text']],ignore_index=True)\n",
    "#     df_sample = df_sample.rename(columns={'id': 'tweet_id'})\n",
    "    df_sample = df_sample.sample(frac=1).reset_index(drop=True)\n",
    "    return df_sample\n",
    "\n",
    "dis_sample = sample_tweets(final_df,df_dis_minority,df_dis_fuzzy, sample_size = n_sample)\n",
    "print(dis_sample.head(5))\n",
    "rem_sample = sample_tweets(final_df,df_rem_minority,df_rem_fuzzy, sample_size = n_sample)\n",
    "print(rem_sample.head(5))\n",
    "wth_sample = sample_tweets(final_df,df_wth_minority, df_wth_fuzzy, sample_size = 280)\n",
    "print(wth_sample.head(5))"
   ]
  },
  {
   "cell_type": "markdown",
   "metadata": {},
   "source": [
    "### Check date distribution and remove column"
   ]
  },
  {
   "cell_type": "code",
   "execution_count": 43,
   "metadata": {},
   "outputs": [
    {
     "data": {
      "image/png": "[encoded data removed]",
      "text/plain": [
       "<Figure size 432x288 with 1 Axes>"
      ]
     },
     "metadata": {
      "needs_background": "light"
     },
     "output_type": "display_data"
    }
   ],
   "source": [
    "dis_sample['created_at'].hist(bins = 30, xrot = 90)\n",
    "dis_sample.drop(columns = 'created_at', inplace = True)"
   ]
  },
  {
   "cell_type": "code",
   "execution_count": 44,
   "metadata": {},
   "outputs": [
    {
     "data": {
      "image/png": "[encoded data removed]",
      "text/plain": [
       "<Figure size 432x288 with 1 Axes>"
      ]
     },
     "metadata": {
      "needs_background": "light"
     },
     "output_type": "display_data"
    }
   ],
   "source": [
    "rem_sample['created_at'].hist(bins = 30, xrot = 90)\n",
    "rem_sample.drop(columns = 'created_at', inplace = True)"
   ]
  },
  {
   "cell_type": "code",
   "execution_count": 45,
   "metadata": {},
   "outputs": [
    {
     "data": {
      "image/png": "[encoded data removed]",
      "text/plain": [
       "<Figure size 432x288 with 1 Axes>"
      ]
     },
     "metadata": {
      "needs_background": "light"
     },
     "output_type": "display_data"
    }
   ],
   "source": [
    "wth_sample['created_at'].hist(bins = 30, xrot = 90)\n",
    "wth_sample.drop(columns = 'created_at', inplace = True)"
   ]
  },
  {
   "cell_type": "markdown",
   "metadata": {},
   "source": [
    "## Save to file"
   ]
  },
  {
   "cell_type": "code",
   "execution_count": 48,
   "metadata": {},
   "outputs": [],
   "source": [
    "dis_sample.to_csv(dis_sam_fp,\\\n",
    "    escapechar='\\\"', \\\n",
    "    quotechar='\\\"',\\\n",
    "    quoting=csv.QUOTE_ALL,\\\n",
    "    index=False)\n",
    "# rem_sample.to_csv(rem_sam_fp,\\\n",
    "#     escapechar='\\\"', \\\n",
    "#     quotechar='\\\"',\\\n",
    "#     quoting=csv.QUOTE_ALL,\\\n",
    "#     index=False)\n",
    "# wth_sam_fp = f'../data/sample_280_tweets_weather_{str(thisday)}.csv'\n",
    "# wth_sample.to_csv(wth_sam_fp,\\\n",
    "#     escapechar='\\\"', \\\n",
    "#     quotechar='\\\"',\\\n",
    "#     quoting=csv.QUOTE_ALL,\\\n",
    "#     index=False)"
   ]
  }
 ],
 "metadata": {
  "kernelspec": {
   "display_name": "Python 3",
   "language": "python",
   "name": "python3"
  },
  "language_info": {
   "codemirror_mode": {
    "name": "ipython",
    "version": 3
   },
   "file_extension": ".py",
   "mimetype": "text/x-python",
   "name": "python",
   "nbconvert_exporter": "python",
   "pygments_lexer": "ipython3",
   "version": "3.7.3"
  }
 },
 "nbformat": 4,
 "nbformat_minor": 4
}

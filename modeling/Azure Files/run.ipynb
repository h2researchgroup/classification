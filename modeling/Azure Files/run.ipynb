{
 "cells": [
  {
   "cell_type": "code",
   "execution_count": 1,
   "metadata": {
    "gather": {
     "logged": 1637964408301
    }
   },
   "outputs": [],
   "source": [
    "from azureml.core import Workspace, Experiment, Datastore, Environment, ScriptRunConfig\n",
    "from azureml.core.compute import ComputeTarget, AmlCompute\n",
    "from azureml.core.compute_target import ComputeTargetException\n",
    "from azureml.train.estimator import Estimator\n",
    "from azureml.train.hyperdrive import RandomParameterSampling, BanditPolicy, HyperDriveConfig, choice, uniform, PrimaryMetricGoal\n",
    "\n",
    "ws = Workspace.from_config()"
   ]
  },
  {
   "cell_type": "code",
   "execution_count": 2,
   "metadata": {
    "gather": {
     "logged": 1637964408439
    },
    "jupyter": {
     "outputs_hidden": false,
     "source_hidden": false
    },
    "nteract": {
     "transient": {
      "deleting": false
     }
    }
   },
   "outputs": [],
   "source": [
    "# To use this file in azure, follow the tutorial in the research team documentation. \n",
    "\n",
    "# The cluster name should match the created computation cluster.\n",
    "cluster_name = 'TCLR-tlu-cluster'\n",
    "\n",
    "experiment_name = 'TCLR-cultural-4096-3'\n",
    "\n",
    "# a way to pick which dataset the experiments are run on\n",
    "data_name = 'cultural'\n",
    "\n",
    "# The number of experiments to run. So there would be this number (max_runs) of hyperparameter sets \n",
    "max_runs = 10\n",
    "\n",
    "# The length to use for Longformer\n",
    "max_length = 4096\n",
    "\n",
    "# How many training samples to use at a time. Affects the memory used in CUDA\n",
    "max_memory_size = 1\n",
    "\n",
    "# How many folds to use in k-fold cross validation\n",
    "folds = 3\n",
    "\n",
    "# If enabled, this simply runs a single quick experiment \n",
    "run_once = False\n",
    "\n",
    "param_sampling = RandomParameterSampling( {\n",
    "        '--batch_size': choice([8, 16, 32]),\n",
    "        '--lr': uniform(1e-5, 1e-3),\n",
    "        '--pretrained_lr': uniform(1e-6, 1e-4),\n",
    "        '--weight_decay': uniform(0, 0.001),\n",
    "        '--num_warmup_steps': choice(range(0, 100, 20)),\n",
    "        '--dropout': uniform(0.0, 0.3)\n",
    "    }\n",
    ")"
   ]
  },
  {
   "cell_type": "code",
   "execution_count": 3,
   "metadata": {
    "gather": {
     "logged": 1637964408817
    },
    "jupyter": {
     "outputs_hidden": false,
     "source_hidden": false
    },
    "nteract": {
     "transient": {
      "deleting": false
     }
    }
   },
   "outputs": [],
   "source": [
    "# Create an environment with the used packages\n",
    "TCLR_env = Environment.get(workspace=ws, name=\"AzureML-pytorch-1.9-ubuntu18.04-py37-cuda11-gpu\")\n",
    "\n",
    "# Specify docker steps as a string.\n",
    "dockerfile = r'''\n",
    "FROM mcr.microsoft.com/azureml/openmpi4.1.0-cuda11.1-cudnn8-ubuntu18.04:20211012.v1\n",
    "\n",
    "ENV AZUREML_CONDA_ENVIRONMENT_PATH /azureml-envs/pytorch-1.9\n",
    "\n",
    "# Create conda environment\n",
    "RUN conda create -p $AZUREML_CONDA_ENVIRONMENT_PATH \\\n",
    "    python=3.7 \\\n",
    "    pip=20.2.4 \\\n",
    "    pytorch=1.9.0 \\\n",
    "    torchvision=0.10.0 \\\n",
    "    torchaudio=0.9.0 \\\n",
    "    cudatoolkit=11.1.1 \\\n",
    "    nvidia-apex=0.1.0 \\\n",
    "    transformers \\\n",
    "    scikit-learn \\\n",
    "    pandas \\\n",
    "    tqdm \\\n",
    "    matplotlib \\\n",
    "    -c anaconda -c pytorch -c conda-forge\n",
    "\n",
    "# Prepend path to AzureML conda environment\n",
    "ENV PATH $AZUREML_CONDA_ENVIRONMENT_PATH/bin:$PATH\n",
    "\n",
    "# Install pip dependencies\n",
    "RUN HOROVOD_WITH_PYTORCH=1 \\\n",
    "    pip install 'matplotlib>=3.3,<3.4' \\\n",
    "                'psutil>=5.8,<5.9' \\\n",
    "                'tqdm>=4.59,<4.60' \\\n",
    "                'pandas>=1.1,<1.2' \\\n",
    "                'scipy>=1.5,<1.6' \\\n",
    "                'numpy>=1.10,<1.20' \\\n",
    "                'ipykernel~=6.0' \\\n",
    "                'azureml-core==1.35.0' \\\n",
    "                'azureml-defaults==1.35.0' \\\n",
    "                'azureml-mlflow==1.35.0' \\\n",
    "                'azureml-telemetry==1.35.0' \\\n",
    "                'tensorboard==2.4.0' \\\n",
    "                'tensorflow-gpu==2.4.1' \\\n",
    "                'onnxruntime-gpu>=1.7,<1.8' \\\n",
    "                'horovod[pytorch]==0.21.3' \\\n",
    "                'future==0.17.1' \\\n",
    "                'imblearn' \\\n",
    "                'torch-tb-profiler==0.2.1'\n",
    "\n",
    "\n",
    "# This is needed for mpi to locate libpython\n",
    "ENV LD_LIBRARY_PATH $AZUREML_CONDA_ENVIRONMENT_PATH/lib:$LD_LIBRARY_PATH\n",
    "'''\n",
    "TCLR_env = TCLR_env.clone(\"TCLR_env\")\n",
    "TCLR_env.docker.base_dockerfile = dockerfile\n",
    "TCLR_env.python.user_managed_dependencies=True"
   ]
  },
  {
   "cell_type": "code",
   "execution_count": 4,
   "metadata": {
    "gather": {
     "logged": 1637964409297
    },
    "jupyter": {
     "outputs_hidden": false,
     "source_hidden": false
    },
    "nteract": {
     "transient": {
      "deleting": false
     }
    }
   },
   "outputs": [],
   "source": [
    "cluster=ComputeTarget(workspace=ws, name=cluster_name)"
   ]
  },
  {
   "cell_type": "code",
   "execution_count": 5,
   "metadata": {
    "gather": {
     "logged": 1637964409419
    },
    "jupyter": {
     "outputs_hidden": false,
     "source_hidden": false
    },
    "nteract": {
     "transient": {
      "deleting": false
     }
    }
   },
   "outputs": [],
   "source": [
    "runargs = [\n",
    "                          '--data_name', data_name, \n",
    "                      '--maxlen', max_length, \n",
    "                      '--max_memory_size', max_memory_size,\n",
    "                      '--folds', folds]\n",
    "if run_once:\n",
    "    runargs.append('--once')\n",
    "src = ScriptRunConfig(source_directory='.',\n",
    "                      script='Longformer-CV.py',\n",
    "                      arguments=runargs,\n",
    "                      compute_target=cluster,\n",
    "                      environment=TCLR_env)"
   ]
  },
  {
   "cell_type": "code",
   "execution_count": 6,
   "metadata": {
    "gather": {
     "logged": 1637964409761
    },
    "jupyter": {
     "outputs_hidden": false,
     "source_hidden": false
    },
    "nteract": {
     "transient": {
      "deleting": false
     }
    }
   },
   "outputs": [],
   "source": [
    "\n",
    "exp = Experiment(workspace=ws, name=experiment_name)"
   ]
  },
  {
   "cell_type": "code",
   "execution_count": 7,
   "metadata": {
    "gather": {
     "logged": 1637964409869
    },
    "jupyter": {
     "outputs_hidden": false,
     "source_hidden": false
    },
    "nteract": {
     "transient": {
      "deleting": false
     }
    }
   },
   "outputs": [],
   "source": [
    "\n",
    "early_termination_policy = BanditPolicy(slack_factor=0.15, evaluation_interval=1, delay_evaluation=10)\n",
    "\n",
    "hyperdrive_config = HyperDriveConfig(run_config=src,\n",
    "                                     hyperparameter_sampling=param_sampling, \n",
    "                                     policy=early_termination_policy,\n",
    "                                     primary_metric_name='accuracy',\n",
    "                                     primary_metric_goal=PrimaryMetricGoal.MAXIMIZE,\n",
    "                                     max_total_runs=max_runs,\n",
    "                                     max_concurrent_runs=2)"
   ]
  },
  {
   "cell_type": "code",
   "execution_count": 8,
   "metadata": {
    "gather": {
     "logged": 1637964423012
    },
    "jupyter": {
     "outputs_hidden": false,
     "source_hidden": false
    },
    "nteract": {
     "transient": {
      "deleting": false
     }
    }
   },
   "outputs": [],
   "source": [
    "# start the HyperDrive run\n",
    "hyperdrive_run = exp.submit(hyperdrive_config)"
   ]
  }
 ],
 "metadata": {
  "kernel_info": {
   "name": "python3-azureml"
  },
  "kernelspec": {
   "display_name": "Python 3 (ipykernel)",
   "language": "python",
   "name": "python3"
  },
  "language_info": {
   "codemirror_mode": {
    "name": "ipython",
    "version": 3
   },
   "file_extension": ".py",
   "mimetype": "text/x-python",
   "name": "python",
   "nbconvert_exporter": "python",
   "pygments_lexer": "ipython3",
   "version": "3.9.6"
  },
  "microsoft": {
   "host": {
    "AzureML": {
     "notebookHasBeenCompleted": true
    }
   }
  },
  "nteract": {
   "version": "nteract-front-end@1.0.0"
  }
 },
 "nbformat": 4,
 "nbformat_minor": 2
}

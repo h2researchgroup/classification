{
 "cells": [
  {
   "cell_type": "markdown",
   "metadata": {},
   "source": [
    "# Take sample of tweets based on classification scores for Covid-19 myths\n",
    "\n",
    "@authors: Jaren Haber, Alexander Chen, Kornraphop Kawintiranon<br>\n",
    "@affiliation: Massive Data Institute, McCourt School of Public Policy, Georgetown University<br>\n",
    "@date: November 2, 2020\n",
    "\n",
    "'''\n",
    "Uses classifiers trained on labeled tweets (about a myth vs. not) to select a sample of 180 tweets for labeling on MTurk (280 for weather myth). Data source is tweets with hashtags related to Covid-19. For the first batch using this script, 90% of these selected tweets are predicted to be of the minority class for that myth: e.g., yes on weather, yes on disinfectants, or yes on home remedies. The remaining 10% are from majority class, which are easier to predict in our skewed first batch of data. Future batches may use a more balanced sampling procedure. \n",
    "'''"
   ]
  },
  {
   "cell_type": "markdown",
   "metadata": {},
   "source": [
    "## Initialize"
   ]
  },
  {
   "cell_type": "code",
   "execution_count": 1,
   "metadata": {},
   "outputs": [
    {
     "name": "stderr",
     "output_type": "stream",
     "text": [
      "[nltk_data] Downloading package punkt to /home/ac1975/nltk_data...\n",
      "[nltk_data]   Package punkt is already up-to-date!\n",
      "[nltk_data] Downloading package wordnet to /home/ac1975/nltk_data...\n",
      "[nltk_data]   Package wordnet is already up-to-date!\n"
     ]
    },
    {
     "data": {
      "text/plain": [
       "True"
      ]
     },
     "execution_count": 1,
     "metadata": {},
     "output_type": "execute_result"
    }
   ],
   "source": [
    "# Install anything not already in server\n",
    "#!pip install gcsfs\n",
    "# !pip install nltk\n",
    "# !pip install emoji\n",
    "#!pip install --upgrade scikit-learn # need to update sklearn for Jaren's VM\n",
    "\n",
    "import nltk\n",
    "nltk.download('punkt')\n",
    "nltk.download('wordnet')"
   ]
  },
  {
   "cell_type": "code",
   "execution_count": 2,
   "metadata": {},
   "outputs": [
    {
     "name": "stderr",
     "output_type": "stream",
     "text": [
      "/home/ac1975/anaconda3/lib/python3.7/site-packages/tqdm/std.py:703: FutureWarning: The Panel class is removed from pandas. Accessing it from the top-level namespace will also be removed in the next version\n",
      "  from pandas import Panel\n"
     ]
    }
   ],
   "source": [
    "######################################################\n",
    "# Import libraries\n",
    "######################################################\n",
    "\n",
    "import pandas as pd\n",
    "import numpy as np\n",
    "import re, csv, os\n",
    "from datetime import date\n",
    "from random import sample\n",
    "from collections import Counter\n",
    "import gcsfs # for quick loading of data from gcloud\n",
    "from tqdm import tqdm\n",
    "tqdm.pandas()\n",
    "import time\n",
    "\n",
    "import nltk\n",
    "from nltk import word_tokenize\n",
    "from nltk.corpus import stopwords\n",
    "from nltk.stem import WordNetLemmatizer\n",
    "\n",
    "stemmer = WordNetLemmatizer()\n",
    "\n",
    "from pandas.plotting import scatter_matrix\n",
    "import matplotlib.pyplot as plt\n",
    "\n",
    "import joblib\n",
    "from sklearn.feature_extraction.text import CountVectorizer, TfidfVectorizer\n",
    "\n",
    "import emoji\n",
    "import math"
   ]
  },
  {
   "cell_type": "code",
   "execution_count": 3,
   "metadata": {},
   "outputs": [],
   "source": [
    "######################################################\n",
    "# Define filepaths\n",
    "######################################################\n",
    "\n",
    "bucket_fp = 'gs://project_coronavirus/raw/hashtag/'\n",
    "\n",
    "dis_mod_fp = '../models/tweet_classifier_disinfectants.joblib'\n",
    "rem_mod_fp = '../models/tweet_classifier_home_remedies.joblib'\n",
    "wth_mod_fp = '../models/tweet_classifier_weather.joblib'\n",
    "\n",
    "dis_vec_fp = '../models/vectorizer_disinfectants.joblib'\n",
    "rem_vec_fp = '../models/vectorizer_home_remedies.joblib'\n",
    "wth_vec_fp = '../models/vectorizer_weather.joblib'\n",
    "\n",
    "n_sample = 180\n",
    "thisday = date.today().strftime(\"%d%m%y\")\n",
    "\n",
    "dis_sam_fp = f'../data/myth_disinfectants_sample_{str(n_sample)}_{str(thisday)}.csv'\n",
    "rem_sam_fp = f'../data/myth_home_remedies_sample_{str(n_sample)}_{str(thisday)}.csv'\n",
    "wth_sam_fp = f'../data/myth_weather_sample_{str(n_sample)}_{str(thisday)}.csv'"
   ]
  },
  {
   "cell_type": "code",
   "execution_count": 4,
   "metadata": {},
   "outputs": [],
   "source": [
    "def read_tweets (dirname, \n",
    "                 num_rand_files = 0, \n",
    "                 start_week_num = -1, \n",
    "                 end_week_num = 0, \n",
    "                 levels = 1, \n",
    "                 nrows = 50, \n",
    "                 previous_tweets = [],\n",
    "                 language = 'en'):\n",
    "    \n",
    "    \"\"\"\n",
    "    Read latest Twitter data from JSON files. \n",
    "    Options: take random number of files from each folder, \n",
    "    look only at folders for weeks within specified range, and/or \n",
    "    read files in single folder (1 level) or folder of folders (2 levels).\n",
    "    \n",
    "    Args:\n",
    "        dirname: folder in Google Cloud Compute Server where Twitter JSON files live\n",
    "        num_rand_files: number of random files to draw from each folder. Useful when randomly sampling from files with lots of tweets\n",
    "        start_week_num: first week in range (to take tweets from), inclusive\n",
    "        end_week_num: last week in range (to take tweets from), inclusive\n",
    "        levels: number of folders in hierarchy ('dirname/file1, dirname/file2, etc.' = one level)\n",
    "        nrows: number of tweets to read from file\n",
    "        previous_tweets: list of previous samples to remove duplicate tweets\n",
    "        language: filter to only tweets in this language\n",
    "    Returns:\n",
    "        df: DataFrame with loaded in Twitter data\n",
    "    \"\"\"\n",
    "    \n",
    "    fs = gcsfs.GCSFileSystem(project=\"MDI-1\", token=\"cloud\")\n",
    "    \n",
    "    if levels == 2: # two levels (multiple folders)\n",
    "        files = []\n",
    "        folders = [folder for folder in fs.ls(dirname) \n",
    "                   if folder != dirname \n",
    "                   and os.path.join(\"gs://\", folder) != dirname] # don't keep duplicate folders = same as dirname\n",
    "        \n",
    "        for folder in folders:\n",
    "            # only process folders where: start_week_num < week_number < end_week_num\n",
    "            week_num = int(folder.split('/')[-1][9:]) # get week number: last part of file path, anything after '2020-week'\n",
    "            if week_num < start_week_num or (end_week_num > 0 and week_num > end_week_num):\n",
    "                continue # skip if not in week range\n",
    "            \n",
    "            # for folders of weeks in desired range, get their files\n",
    "            listf = fs.ls(os.path.join(\"gs://\", folder)) # get list of files in this folder\n",
    "            listf = [re.sub(r\"#\", r\"%23\", file) for file in listf] # in each file name, replace '#' with '%23' so pandas can read it\n",
    "            if num_rand_files > 0:\n",
    "                listf = sample(listf, num_rand_files) # get specified number of random files\n",
    "            files.extend(listf) # add each file to list\n",
    "            files = [x for x in files if x.endswith(\".json\") or x.endswith(\".json.gz\")]\n",
    "            \n",
    "    else: # one level (just one folder)\n",
    "        files = fs.ls(dirname)\n",
    "        files = [x for x in files if x.endswith(\".json\") or x.endswith(\".json.gz\")]\n",
    "        if num_rand_files > 0:\n",
    "            files = sample(listf, num_rand_files) # get specified number of random files\n",
    "    \n",
    "    print(f\"Reading in tweets from {len(files)} JSON files...\")\n",
    "    \n",
    "    # Load and merge files as DFs\n",
    "    dfs = []\n",
    "    for f in tqdm(files):\n",
    "        #print(\"gs://{}\".format(f))\n",
    "        thisdf = pd.read_json(\"gs://{}\".format(f), nrows = nrows, lines=True)\n",
    "        if 'lang' in thisdf.columns:\n",
    "            thisdf['language'] = thisdf['lang'] # funnel 'lang' to 'language' column\n",
    "            thisdf.drop(columns = 'lang', inplace = True) # erase 'lang' column (now a duplicate)\n",
    "        thisdf = thisdf[(thisdf['language'] == 'null') | (thisdf['language']==language)] # Filter to only tweets in language\n",
    "        dfs.append(thisdf)\n",
    "    df = pd.concat(dfs, ignore_index = True)\n",
    "    df['id'] = df['id'].astype(str)\n",
    "    \n",
    "    # Remove duplicate tweets\n",
    "    for id in previous_tweets:\n",
    "        df = df[df['id'] != id] \n",
    "    \n",
    "    return df"
   ]
  },
  {
   "cell_type": "markdown",
   "metadata": {},
   "source": [
    "## Load & inspect data"
   ]
  },
  {
   "cell_type": "code",
   "execution_count": 5,
   "metadata": {},
   "outputs": [],
   "source": [
    "######################################################\n",
    "# Load ML models for classifying COVID-19 myths in tweets\n",
    "######################################################\n",
    "\n",
    "dis_mod = joblib.load(dis_mod_fp)\n",
    "rem_mod = joblib.load(rem_mod_fp)\n",
    "wth_mod = joblib.load(wth_mod_fp)"
   ]
  },
  {
   "cell_type": "code",
   "execution_count": 6,
   "metadata": {},
   "outputs": [],
   "source": [
    "######################################################\n",
    "# Load vectorizers to keep vocab consistent with training data\n",
    "######################################################\n",
    "\n",
    "dis_vec = joblib.load(dis_vec_fp)\n",
    "rem_vec = joblib.load(rem_vec_fp)\n",
    "wth_vec = joblib.load(wth_vec_fp)"
   ]
  },
  {
   "cell_type": "code",
   "execution_count": 7,
   "metadata": {},
   "outputs": [
    {
     "data": {
      "text/html": [
       "<div>\n",
       "<style scoped>\n",
       "    .dataframe tbody tr th:only-of-type {\n",
       "        vertical-align: middle;\n",
       "    }\n",
       "\n",
       "    .dataframe tbody tr th {\n",
       "        vertical-align: top;\n",
       "    }\n",
       "\n",
       "    .dataframe thead th {\n",
       "        text-align: right;\n",
       "    }\n",
       "</style>\n",
       "<table border=\"1\" class=\"dataframe\">\n",
       "  <thead>\n",
       "    <tr style=\"text-align: right;\">\n",
       "      <th></th>\n",
       "      <th>id</th>\n",
       "    </tr>\n",
       "  </thead>\n",
       "  <tbody>\n",
       "    <tr>\n",
       "      <th>0</th>\n",
       "      <td>full_text_censored</td>\n",
       "    </tr>\n",
       "    <tr>\n",
       "      <th>1</th>\n",
       "      <td>#coronavirus #coronarvirusitalia \\n!!!   Few r...</td>\n",
       "    </tr>\n",
       "    <tr>\n",
       "      <th>2</th>\n",
       "      <td>Clorox Healthcare Bleach Germicidal Wipes, 50 ...</td>\n",
       "    </tr>\n",
       "    <tr>\n",
       "      <th>3</th>\n",
       "      <td>@USER01 #coronavirus is man made, something we...</td>\n",
       "    </tr>\n",
       "    <tr>\n",
       "      <th>4</th>\n",
       "      <td>@USER01 #JeffBezos knows what's coming.\\n#Chin...</td>\n",
       "    </tr>\n",
       "    <tr>\n",
       "      <th>...</th>\n",
       "      <td>...</td>\n",
       "    </tr>\n",
       "    <tr>\n",
       "      <th>1318</th>\n",
       "      <td>Thanks to the Sarajevo @USER office I still ge...</td>\n",
       "    </tr>\n",
       "    <tr>\n",
       "      <th>1319</th>\n",
       "      <td>Officially, USA  has 650+ confirmed #COVID cas...</td>\n",
       "    </tr>\n",
       "    <tr>\n",
       "      <th>1320</th>\n",
       "      <td>@USER What's Logic ???\\nWe are (india) hot wea...</td>\n",
       "    </tr>\n",
       "    <tr>\n",
       "      <th>1321</th>\n",
       "      <td>How Will Warm Weather Affect The Spread Of COV...</td>\n",
       "    </tr>\n",
       "    <tr>\n",
       "      <th>1322</th>\n",
       "      <td>@USER @USER Why aren’t we talking about the “L...</td>\n",
       "    </tr>\n",
       "  </tbody>\n",
       "</table>\n",
       "<p>1323 rows × 1 columns</p>\n",
       "</div>"
      ],
      "text/plain": [
       "                                                     id\n",
       "0                                    full_text_censored\n",
       "1     #coronavirus #coronarvirusitalia \\n!!!   Few r...\n",
       "2     Clorox Healthcare Bleach Germicidal Wipes, 50 ...\n",
       "3     @USER01 #coronavirus is man made, something we...\n",
       "4     @USER01 #JeffBezos knows what's coming.\\n#Chin...\n",
       "...                                                 ...\n",
       "1318  Thanks to the Sarajevo @USER office I still ge...\n",
       "1319  Officially, USA  has 650+ confirmed #COVID cas...\n",
       "1320  @USER What's Logic ???\\nWe are (india) hot wea...\n",
       "1321  How Will Warm Weather Affect The Spread Of COV...\n",
       "1322  @USER @USER Why aren’t we talking about the “L...\n",
       "\n",
       "[1323 rows x 1 columns]"
      ]
     },
     "execution_count": 7,
     "metadata": {},
     "output_type": "execute_result"
    }
   ],
   "source": [
    "######################################################\n",
    "# Load previous samples for duplicate check\n",
    "######################################################\n",
    "previous_fp = ['../data/myth_disinfectants_sample-440.csv',\n",
    "               '../data/myth_home_remedies_sample-440.csv',\n",
    "               '../data/myth_weather_sample-440.csv']\n",
    "previous_dfs = []\n",
    "for fp in previous_fp:\n",
    "    previous_dfs.append(pd.read_csv(fp, names=['id']))\n",
    "previous_ids = pd.concat(previous_dfs, ignore_index = True)\n",
    "previous_ids"
   ]
  },
  {
   "cell_type": "code",
   "execution_count": 8,
   "metadata": {
    "scrolled": false
   },
   "outputs": [
    {
     "name": "stderr",
     "output_type": "stream",
     "text": [
      "\r",
      "  0%|          | 0/21 [00:00<?, ?it/s]"
     ]
    },
    {
     "name": "stdout",
     "output_type": "stream",
     "text": [
      "Reading in tweets from 21 JSON files...\n"
     ]
    },
    {
     "name": "stderr",
     "output_type": "stream",
     "text": [
      "100%|██████████| 21/21 [02:24<00:00,  6.86s/it]\n"
     ]
    },
    {
     "name": "stdout",
     "output_type": "stream",
     "text": [
      "Number of rows (tweets) and cols in DF: (5407, 62)\n",
      "\n",
      "Columns in tweets DF:\n",
      " Index(['created_at', 'id', 'id_str', 'full_text', 'truncated',\n",
      "       'display_text_range', 'entities', 'metadata', 'source',\n",
      "       'in_reply_to_status_id', 'in_reply_to_status_id_str',\n",
      "       'in_reply_to_user_id', 'in_reply_to_user_id_str',\n",
      "       'in_reply_to_screen_name', 'user', 'geo', 'coordinates', 'place',\n",
      "       'contributors', 'retweeted_status', 'is_quote_status', 'retweet_count',\n",
      "       'favorite_count', 'favorited', 'retweeted', 'possibly_sensitive',\n",
      "       'extended_entities', 'quoted_status_id', 'quoted_status_id_str',\n",
      "       'quoted_status', 'language', 'conversation_id', 'date', 'time',\n",
      "       'timezone', 'user_id', 'username', 'name', 'tweet', 'mentions', 'urls',\n",
      "       'photos', 'replies_count', 'retweets_count', 'likes_count', 'hashtags',\n",
      "       'cashtags', 'link', 'retweet', 'quote_url', 'video', 'thumbnail',\n",
      "       'near', 'user_rt_id', 'user_rt', 'retweet_id', 'reply_to',\n",
      "       'retweet_date', 'translate', 'trans_src', 'trans_dest',\n",
      "       'withheld_in_countries'],\n",
      "      dtype='object')\n",
      "\n",
      "Example tweet 1:\n",
      " RT @SareesIndia: Art silk blue saree teamed up with a pink blouse embellished with border, resham, stone, thread, zari.\n",
      ".\n",
      ".\n",
      "Price: US$ 108.…\n",
      "\n",
      "Example tweet 2:\n",
      " Sunday Sewing - Hemming Saris and hoping for a speedy return to bringing them to your EOI, to dress you up like Indian Princesses! 🥻👸🏽 🥰 #Sari #dressup #Indian #CulturalActivity #actividadesculturales #english #Indianculture #Bollywoodbeauty #EEOOII #eeooii1 #Missingmywork 💙 https://t.co/OwGciA12QX\n",
      "\n"
     ]
    },
    {
     "data": {
      "text/html": [
       "<div>\n",
       "<style scoped>\n",
       "    .dataframe tbody tr th:only-of-type {\n",
       "        vertical-align: middle;\n",
       "    }\n",
       "\n",
       "    .dataframe tbody tr th {\n",
       "        vertical-align: top;\n",
       "    }\n",
       "\n",
       "    .dataframe thead th {\n",
       "        text-align: right;\n",
       "    }\n",
       "</style>\n",
       "<table border=\"1\" class=\"dataframe\">\n",
       "  <thead>\n",
       "    <tr style=\"text-align: right;\">\n",
       "      <th></th>\n",
       "      <th>created_at</th>\n",
       "      <th>id</th>\n",
       "      <th>id_str</th>\n",
       "      <th>full_text</th>\n",
       "      <th>truncated</th>\n",
       "      <th>display_text_range</th>\n",
       "      <th>entities</th>\n",
       "      <th>metadata</th>\n",
       "      <th>source</th>\n",
       "      <th>in_reply_to_status_id</th>\n",
       "      <th>...</th>\n",
       "      <th>near</th>\n",
       "      <th>user_rt_id</th>\n",
       "      <th>user_rt</th>\n",
       "      <th>retweet_id</th>\n",
       "      <th>reply_to</th>\n",
       "      <th>retweet_date</th>\n",
       "      <th>translate</th>\n",
       "      <th>trans_src</th>\n",
       "      <th>trans_dest</th>\n",
       "      <th>withheld_in_countries</th>\n",
       "    </tr>\n",
       "  </thead>\n",
       "  <tbody>\n",
       "    <tr>\n",
       "      <th>0</th>\n",
       "      <td>2020-04-05 03:01:16+00:00</td>\n",
       "      <td>1246633976594345986</td>\n",
       "      <td>1.246634e+18</td>\n",
       "      <td>RT @SareesIndia: Art silk blue saree teamed up...</td>\n",
       "      <td>False</td>\n",
       "      <td>[0, 140]</td>\n",
       "      <td>{'hashtags': [], 'symbols': [], 'user_mentions...</td>\n",
       "      <td>{'iso_language_code': 'en', 'result_type': 're...</td>\n",
       "      <td>&lt;a href=\"http://twitter.com/download/iphone\" r...</td>\n",
       "      <td>NaN</td>\n",
       "      <td>...</td>\n",
       "      <td>NaN</td>\n",
       "      <td>NaN</td>\n",
       "      <td>NaN</td>\n",
       "      <td>NaN</td>\n",
       "      <td>NaN</td>\n",
       "      <td>NaN</td>\n",
       "      <td>NaN</td>\n",
       "      <td>NaN</td>\n",
       "      <td>NaN</td>\n",
       "      <td>NaN</td>\n",
       "    </tr>\n",
       "    <tr>\n",
       "      <th>1</th>\n",
       "      <td>2020-04-05 02:47:51+00:00</td>\n",
       "      <td>1246630603941871616</td>\n",
       "      <td>1.246631e+18</td>\n",
       "      <td>RT @SareesIndia: Banarasi silk orange saree te...</td>\n",
       "      <td>False</td>\n",
       "      <td>[0, 139]</td>\n",
       "      <td>{'hashtags': [], 'symbols': [], 'user_mentions...</td>\n",
       "      <td>{'iso_language_code': 'en', 'result_type': 're...</td>\n",
       "      <td>&lt;a href=\"http://twitter.com/download/iphone\" r...</td>\n",
       "      <td>NaN</td>\n",
       "      <td>...</td>\n",
       "      <td>NaN</td>\n",
       "      <td>NaN</td>\n",
       "      <td>NaN</td>\n",
       "      <td>NaN</td>\n",
       "      <td>NaN</td>\n",
       "      <td>NaN</td>\n",
       "      <td>NaN</td>\n",
       "      <td>NaN</td>\n",
       "      <td>NaN</td>\n",
       "      <td>NaN</td>\n",
       "    </tr>\n",
       "    <tr>\n",
       "      <th>2</th>\n",
       "      <td>2020-04-05 01:57:32+00:00</td>\n",
       "      <td>1246617940708986880</td>\n",
       "      <td>1.246618e+18</td>\n",
       "      <td>RT @SareesIndia: Banarasi silk grey saree team...</td>\n",
       "      <td>False</td>\n",
       "      <td>[0, 140]</td>\n",
       "      <td>{'hashtags': [], 'symbols': [], 'user_mentions...</td>\n",
       "      <td>{'iso_language_code': 'en', 'result_type': 're...</td>\n",
       "      <td>&lt;a href=\"http://twitter.com/download/iphone\" r...</td>\n",
       "      <td>NaN</td>\n",
       "      <td>...</td>\n",
       "      <td>NaN</td>\n",
       "      <td>NaN</td>\n",
       "      <td>NaN</td>\n",
       "      <td>NaN</td>\n",
       "      <td>NaN</td>\n",
       "      <td>NaN</td>\n",
       "      <td>NaN</td>\n",
       "      <td>NaN</td>\n",
       "      <td>NaN</td>\n",
       "      <td>NaN</td>\n",
       "    </tr>\n",
       "    <tr>\n",
       "      <th>3</th>\n",
       "      <td>2020-04-05 01:30:12+00:00</td>\n",
       "      <td>1246611060959907842</td>\n",
       "      <td>1.246611e+18</td>\n",
       "      <td>Banarasi silk orange saree teamed up with a ma...</td>\n",
       "      <td>False</td>\n",
       "      <td>[0, 261]</td>\n",
       "      <td>{'hashtags': [{'text': 'indianweddingsaree', '...</td>\n",
       "      <td>{'iso_language_code': 'en', 'result_type': 're...</td>\n",
       "      <td>&lt;a href=\"https://www.hootsuite.com\" rel=\"nofol...</td>\n",
       "      <td>NaN</td>\n",
       "      <td>...</td>\n",
       "      <td>NaN</td>\n",
       "      <td>NaN</td>\n",
       "      <td>NaN</td>\n",
       "      <td>NaN</td>\n",
       "      <td>NaN</td>\n",
       "      <td>NaN</td>\n",
       "      <td>NaN</td>\n",
       "      <td>NaN</td>\n",
       "      <td>NaN</td>\n",
       "      <td>NaN</td>\n",
       "    </tr>\n",
       "    <tr>\n",
       "      <th>4</th>\n",
       "      <td>2020-04-05 05:15:51+00:00</td>\n",
       "      <td>1246667846316363776</td>\n",
       "      <td>1.246668e+18</td>\n",
       "      <td>I have successfully completed #SARI Treatment ...</td>\n",
       "      <td>False</td>\n",
       "      <td>[0, 121]</td>\n",
       "      <td>{'hashtags': [{'text': 'SARI', 'indices': [30,...</td>\n",
       "      <td>{'iso_language_code': 'en', 'result_type': 're...</td>\n",
       "      <td>&lt;a href=\"http://twitter.com/download/android\" ...</td>\n",
       "      <td>NaN</td>\n",
       "      <td>...</td>\n",
       "      <td>NaN</td>\n",
       "      <td>NaN</td>\n",
       "      <td>NaN</td>\n",
       "      <td>NaN</td>\n",
       "      <td>NaN</td>\n",
       "      <td>NaN</td>\n",
       "      <td>NaN</td>\n",
       "      <td>NaN</td>\n",
       "      <td>NaN</td>\n",
       "      <td>NaN</td>\n",
       "    </tr>\n",
       "  </tbody>\n",
       "</table>\n",
       "<p>5 rows × 62 columns</p>\n",
       "</div>"
      ],
      "text/plain": [
       "                 created_at                   id        id_str  \\\n",
       "0 2020-04-05 03:01:16+00:00  1246633976594345986  1.246634e+18   \n",
       "1 2020-04-05 02:47:51+00:00  1246630603941871616  1.246631e+18   \n",
       "2 2020-04-05 01:57:32+00:00  1246617940708986880  1.246618e+18   \n",
       "3 2020-04-05 01:30:12+00:00  1246611060959907842  1.246611e+18   \n",
       "4 2020-04-05 05:15:51+00:00  1246667846316363776  1.246668e+18   \n",
       "\n",
       "                                           full_text truncated  \\\n",
       "0  RT @SareesIndia: Art silk blue saree teamed up...     False   \n",
       "1  RT @SareesIndia: Banarasi silk orange saree te...     False   \n",
       "2  RT @SareesIndia: Banarasi silk grey saree team...     False   \n",
       "3  Banarasi silk orange saree teamed up with a ma...     False   \n",
       "4  I have successfully completed #SARI Treatment ...     False   \n",
       "\n",
       "  display_text_range                                           entities  \\\n",
       "0           [0, 140]  {'hashtags': [], 'symbols': [], 'user_mentions...   \n",
       "1           [0, 139]  {'hashtags': [], 'symbols': [], 'user_mentions...   \n",
       "2           [0, 140]  {'hashtags': [], 'symbols': [], 'user_mentions...   \n",
       "3           [0, 261]  {'hashtags': [{'text': 'indianweddingsaree', '...   \n",
       "4           [0, 121]  {'hashtags': [{'text': 'SARI', 'indices': [30,...   \n",
       "\n",
       "                                            metadata  \\\n",
       "0  {'iso_language_code': 'en', 'result_type': 're...   \n",
       "1  {'iso_language_code': 'en', 'result_type': 're...   \n",
       "2  {'iso_language_code': 'en', 'result_type': 're...   \n",
       "3  {'iso_language_code': 'en', 'result_type': 're...   \n",
       "4  {'iso_language_code': 'en', 'result_type': 're...   \n",
       "\n",
       "                                              source  in_reply_to_status_id  \\\n",
       "0  <a href=\"http://twitter.com/download/iphone\" r...                    NaN   \n",
       "1  <a href=\"http://twitter.com/download/iphone\" r...                    NaN   \n",
       "2  <a href=\"http://twitter.com/download/iphone\" r...                    NaN   \n",
       "3  <a href=\"https://www.hootsuite.com\" rel=\"nofol...                    NaN   \n",
       "4  <a href=\"http://twitter.com/download/android\" ...                    NaN   \n",
       "\n",
       "   ...  near  user_rt_id  user_rt retweet_id reply_to retweet_date translate  \\\n",
       "0  ...   NaN         NaN      NaN        NaN      NaN          NaN       NaN   \n",
       "1  ...   NaN         NaN      NaN        NaN      NaN          NaN       NaN   \n",
       "2  ...   NaN         NaN      NaN        NaN      NaN          NaN       NaN   \n",
       "3  ...   NaN         NaN      NaN        NaN      NaN          NaN       NaN   \n",
       "4  ...   NaN         NaN      NaN        NaN      NaN          NaN       NaN   \n",
       "\n",
       "  trans_src  trans_dest withheld_in_countries  \n",
       "0       NaN         NaN                   NaN  \n",
       "1       NaN         NaN                   NaN  \n",
       "2       NaN         NaN                   NaN  \n",
       "3       NaN         NaN                   NaN  \n",
       "4       NaN         NaN                   NaN  \n",
       "\n",
       "[5 rows x 62 columns]"
      ]
     },
     "execution_count": 8,
     "metadata": {},
     "output_type": "execute_result"
    }
   ],
   "source": [
    "######################################################\n",
    "# Load and inspect the data\n",
    "######################################################\n",
    "\n",
    "df = read_tweets(bucket_fp, \n",
    "                 num_rand_files = 1, \n",
    "                 start_week_num = 14, \n",
    "                 end_week_num = 35, \n",
    "                 levels = 2, \n",
    "                 nrows = 1000,\n",
    "                 previous_tweets = previous_ids,\n",
    "                 language='en')\n",
    "\n",
    "print('Number of rows (tweets) and cols in DF:', str(df.shape))\n",
    "print()\n",
    "print('Columns in tweets DF:\\n', str(df.columns))\n",
    "print()\n",
    "\n",
    "# See examples of two tweets. \n",
    "# Have usernames and URLs already been replaced?\n",
    "print(\"Example tweet 1:\\n\", df['full_text'].iloc[0])\n",
    "print()\n",
    "print(\"Example tweet 2:\\n\", df['full_text'].iloc[10])\n",
    "print()\n",
    "\n",
    "df.head(5)"
   ]
  },
  {
   "cell_type": "markdown",
   "metadata": {},
   "source": [
    "## Preprocess text data"
   ]
  },
  {
   "cell_type": "code",
   "execution_count": 9,
   "metadata": {},
   "outputs": [],
   "source": [
    "punc_pattern = r\"[\\p{P}\\p{S}](?<![@#\\'\\/:])\""
   ]
  },
  {
   "cell_type": "code",
   "execution_count": 10,
   "metadata": {
    "scrolled": true
   },
   "outputs": [
    {
     "name": "stderr",
     "output_type": "stream",
     "text": [
      "\r",
      "  0%|          | 0/5407 [00:00<?, ?it/s]"
     ]
    },
    {
     "name": "stdout",
     "output_type": "stream",
     "text": [
      "Preprocessing tweets...\n"
     ]
    },
    {
     "name": "stderr",
     "output_type": "stream",
     "text": [
      "100%|██████████| 5407/5407 [00:03<00:00, 1698.01it/s]\n"
     ]
    }
   ],
   "source": [
    "######################################################\n",
    "# Tweet Preprocessing\n",
    "######################################################\n",
    "\n",
    "def process_tweets(tweet):\n",
    "    '''\n",
    "    Preprocesses raw text of a tweet, skipping any retweets. \n",
    "    Steps: lower-casing; removing punctuation, newlines, URLs, usernames, and emojis;\n",
    "    stripping whitespace, replacing hashtags, and finally, lemmatization.\n",
    "    \n",
    "    args:\n",
    "        tweet: raw text of a tweet\n",
    "    \n",
    "    returns:\n",
    "        string: cleaned tweet text\n",
    "    '''\n",
    "    \n",
    "    # Skip retweets and non-strings\n",
    "    retweet_pattern = r'^RT\\s+' # recognize retweets by starting with 'RT'\n",
    "    if not isinstance(tweet, str) or re.search(retweet_pattern, tweet):\n",
    "        return ''\n",
    "    \n",
    "    # Convert to lowercase\n",
    "    tweet = tweet.lower()\n",
    "    \n",
    "#     # Remove punctuation with regex: match all punctuation (\\p{P}) and symbols (\\p{S}), \n",
    "#     # then check that it is not a wasn't a hashtag or @-symbol using a negative look-behind.\n",
    "#     # Source: https://github.com/georgetown-mdi/processing-jobs/blob/master/pyspark/shared/text_helpers.py\n",
    "#     punc_pattern = r\"[\\\\p{P}\\\\p{S}](?<![@#\\'\\/:])\"\n",
    "#     tweet = re.sub(punc_pattern, \"\", tweet)   \n",
    "    \n",
    "    # Repair hashtag and remove newline character\n",
    "    # from text_helpers.tweet_text_cleanup\n",
    "    tweet = tweet.replace(\"# \", \"#\")\n",
    "    tweet = tweet.replace(\"\\n\", \" \")\n",
    "    \n",
    "    # remove URLs and @mentions\n",
    "    # Simple regular expression to match URLs starting with `https` or `http`\n",
    "    # More complex regex an be found here: https://mathiasbynens.be/demo/url-regex\n",
    "    url_regex = r\"https?://\\S*\"\n",
    "    # Regex to match mentions\n",
    "    mention_regex = r\"@\\S*\"\n",
    "    tweet = re.sub(url_regex, \"\", tweet)\n",
    "    tweet = re.sub(mention_regex, \"\", tweet)\n",
    "        \n",
    "    # Remove additional white spaces\n",
    "    whitespace_pattern = r'\\s+'\n",
    "    tweet = re.sub(whitespace_pattern, ' ', tweet) # strip whitespaces in between words\n",
    "    tweet = tweet.strip() # strip whitespaces at start & end\n",
    "    \n",
    "    # Replace #word with word\n",
    "    tweet = re.sub(r'#([^\\s]+)', r'\\1', tweet)\n",
    "    \n",
    "    # Remove emojis\n",
    "    tweet = emoji.get_emoji_regexp().sub(u'', tweet)\n",
    "    \n",
    "    # Lemmatization\n",
    "    tweet = tweet.split()\n",
    "    tweet = ' '.join([stemmer.lemmatize(word) for word in tweet])\n",
    "    \n",
    "    \n",
    "    return tweet\n",
    "\n",
    "print(\"Preprocessing tweets...\")\n",
    "df['text_cleaned'] = df['full_text'].progress_apply(lambda x: process_tweets(x))\n",
    "df = df[df['text_cleaned']!=''] # Filter to only non-empty text_cleaned tweets\n",
    "df.reset_index(inplace=True)"
   ]
  },
  {
   "cell_type": "code",
   "execution_count": 11,
   "metadata": {},
   "outputs": [
    {
     "name": "stdout",
     "output_type": "stream",
     "text": [
      "Example tweet 1 (cleaned):\n",
      " banarasi silk orange saree teamed up with a matching blouse beautified with embroidered, weaving. . . price: us$ 100.10 . . product code: 1639229 . . . indianweddingsaree ethnicwear traditional saree sari womenfashion womendress indiandress indianstyle\n",
      "\n",
      "Example tweet 2 (cleaned):\n",
      " pineapple express - \"costume choice 21\" (26 january 2020) photo by costumechoice nemlesss sari suisui idol hiphop rap hardcore tsuyama okayama japan コスチョイ ネムレス 瑳里 酔酔 ヒップホップ ラップ ハードコア 津山…\n",
      "\n"
     ]
    }
   ],
   "source": [
    "# Take a look at two (probably different) tweets post-preprocessing\n",
    "print(\"Example tweet 1 (cleaned):\\n\", df['text_cleaned'].iloc[0])\n",
    "print()\n",
    "print(\"Example tweet 2 (cleaned):\\n\", df['text_cleaned'].iloc[10])\n",
    "print()"
   ]
  },
  {
   "cell_type": "code",
   "execution_count": 12,
   "metadata": {
    "scrolled": true
   },
   "outputs": [
    {
     "name": "stderr",
     "output_type": "stream",
     "text": [
      " 25%|██▌       | 411/1631 [00:00<00:00, 4109.89it/s]"
     ]
    },
    {
     "name": "stdout",
     "output_type": "stream",
     "text": [
      "Tokenizing words for counting purposes...\n"
     ]
    },
    {
     "name": "stderr",
     "output_type": "stream",
     "text": [
      "100%|██████████| 1631/1631 [00:00<00:00, 4010.24it/s]"
     ]
    },
    {
     "name": "stdout",
     "output_type": "stream",
     "text": [
      "Vocabulary size for preprocessed tweets: 7584\n",
      "20 most frequent words in cleaned tweets:\n"
     ]
    },
    {
     "name": "stderr",
     "output_type": "stream",
     "text": [
      "\n"
     ]
    },
    {
     "data": {
      "text/plain": [
       "[('.', 1550),\n",
       " ('the', 1449),\n",
       " (',', 1020),\n",
       " ('to', 943),\n",
       " ('coronavirus', 918),\n",
       " ('in', 763),\n",
       " ('of', 718),\n",
       " ('a', 705),\n",
       " ('covid19', 646),\n",
       " ('and', 553),\n",
       " (':', 502),\n",
       " ('is', 496),\n",
       " ('for', 377),\n",
       " ('2019ncov', 352),\n",
       " ('!', 343),\n",
       " ('wuhan', 342),\n",
       " ('it', 326),\n",
       " ('?', 307),\n",
       " ('covid', 277),\n",
       " ('china', 257)]"
      ]
     },
     "execution_count": 12,
     "metadata": {},
     "output_type": "execute_result"
    }
   ],
   "source": [
    "# Check out vocab size after cleaning\n",
    "# Add words from each cleaned tweet to empty list:\n",
    "tweet_tokens_cleaned = []\n",
    "print(\"Tokenizing words for counting purposes...\")\n",
    "df['text_cleaned'].progress_apply(lambda x: tweet_tokens_cleaned.extend(word_tokenize(x))) # add each word to tokens list\n",
    "\n",
    "print('Vocabulary size for preprocessed tweets:', str(len(set(tweet_tokens_cleaned))))\n",
    "\n",
    "# Check out most frequent words in preprocessed text\n",
    "freq = Counter(tweet_tokens_cleaned)\n",
    "print('20 most frequent words in cleaned tweets:')\n",
    "freq.most_common(20)"
   ]
  },
  {
   "cell_type": "code",
   "execution_count": 13,
   "metadata": {},
   "outputs": [
    {
     "data": {
      "text/html": [
       "<div>\n",
       "<style scoped>\n",
       "    .dataframe tbody tr th:only-of-type {\n",
       "        vertical-align: middle;\n",
       "    }\n",
       "\n",
       "    .dataframe tbody tr th {\n",
       "        vertical-align: top;\n",
       "    }\n",
       "\n",
       "    .dataframe thead th {\n",
       "        text-align: right;\n",
       "    }\n",
       "</style>\n",
       "<table border=\"1\" class=\"dataframe\">\n",
       "  <thead>\n",
       "    <tr style=\"text-align: right;\">\n",
       "      <th></th>\n",
       "      <th>id</th>\n",
       "      <th>created_at</th>\n",
       "      <th>full_text</th>\n",
       "      <th>text_cleaned</th>\n",
       "    </tr>\n",
       "  </thead>\n",
       "  <tbody>\n",
       "    <tr>\n",
       "      <th>0</th>\n",
       "      <td>1246611060959907842</td>\n",
       "      <td>2020-04-05 01:30:12+00:00</td>\n",
       "      <td>Banarasi silk orange saree teamed up with a ma...</td>\n",
       "      <td>banarasi silk orange saree teamed up with a ma...</td>\n",
       "    </tr>\n",
       "    <tr>\n",
       "      <th>1</th>\n",
       "      <td>1246667846316363776</td>\n",
       "      <td>2020-04-05 05:15:51+00:00</td>\n",
       "      <td>I have successfully completed #SARI Treatment ...</td>\n",
       "      <td>i have successfully completed sari treatment f...</td>\n",
       "    </tr>\n",
       "    <tr>\n",
       "      <th>2</th>\n",
       "      <td>1246643111490662402</td>\n",
       "      <td>2020-04-05 03:37:33+00:00</td>\n",
       "      <td>Pineapple Express - \"Costume Choice 21\" (26 Ja...</td>\n",
       "      <td>pineapple express - \"costume choice 21\" (26 ja...</td>\n",
       "    </tr>\n",
       "    <tr>\n",
       "      <th>3</th>\n",
       "      <td>1246641151311884290</td>\n",
       "      <td>2020-04-05 03:29:46+00:00</td>\n",
       "      <td>One of the most dangerous animals in the world...</td>\n",
       "      <td>one of the most dangerous animal in the world....</td>\n",
       "    </tr>\n",
       "    <tr>\n",
       "      <th>4</th>\n",
       "      <td>1246742520526069760</td>\n",
       "      <td>2020-04-05 10:12:34+00:00</td>\n",
       "      <td>Best 14 sarees for summer\\n#sarees #stylishsar...</td>\n",
       "      <td>best 14 saree for summer saree stylishsarees s...</td>\n",
       "    </tr>\n",
       "    <tr>\n",
       "      <th>...</th>\n",
       "      <td>...</td>\n",
       "      <td>...</td>\n",
       "      <td>...</td>\n",
       "      <td>...</td>\n",
       "    </tr>\n",
       "    <tr>\n",
       "      <th>1626</th>\n",
       "      <td>1296591229799415808</td>\n",
       "      <td>2020-08-20 23:33:33+00:00</td>\n",
       "      <td>In the news: Michigan reports 19 new coronavir...</td>\n",
       "      <td>in the news: michigan report 19 new coronaviru...</td>\n",
       "    </tr>\n",
       "    <tr>\n",
       "      <th>1627</th>\n",
       "      <td>1296591228855660544</td>\n",
       "      <td>2020-08-20 23:33:33+00:00</td>\n",
       "      <td>In the news: Coronavirus websites usually go o...</td>\n",
       "      <td>in the news: coronavirus website usually go ov...</td>\n",
       "    </tr>\n",
       "    <tr>\n",
       "      <th>1628</th>\n",
       "      <td>1296591227815489536</td>\n",
       "      <td>2020-08-20 23:33:32+00:00</td>\n",
       "      <td>In the news: 'COVID-geddon'? A look at the due...</td>\n",
       "      <td>in the news: 'covid-geddon'? a look at the due...</td>\n",
       "    </tr>\n",
       "    <tr>\n",
       "      <th>1629</th>\n",
       "      <td>1296591226834046976</td>\n",
       "      <td>2020-08-20 23:33:32+00:00</td>\n",
       "      <td>In the news: Swab, Spit Or Stay Home? A Wide V...</td>\n",
       "      <td>in the news: swab, spit or stay home? a wide v...</td>\n",
       "    </tr>\n",
       "    <tr>\n",
       "      <th>1630</th>\n",
       "      <td>1296591225605066753</td>\n",
       "      <td>2020-08-20 23:33:32+00:00</td>\n",
       "      <td>In the news: Massachusetts Courthouse Closes A...</td>\n",
       "      <td>in the news: massachusetts courthouse close af...</td>\n",
       "    </tr>\n",
       "  </tbody>\n",
       "</table>\n",
       "<p>1631 rows × 4 columns</p>\n",
       "</div>"
      ],
      "text/plain": [
       "                       id                created_at  \\\n",
       "0     1246611060959907842 2020-04-05 01:30:12+00:00   \n",
       "1     1246667846316363776 2020-04-05 05:15:51+00:00   \n",
       "2     1246643111490662402 2020-04-05 03:37:33+00:00   \n",
       "3     1246641151311884290 2020-04-05 03:29:46+00:00   \n",
       "4     1246742520526069760 2020-04-05 10:12:34+00:00   \n",
       "...                   ...                       ...   \n",
       "1626  1296591229799415808 2020-08-20 23:33:33+00:00   \n",
       "1627  1296591228855660544 2020-08-20 23:33:33+00:00   \n",
       "1628  1296591227815489536 2020-08-20 23:33:32+00:00   \n",
       "1629  1296591226834046976 2020-08-20 23:33:32+00:00   \n",
       "1630  1296591225605066753 2020-08-20 23:33:32+00:00   \n",
       "\n",
       "                                              full_text  \\\n",
       "0     Banarasi silk orange saree teamed up with a ma...   \n",
       "1     I have successfully completed #SARI Treatment ...   \n",
       "2     Pineapple Express - \"Costume Choice 21\" (26 Ja...   \n",
       "3     One of the most dangerous animals in the world...   \n",
       "4     Best 14 sarees for summer\\n#sarees #stylishsar...   \n",
       "...                                                 ...   \n",
       "1626  In the news: Michigan reports 19 new coronavir...   \n",
       "1627  In the news: Coronavirus websites usually go o...   \n",
       "1628  In the news: 'COVID-geddon'? A look at the due...   \n",
       "1629  In the news: Swab, Spit Or Stay Home? A Wide V...   \n",
       "1630  In the news: Massachusetts Courthouse Closes A...   \n",
       "\n",
       "                                           text_cleaned  \n",
       "0     banarasi silk orange saree teamed up with a ma...  \n",
       "1     i have successfully completed sari treatment f...  \n",
       "2     pineapple express - \"costume choice 21\" (26 ja...  \n",
       "3     one of the most dangerous animal in the world....  \n",
       "4     best 14 saree for summer saree stylishsarees s...  \n",
       "...                                                 ...  \n",
       "1626  in the news: michigan report 19 new coronaviru...  \n",
       "1627  in the news: coronavirus website usually go ov...  \n",
       "1628  in the news: 'covid-geddon'? a look at the due...  \n",
       "1629  in the news: swab, spit or stay home? a wide v...  \n",
       "1630  in the news: massachusetts courthouse close af...  \n",
       "\n",
       "[1631 rows x 4 columns]"
      ]
     },
     "execution_count": 13,
     "metadata": {},
     "output_type": "execute_result"
    }
   ],
   "source": [
    "# Clean up: Filter to key columns, including date of tweet via created_at\n",
    "final_df = df[['id','created_at','full_text','text_cleaned']]\n",
    "final_df"
   ]
  },
  {
   "cell_type": "markdown",
   "metadata": {},
   "source": [
    "## Compute predictions for each tweet using model"
   ]
  },
  {
   "cell_type": "code",
   "execution_count": 14,
   "metadata": {
    "scrolled": false
   },
   "outputs": [
    {
     "name": "stderr",
     "output_type": "stream",
     "text": [
      "100%|██████████| 1631/1631 [01:50<00:00, 14.73it/s]\n",
      "/home/ac1975/anaconda3/lib/python3.7/site-packages/pandas/core/frame.py:3065: SettingWithCopyWarning: \n",
      "A value is trying to be set on a copy of a slice from a DataFrame.\n",
      "Try using .loc[row_indexer,col_indexer] = value instead\n",
      "\n",
      "See the caveats in the documentation: https://pandas.pydata.org/pandas-docs/stable/user_guide/indexing.html#returning-a-view-versus-a-copy\n",
      "  self[k1] = value[k2]\n",
      "100%|██████████| 1631/1631 [01:51<00:00, 14.62it/s]\n",
      "100%|██████████| 1631/1631 [01:50<00:00, 14.82it/s]\n"
     ]
    },
    {
     "data": {
      "text/html": [
       "<div>\n",
       "<style scoped>\n",
       "    .dataframe tbody tr th:only-of-type {\n",
       "        vertical-align: middle;\n",
       "    }\n",
       "\n",
       "    .dataframe tbody tr th {\n",
       "        vertical-align: top;\n",
       "    }\n",
       "\n",
       "    .dataframe thead th {\n",
       "        text-align: right;\n",
       "    }\n",
       "</style>\n",
       "<table border=\"1\" class=\"dataframe\">\n",
       "  <thead>\n",
       "    <tr style=\"text-align: right;\">\n",
       "      <th></th>\n",
       "      <th>id</th>\n",
       "      <th>created_at</th>\n",
       "      <th>full_text</th>\n",
       "      <th>text_cleaned</th>\n",
       "      <th>prediction_dis</th>\n",
       "      <th>prediction_dis_prob_yes</th>\n",
       "      <th>prediction_dis_prob_no</th>\n",
       "      <th>prediction_rem</th>\n",
       "      <th>prediction_rem_prob_yes</th>\n",
       "      <th>prediction_rem_prob_no</th>\n",
       "      <th>prediction_wth</th>\n",
       "      <th>prediction_wth_prob_yes</th>\n",
       "      <th>prediction_wth_prob_no</th>\n",
       "    </tr>\n",
       "  </thead>\n",
       "  <tbody>\n",
       "    <tr>\n",
       "      <th>0</th>\n",
       "      <td>1246611060959907842</td>\n",
       "      <td>2020-04-05 01:30:12+00:00</td>\n",
       "      <td>Banarasi silk orange saree teamed up with a ma...</td>\n",
       "      <td>banarasi silk orange saree teamed up with a ma...</td>\n",
       "      <td>no</td>\n",
       "      <td>0.051</td>\n",
       "      <td>0.949</td>\n",
       "      <td>no</td>\n",
       "      <td>0.051</td>\n",
       "      <td>0.949</td>\n",
       "      <td>yes</td>\n",
       "      <td>0.9970</td>\n",
       "      <td>0.0030</td>\n",
       "    </tr>\n",
       "    <tr>\n",
       "      <th>1</th>\n",
       "      <td>1246667846316363776</td>\n",
       "      <td>2020-04-05 05:15:51+00:00</td>\n",
       "      <td>I have successfully completed #SARI Treatment ...</td>\n",
       "      <td>i have successfully completed sari treatment f...</td>\n",
       "      <td>no</td>\n",
       "      <td>0.028</td>\n",
       "      <td>0.972</td>\n",
       "      <td>no</td>\n",
       "      <td>0.066</td>\n",
       "      <td>0.934</td>\n",
       "      <td>yes</td>\n",
       "      <td>0.9972</td>\n",
       "      <td>0.0028</td>\n",
       "    </tr>\n",
       "    <tr>\n",
       "      <th>2</th>\n",
       "      <td>1246643111490662402</td>\n",
       "      <td>2020-04-05 03:37:33+00:00</td>\n",
       "      <td>Pineapple Express - \"Costume Choice 21\" (26 Ja...</td>\n",
       "      <td>pineapple express - \"costume choice 21\" (26 ja...</td>\n",
       "      <td>no</td>\n",
       "      <td>0.026</td>\n",
       "      <td>0.974</td>\n",
       "      <td>no</td>\n",
       "      <td>0.063</td>\n",
       "      <td>0.937</td>\n",
       "      <td>yes</td>\n",
       "      <td>0.9962</td>\n",
       "      <td>0.0038</td>\n",
       "    </tr>\n",
       "    <tr>\n",
       "      <th>3</th>\n",
       "      <td>1246641151311884290</td>\n",
       "      <td>2020-04-05 03:29:46+00:00</td>\n",
       "      <td>One of the most dangerous animals in the world...</td>\n",
       "      <td>one of the most dangerous animal in the world....</td>\n",
       "      <td>no</td>\n",
       "      <td>0.069</td>\n",
       "      <td>0.931</td>\n",
       "      <td>no</td>\n",
       "      <td>0.012</td>\n",
       "      <td>0.988</td>\n",
       "      <td>yes</td>\n",
       "      <td>0.9882</td>\n",
       "      <td>0.0118</td>\n",
       "    </tr>\n",
       "    <tr>\n",
       "      <th>4</th>\n",
       "      <td>1246742520526069760</td>\n",
       "      <td>2020-04-05 10:12:34+00:00</td>\n",
       "      <td>Best 14 sarees for summer\\n#sarees #stylishsar...</td>\n",
       "      <td>best 14 saree for summer saree stylishsarees s...</td>\n",
       "      <td>no</td>\n",
       "      <td>0.029</td>\n",
       "      <td>0.971</td>\n",
       "      <td>no</td>\n",
       "      <td>0.001</td>\n",
       "      <td>0.999</td>\n",
       "      <td>yes</td>\n",
       "      <td>0.9972</td>\n",
       "      <td>0.0028</td>\n",
       "    </tr>\n",
       "    <tr>\n",
       "      <th>...</th>\n",
       "      <td>...</td>\n",
       "      <td>...</td>\n",
       "      <td>...</td>\n",
       "      <td>...</td>\n",
       "      <td>...</td>\n",
       "      <td>...</td>\n",
       "      <td>...</td>\n",
       "      <td>...</td>\n",
       "      <td>...</td>\n",
       "      <td>...</td>\n",
       "      <td>...</td>\n",
       "      <td>...</td>\n",
       "      <td>...</td>\n",
       "    </tr>\n",
       "    <tr>\n",
       "      <th>1626</th>\n",
       "      <td>1296591229799415808</td>\n",
       "      <td>2020-08-20 23:33:33+00:00</td>\n",
       "      <td>In the news: Michigan reports 19 new coronavir...</td>\n",
       "      <td>in the news: michigan report 19 new coronaviru...</td>\n",
       "      <td>no</td>\n",
       "      <td>0.144</td>\n",
       "      <td>0.856</td>\n",
       "      <td>no</td>\n",
       "      <td>0.152</td>\n",
       "      <td>0.848</td>\n",
       "      <td>yes</td>\n",
       "      <td>0.9282</td>\n",
       "      <td>0.0718</td>\n",
       "    </tr>\n",
       "    <tr>\n",
       "      <th>1627</th>\n",
       "      <td>1296591228855660544</td>\n",
       "      <td>2020-08-20 23:33:33+00:00</td>\n",
       "      <td>In the news: Coronavirus websites usually go o...</td>\n",
       "      <td>in the news: coronavirus website usually go ov...</td>\n",
       "      <td>no</td>\n",
       "      <td>0.070</td>\n",
       "      <td>0.930</td>\n",
       "      <td>no</td>\n",
       "      <td>0.027</td>\n",
       "      <td>0.973</td>\n",
       "      <td>yes</td>\n",
       "      <td>0.9282</td>\n",
       "      <td>0.0718</td>\n",
       "    </tr>\n",
       "    <tr>\n",
       "      <th>1628</th>\n",
       "      <td>1296591227815489536</td>\n",
       "      <td>2020-08-20 23:33:32+00:00</td>\n",
       "      <td>In the news: 'COVID-geddon'? A look at the due...</td>\n",
       "      <td>in the news: 'covid-geddon'? a look at the due...</td>\n",
       "      <td>no</td>\n",
       "      <td>0.079</td>\n",
       "      <td>0.921</td>\n",
       "      <td>no</td>\n",
       "      <td>0.062</td>\n",
       "      <td>0.938</td>\n",
       "      <td>yes</td>\n",
       "      <td>0.9832</td>\n",
       "      <td>0.0168</td>\n",
       "    </tr>\n",
       "    <tr>\n",
       "      <th>1629</th>\n",
       "      <td>1296591226834046976</td>\n",
       "      <td>2020-08-20 23:33:32+00:00</td>\n",
       "      <td>In the news: Swab, Spit Or Stay Home? A Wide V...</td>\n",
       "      <td>in the news: swab, spit or stay home? a wide v...</td>\n",
       "      <td>no</td>\n",
       "      <td>0.100</td>\n",
       "      <td>0.900</td>\n",
       "      <td>no</td>\n",
       "      <td>0.120</td>\n",
       "      <td>0.880</td>\n",
       "      <td>yes</td>\n",
       "      <td>0.9832</td>\n",
       "      <td>0.0168</td>\n",
       "    </tr>\n",
       "    <tr>\n",
       "      <th>1630</th>\n",
       "      <td>1296591225605066753</td>\n",
       "      <td>2020-08-20 23:33:32+00:00</td>\n",
       "      <td>In the news: Massachusetts Courthouse Closes A...</td>\n",
       "      <td>in the news: massachusetts courthouse close af...</td>\n",
       "      <td>no</td>\n",
       "      <td>0.066</td>\n",
       "      <td>0.934</td>\n",
       "      <td>no</td>\n",
       "      <td>0.025</td>\n",
       "      <td>0.975</td>\n",
       "      <td>yes</td>\n",
       "      <td>0.9832</td>\n",
       "      <td>0.0168</td>\n",
       "    </tr>\n",
       "  </tbody>\n",
       "</table>\n",
       "<p>1631 rows × 13 columns</p>\n",
       "</div>"
      ],
      "text/plain": [
       "                       id                created_at  \\\n",
       "0     1246611060959907842 2020-04-05 01:30:12+00:00   \n",
       "1     1246667846316363776 2020-04-05 05:15:51+00:00   \n",
       "2     1246643111490662402 2020-04-05 03:37:33+00:00   \n",
       "3     1246641151311884290 2020-04-05 03:29:46+00:00   \n",
       "4     1246742520526069760 2020-04-05 10:12:34+00:00   \n",
       "...                   ...                       ...   \n",
       "1626  1296591229799415808 2020-08-20 23:33:33+00:00   \n",
       "1627  1296591228855660544 2020-08-20 23:33:33+00:00   \n",
       "1628  1296591227815489536 2020-08-20 23:33:32+00:00   \n",
       "1629  1296591226834046976 2020-08-20 23:33:32+00:00   \n",
       "1630  1296591225605066753 2020-08-20 23:33:32+00:00   \n",
       "\n",
       "                                              full_text  \\\n",
       "0     Banarasi silk orange saree teamed up with a ma...   \n",
       "1     I have successfully completed #SARI Treatment ...   \n",
       "2     Pineapple Express - \"Costume Choice 21\" (26 Ja...   \n",
       "3     One of the most dangerous animals in the world...   \n",
       "4     Best 14 sarees for summer\\n#sarees #stylishsar...   \n",
       "...                                                 ...   \n",
       "1626  In the news: Michigan reports 19 new coronavir...   \n",
       "1627  In the news: Coronavirus websites usually go o...   \n",
       "1628  In the news: 'COVID-geddon'? A look at the due...   \n",
       "1629  In the news: Swab, Spit Or Stay Home? A Wide V...   \n",
       "1630  In the news: Massachusetts Courthouse Closes A...   \n",
       "\n",
       "                                           text_cleaned prediction_dis  \\\n",
       "0     banarasi silk orange saree teamed up with a ma...             no   \n",
       "1     i have successfully completed sari treatment f...             no   \n",
       "2     pineapple express - \"costume choice 21\" (26 ja...             no   \n",
       "3     one of the most dangerous animal in the world....             no   \n",
       "4     best 14 saree for summer saree stylishsarees s...             no   \n",
       "...                                                 ...            ...   \n",
       "1626  in the news: michigan report 19 new coronaviru...             no   \n",
       "1627  in the news: coronavirus website usually go ov...             no   \n",
       "1628  in the news: 'covid-geddon'? a look at the due...             no   \n",
       "1629  in the news: swab, spit or stay home? a wide v...             no   \n",
       "1630  in the news: massachusetts courthouse close af...             no   \n",
       "\n",
       "      prediction_dis_prob_yes  prediction_dis_prob_no prediction_rem  \\\n",
       "0                       0.051                   0.949             no   \n",
       "1                       0.028                   0.972             no   \n",
       "2                       0.026                   0.974             no   \n",
       "3                       0.069                   0.931             no   \n",
       "4                       0.029                   0.971             no   \n",
       "...                       ...                     ...            ...   \n",
       "1626                    0.144                   0.856             no   \n",
       "1627                    0.070                   0.930             no   \n",
       "1628                    0.079                   0.921             no   \n",
       "1629                    0.100                   0.900             no   \n",
       "1630                    0.066                   0.934             no   \n",
       "\n",
       "      prediction_rem_prob_yes  prediction_rem_prob_no prediction_wth  \\\n",
       "0                       0.051                   0.949            yes   \n",
       "1                       0.066                   0.934            yes   \n",
       "2                       0.063                   0.937            yes   \n",
       "3                       0.012                   0.988            yes   \n",
       "4                       0.001                   0.999            yes   \n",
       "...                       ...                     ...            ...   \n",
       "1626                    0.152                   0.848            yes   \n",
       "1627                    0.027                   0.973            yes   \n",
       "1628                    0.062                   0.938            yes   \n",
       "1629                    0.120                   0.880            yes   \n",
       "1630                    0.025                   0.975            yes   \n",
       "\n",
       "      prediction_wth_prob_yes  prediction_wth_prob_no  \n",
       "0                      0.9970                  0.0030  \n",
       "1                      0.9972                  0.0028  \n",
       "2                      0.9962                  0.0038  \n",
       "3                      0.9882                  0.0118  \n",
       "4                      0.9972                  0.0028  \n",
       "...                       ...                     ...  \n",
       "1626                   0.9282                  0.0718  \n",
       "1627                   0.9282                  0.0718  \n",
       "1628                   0.9832                  0.0168  \n",
       "1629                   0.9832                  0.0168  \n",
       "1630                   0.9832                  0.0168  \n",
       "\n",
       "[1631 rows x 13 columns]"
      ]
     },
     "execution_count": 14,
     "metadata": {},
     "output_type": "execute_result"
    }
   ],
   "source": [
    "def compute_prediction(tweet_text_col, vectorizer_model, class_model):\n",
    "    '''\n",
    "    Predicts the label for an input tweet using a given model trained to classify Covid-19-related myths in tweets. \n",
    "    Uses vectorizer_model to restrict the vocab of the input tweets so it's consistent with vocab in class_model (avoids errors).\n",
    "    \n",
    "    Args:\n",
    "        tweet_text_col: array of preprocessed tweet texts\n",
    "        vectorizer_model: fitted text vectorizer\n",
    "        class_model: trained classification model\n",
    "    Returns:\n",
    "        label: label for tweet_text predicted by model, false for tie\n",
    "        prob: probability for label\n",
    "    '''\n",
    "    \n",
    "    X = vectorizer_model.transform(tweet_text_col)\n",
    "    probabilities = class_model.predict_proba(X)\n",
    "    \n",
    "    label = 'no'\n",
    "    prob_no = probabilities[0][0]\n",
    "    prob_yes = probabilities[0][1]\n",
    "    \n",
    "    # predicted label is one with greater probability\n",
    "    if probabilities[0][0] < probabilities[0][1]:\n",
    "        label = 'yes'\n",
    "        \n",
    "    return label, prob_yes, prob_no\n",
    "\n",
    "final_df[['prediction_dis','prediction_dis_prob_yes','prediction_dis_prob_no']] = final_df['text_cleaned'].progress_apply(lambda x: pd.Series(compute_prediction([x], dis_vec, dis_mod)))\n",
    "final_df[['prediction_rem','prediction_rem_prob_yes','prediction_rem_prob_no']] = final_df['text_cleaned'].progress_apply(lambda x: pd.Series(compute_prediction([x], rem_vec, rem_mod)))\n",
    "final_df[['prediction_wth','prediction_wth_prob_yes','prediction_wth_prob_no']] = final_df['text_cleaned'].progress_apply(lambda x: pd.Series(compute_prediction([x], wth_vec, wth_mod)))\n",
    "\n",
    "final_df"
   ]
  },
  {
   "cell_type": "markdown",
   "metadata": {},
   "source": [
    "## Visualize distributions of labels"
   ]
  },
  {
   "cell_type": "code",
   "execution_count": 29,
   "metadata": {},
   "outputs": [],
   "source": [
    "def calculate_threshold(tweets_to_find, df):\n",
    "    '''\n",
    "    Calculates greatest threshold to find requested number of tweets in a dataframe series\n",
    "    \n",
    "    Args:\n",
    "        tweets_to_find: number of tweets to find\n",
    "        df: df series to search through\n",
    "    Returns:\n",
    "        threshold: minimum value of probability\n",
    "    \n",
    "    '''\n",
    "    threshold = .500\n",
    "    tweets_num = df[df > threshold].size\n",
    "    \n",
    "    while tweets_to_find > tweets_num:\n",
    "        threshold = round(threshold - .001,3)\n",
    "        tweets_num = df[df > threshold].size\n",
    "    return threshold"
   ]
  },
  {
   "cell_type": "markdown",
   "metadata": {},
   "source": [
    "### Disinfectant Myths"
   ]
  },
  {
   "cell_type": "markdown",
   "metadata": {},
   "source": [
    "#### Probability Difference"
   ]
  },
  {
   "cell_type": "code",
   "execution_count": 30,
   "metadata": {},
   "outputs": [
    {
     "data": {
      "text/plain": [
       "<matplotlib.axes._subplots.AxesSubplot at 0x7f49daac8c50>"
      ]
     },
     "execution_count": 30,
     "metadata": {},
     "output_type": "execute_result"
    },
    {
     "data": {
      "image/png": "[encoded data removed]",
      "text/plain": [
       "<Figure size 432x288 with 1 Axes>"
      ]
     },
     "metadata": {
      "needs_background": "light"
     },
     "output_type": "display_data"
    }
   ],
   "source": [
    "(final_df['prediction_dis_prob_no'] - final_df['prediction_dis_prob_yes']).hist(bins=100)"
   ]
  },
  {
   "cell_type": "markdown",
   "metadata": {},
   "source": [
    "#### Minority Class (yes) Distribution"
   ]
  },
  {
   "cell_type": "code",
   "execution_count": 31,
   "metadata": {},
   "outputs": [
    {
     "data": {
      "text/plain": [
       "<matplotlib.axes._subplots.AxesSubplot at 0x7f49dae67748>"
      ]
     },
     "execution_count": 31,
     "metadata": {},
     "output_type": "execute_result"
    },
    {
     "data": {
      "image/png": "[encoded data removed]",
      "text/plain": [
       "<Figure size 432x288 with 1 Axes>"
      ]
     },
     "metadata": {
      "needs_background": "light"
     },
     "output_type": "display_data"
    }
   ],
   "source": [
    "final_df['prediction_dis_prob_yes'].hist(bins=100)"
   ]
  },
  {
   "cell_type": "code",
   "execution_count": 32,
   "metadata": {},
   "outputs": [
    {
     "name": "stdout",
     "output_type": "stream",
     "text": [
      "8.584% (140) of cases are above 0.144\n"
     ]
    }
   ],
   "source": [
    "threshold = calculate_threshold(140, final_df['prediction_dis_prob_yes'])\n",
    "num = len(final_df[final_df['prediction_dis_prob_yes'] > threshold])\n",
    "prop = (num/len(final_df))*100 \n",
    "print(f'{str(round(prop,3))}% ({num}) of cases are above {str(threshold)}')"
   ]
  },
  {
   "cell_type": "markdown",
   "metadata": {},
   "source": [
    "### Home Remedy Myths"
   ]
  },
  {
   "cell_type": "markdown",
   "metadata": {},
   "source": [
    "#### Probability Difference"
   ]
  },
  {
   "cell_type": "code",
   "execution_count": 33,
   "metadata": {
    "scrolled": true
   },
   "outputs": [
    {
     "data": {
      "text/plain": [
       "<matplotlib.axes._subplots.AxesSubplot at 0x7f4a120a2a20>"
      ]
     },
     "execution_count": 33,
     "metadata": {},
     "output_type": "execute_result"
    },
    {
     "data": {
      "image/png": "[encoded data removed]",
      "text/plain": [
       "<Figure size 432x288 with 1 Axes>"
      ]
     },
     "metadata": {
      "needs_background": "light"
     },
     "output_type": "display_data"
    }
   ],
   "source": [
    "(final_df['prediction_rem_prob_no'] - final_df['prediction_rem_prob_yes']).hist(bins=100)"
   ]
  },
  {
   "cell_type": "markdown",
   "metadata": {},
   "source": [
    "#### Minority Class (yes) Distribution"
   ]
  },
  {
   "cell_type": "code",
   "execution_count": 34,
   "metadata": {},
   "outputs": [
    {
     "data": {
      "text/plain": [
       "<matplotlib.axes._subplots.AxesSubplot at 0x7f49da8c5dd8>"
      ]
     },
     "execution_count": 34,
     "metadata": {},
     "output_type": "execute_result"
    },
    {
     "data": {
      "image/png": "[encoded data removed]",
      "text/plain": [
       "<Figure size 432x288 with 1 Axes>"
      ]
     },
     "metadata": {
      "needs_background": "light"
     },
     "output_type": "display_data"
    }
   ],
   "source": [
    "final_df['prediction_rem_prob_yes'].hist(bins=100)"
   ]
  },
  {
   "cell_type": "code",
   "execution_count": 35,
   "metadata": {},
   "outputs": [
    {
     "name": "stdout",
     "output_type": "stream",
     "text": [
      "8.706% (142) of cases are above 0.164\n"
     ]
    }
   ],
   "source": [
    "threshold = calculate_threshold(140, final_df['prediction_rem_prob_yes'])\n",
    "num = len(final_df[final_df['prediction_rem_prob_yes'] > threshold])\n",
    "prop = (num/len(final_df))*100\n",
    "print(f'{str(round(prop,3))}% ({num}) of cases are above {str(threshold)}')"
   ]
  },
  {
   "cell_type": "markdown",
   "metadata": {},
   "source": [
    "### Weather Myths"
   ]
  },
  {
   "cell_type": "markdown",
   "metadata": {},
   "source": [
    "#### Probability Difference"
   ]
  },
  {
   "cell_type": "code",
   "execution_count": 36,
   "metadata": {},
   "outputs": [
    {
     "data": {
      "text/plain": [
       "<matplotlib.axes._subplots.AxesSubplot at 0x7f49da799400>"
      ]
     },
     "execution_count": 36,
     "metadata": {},
     "output_type": "execute_result"
    },
    {
     "data": {
      "image/png": "[encoded data removed]",
      "text/plain": [
       "<Figure size 432x288 with 1 Axes>"
      ]
     },
     "metadata": {
      "needs_background": "light"
     },
     "output_type": "display_data"
    }
   ],
   "source": [
    "(final_df['prediction_wth_prob_no'] - final_df['prediction_wth_prob_yes']).hist(bins=100)"
   ]
  },
  {
   "cell_type": "markdown",
   "metadata": {},
   "source": [
    "#### Minority Class (yes) Distribution\n",
    "We're interested in \"yes\" cases here because it's easy to find \"no\" cases. <br>\n",
    "Priority is to make sure our classifier can find \"yes\" cases (whether or not they are in majority in coded data)."
   ]
  },
  {
   "cell_type": "code",
   "execution_count": 37,
   "metadata": {},
   "outputs": [
    {
     "data": {
      "text/plain": [
       "<matplotlib.axes._subplots.AxesSubplot at 0x7f49da9079e8>"
      ]
     },
     "execution_count": 37,
     "metadata": {},
     "output_type": "execute_result"
    },
    {
     "data": {
      "image/png": "[encoded data removed]",
      "text/plain": [
       "<Figure size 432x288 with 1 Axes>"
      ]
     },
     "metadata": {
      "needs_background": "light"
     },
     "output_type": "display_data"
    }
   ],
   "source": [
    "final_df['prediction_wth_prob_yes'].hist(bins=100)"
   ]
  },
  {
   "cell_type": "code",
   "execution_count": 38,
   "metadata": {},
   "outputs": [
    {
     "name": "stdout",
     "output_type": "stream",
     "text": [
      "100.0% (1631) of cases are above 0.5\n"
     ]
    }
   ],
   "source": [
    "threshold = calculate_threshold(225, final_df['prediction_wth_prob_yes'])\n",
    "num = len(final_df[final_df['prediction_wth_prob_yes'] > threshold])\n",
    "prop = (num/len(final_df))*100\n",
    "print(f'{str(round(prop,3))}% ({num}) of cases are above {str(threshold)}')"
   ]
  },
  {
   "cell_type": "markdown",
   "metadata": {},
   "source": [
    "## Select tweets for sample"
   ]
  },
  {
   "cell_type": "markdown",
   "metadata": {},
   "source": [
    "Get sample of 180 new tweets (or 280 in case of weather), composed of 90% minority class and 10% majority class.<br>\n",
    "To improve fidelity of model, make the tweets selected majority class fuzzy/unreliable, so model gets better at labeling these.<br>\n",
    "First, filter into new DFs, one for minority class and one for (fuzzy) majority class."
   ]
  },
  {
   "cell_type": "code",
   "execution_count": 39,
   "metadata": {},
   "outputs": [
    {
     "name": "stdout",
     "output_type": "stream",
     "text": [
      "Number of minority cases selected for each myth:\n",
      "162 for disinfectants\n",
      "164 for home remedies\n",
      "1631 for weather\n"
     ]
    }
   ],
   "source": [
    "# set thresholds for minority cases for each myth\n",
    "# set these as low as possible to capture ~140 tweets likely to fall in minority class\n",
    "capture_num = 162\n",
    "minority_threshold_dis = calculate_threshold(capture_num,final_df['prediction_dis_prob_yes'])\n",
    "minority_threshold_rem = calculate_threshold(capture_num,final_df['prediction_rem_prob_yes'])\n",
    "minority_threshold_wth = calculate_threshold(252,final_df['prediction_wth_prob_yes']) # total of 250 sample\n",
    "\n",
    "# filter using threshold\n",
    "df_dis_minority = final_df[final_df['prediction_dis_prob_yes'] > minority_threshold_dis]\n",
    "df_rem_minority = final_df[final_df['prediction_rem_prob_yes'] > minority_threshold_rem]\n",
    "df_wth_minority = final_df[final_df['prediction_wth_prob_yes'] > minority_threshold_wth]\n",
    "\n",
    "# check out results\n",
    "print('Number of minority cases selected for each myth:')\n",
    "print(f'{len(df_dis_minority)} for disinfectants')\n",
    "print(f'{len(df_rem_minority)} for home remedies')\n",
    "print(f'{len(df_wth_minority)} for weather')"
   ]
  },
  {
   "cell_type": "code",
   "execution_count": 40,
   "metadata": {
    "scrolled": true
   },
   "outputs": [],
   "source": [
    "def check_pred_fuzzy(row, \n",
    "                     pred_labels = ['yes', 'no'], \n",
    "                     myth_labels = ['dis', 'rem', 'wth'],\n",
    "                     upper_threshold=0.3, \n",
    "                     lower_threshold=0.10):\n",
    "    \n",
    "    '''\n",
    "    Checks whether prediction is fuzzy/unreliable. Use this to determine if a tweet is worth hand-coding.\n",
    "    Rationale: by only coding tweets with unreliable labels, we can improve the classifier's ability to detect 'unsure' cases.\n",
    "    \n",
    "    Function focuses on this difference: prob(predicted label) - prob(some other label).\n",
    "    If difference is greater than lower_threshold (minimum for hand-coding of tweet to be possible), \n",
    "    but lesser than upper_threshold (maximum for hand-coding to be necessary), then it IS worth coding, so return True. \n",
    "    If difference is not between these, then we either it can't be reliably coded, or already have a reliable prediction,\n",
    "    so we don't need to hand-code --> return False.\n",
    "\n",
    "    To help select a threshold, ask: To what extent do we want the uncertainty to be, to help inform our sample selection?    \n",
    "    For example, if a tweet is labeled as POS with 90% prob and NEG 10% --> this is very obvious sample, so don't bother coding.\n",
    "    On the other hand, if the predictions are 51% NEG and 49 POS, then we need ppl to label this to update our model. \n",
    "    If our upper_threshold is 20% (0.20), then if a tweet has 61% NEG 39% POS probabilities, we don't choose it. \n",
    "    If some other tweet has prob 59% POS 41% NEG, we do select it for coding.\n",
    "    \n",
    "    Args:\n",
    "        row: row corresponding to tweet, with predictions in format...\n",
    "        pred_labels: labels for probabilities to use--used for naming columns\n",
    "        myth_labels: labels for COVID-19 myths to detect--used for naming columns\n",
    "        upper_threshold: max difference between predicted probs\n",
    "        lower_threshold: min difference between predicted probs\n",
    "    \n",
    "    Returns:\n",
    "        Array: True if tweet should be hand-coded, otherwise False. Array contains determinations for all myths\n",
    "    '''\n",
    "    \n",
    "    worth_coding = []\n",
    "    \n",
    "    for myth in myth_labels:\n",
    "        pred_label = row[f'prediction_{myth}'].strip() # get label of prediction for tweet--must be one of those in possible_labels!\n",
    "        pred_score = float(row[f'prediction_{myth}_prob_{pred_label}']) # get probability of predicted label (probably high)\n",
    "        \n",
    "        for pred in pred_labels: # Look at each label\n",
    "            pred = pred.strip() # clean label text\n",
    "            \n",
    "            if pred != pred_label: # if this label isn't the predicted one...\n",
    "                difference = pred_score - float(row[f'prediction_{myth}_prob_{pred}']) # ...then look at their difference in probability\n",
    "                if lower_threshold <= difference <= upper_threshold:\n",
    "                 # if difference in probs is > lower_threshold but < upper_threshold, then pred is fuzzy and we should code\n",
    "                    worth_coding.append(True) # worth coding\n",
    "                \n",
    "                else: worth_coding.append(False)\n",
    "                    \n",
    "    if len(worth_coding) == 1:\n",
    "        return worth_coding[0]\n",
    "    \n",
    "    else: return worth_coding"
   ]
  },
  {
   "cell_type": "code",
   "execution_count": 41,
   "metadata": {},
   "outputs": [
    {
     "name": "stderr",
     "output_type": "stream",
     "text": [
      "100%|██████████| 1631/1631 [00:00<00:00, 57795.04it/s]\n",
      "100%|██████████| 1631/1631 [00:00<00:00, 60957.09it/s]\n",
      "100%|██████████| 1631/1631 [00:00<00:00, 61658.70it/s]"
     ]
    },
    {
     "name": "stdout",
     "output_type": "stream",
     "text": [
      "df_dis_fuzzy: (75, 13)\n",
      "df_rem_fuzzy: (122, 13)\n",
      "df_wth_fuzzy: (20, 13)\n"
     ]
    },
    {
     "name": "stderr",
     "output_type": "stream",
     "text": [
      "\n"
     ]
    }
   ],
   "source": [
    "df_dis_fuzzy = final_df[final_df.progress_apply(lambda x: check_pred_fuzzy(x, myth_labels = ['dis'], upper_threshold = .65), axis=1)]      \n",
    "df_rem_fuzzy = final_df[final_df.progress_apply(lambda x: check_pred_fuzzy(x, myth_labels = ['rem'], upper_threshold = .65), axis=1)]\n",
    "df_wth_fuzzy = final_df[final_df.progress_apply(lambda x: check_pred_fuzzy(x, myth_labels = ['wth'], upper_threshold = .65), axis=1)]\n",
    "print(f'df_dis_fuzzy: {df_dis_fuzzy.shape}')\n",
    "print(f'df_rem_fuzzy: {df_rem_fuzzy.shape}')\n",
    "print(f'df_wth_fuzzy: {df_wth_fuzzy.shape}')"
   ]
  },
  {
   "cell_type": "markdown",
   "metadata": {},
   "source": [
    "## Compile sample"
   ]
  },
  {
   "cell_type": "code",
   "execution_count": 42,
   "metadata": {},
   "outputs": [
    {
     "name": "stderr",
     "output_type": "stream",
     "text": [
      "100%|██████████| 162/162 [00:00<00:00, 451.26it/s]\n",
      "100%|██████████| 18/18 [00:00<00:00, 445.03it/s]\n",
      " 29%|██▉       | 47/162 [00:00<00:00, 464.74it/s]"
     ]
    },
    {
     "name": "stdout",
     "output_type": "stream",
     "text": [
      "                    id                created_at  \\\n",
      "0  1252363412497027078 2020-04-20 22:27:59+00:00   \n",
      "1  1252363943449788417 2020-04-20 22:30:06+00:00   \n",
      "2  1252202084541231105 2020-04-20 11:46:56+00:00   \n",
      "3  1252209617020444678 2020-04-20 12:16:52+00:00   \n",
      "4  1290804398935998464 2020-08-05 00:18:45+00:00   \n",
      "\n",
      "                                           full_text  \n",
      "0  Sick bastards. Spread this. #2019nCoV #COVID19...  \n",
      "1  So sad. Looks like we got the flow out of hosp...  \n",
      "2  ITS NORMAL TO FEEL SAD, STRESSED AND CONFUSED ...  \n",
      "3  😷 TAIWAN: ❝Virus Outbreak: Social distancing l...  \n",
      "4  How does @christufton, @themohwgovjm or even G...  \n"
     ]
    },
    {
     "name": "stderr",
     "output_type": "stream",
     "text": [
      "100%|██████████| 162/162 [00:00<00:00, 446.90it/s]\n",
      "100%|██████████| 18/18 [00:00<00:00, 443.95it/s]\n",
      " 18%|█▊        | 45/252 [00:00<00:00, 439.86it/s]"
     ]
    },
    {
     "name": "stdout",
     "output_type": "stream",
     "text": [
      "                    id                created_at  \\\n",
      "0  1262535766741139457 2020-05-19 00:09:18+00:00   \n",
      "1  1279393572303900672 2020-07-04 12:36:12+00:00   \n",
      "2  1290803454688890880 2020-08-05 00:15:00+00:00   \n",
      "3  1252177328219672577 2020-04-20 10:08:34+00:00   \n",
      "4  1252177073650589696 2020-04-20 10:07:33+00:00   \n",
      "\n",
      "                                           full_text  \n",
      "0  Plenty Pre-#COVID19 patients who'd been using ...  \n",
      "1  @10DowningStreet Preliminary investigations co...  \n",
      "2  “Doctors believe many people are fighting #Cov...  \n",
      "3  New article: Strategies for Prevention of Coro...  \n",
      "4  New article: Association of the COVID-19 pande...  \n"
     ]
    },
    {
     "name": "stderr",
     "output_type": "stream",
     "text": [
      "100%|██████████| 252/252 [00:00<00:00, 443.27it/s]\n",
      "100%|██████████| 28/28 [00:00<00:00, 435.89it/s]"
     ]
    },
    {
     "name": "stdout",
     "output_type": "stream",
     "text": [
      "                    id                created_at  \\\n",
      "0  1279217386881720321 2020-07-04 00:56:06+00:00   \n",
      "1  1294791116886167552 2020-08-16 00:20:32+00:00   \n",
      "2  1262535512247730176 2020-05-19 00:08:17+00:00   \n",
      "3  1279269617693863936 2020-07-04 04:23:39+00:00   \n",
      "4  1262535494308712449 2020-05-19 00:08:13+00:00   \n",
      "\n",
      "                                           full_text  \n",
      "0  They played with lives of people for their pol...  \n",
      "1  Dangerous ill-informed advisories from @CDC. I...  \n",
      "2  ⭐️⭐️🇺🇸⭐️⭐️\\nDear Plexiglas maker of ... well.....  \n",
      "3  @SEKCSF @Pote78399148 @pigson0127 Can we retur...  \n",
      "4  \"seroprevalence study in Los Angeles County fi...  \n"
     ]
    },
    {
     "name": "stderr",
     "output_type": "stream",
     "text": [
      "\n"
     ]
    }
   ],
   "source": [
    "def sample_tweets(df, df_minority, df_fuzzy, sample_size=150, prop_maj=.1):\n",
    "    '''\n",
    "    Preliminary script to sample tweets using the previously determined minority and fuzzy df.\n",
    "    Does not take into account distribution of dates.\n",
    "    \n",
    "    Args:\n",
    "        df: original df with tweet id and full text\n",
    "        df_minority: minority df with tweets above threshold\n",
    "        sample_size: number of total tweets to sample\n",
    "        prop_maj: proportion of total tweets to be majority label/fuzzy\n",
    "        \n",
    "    '''\n",
    "    df_sample = pd.DataFrame()\n",
    "    min_size = int(sample_size * (1-prop_maj))\n",
    "    maj_size = sample_size - min_size\n",
    "    \n",
    "    for id in tqdm(df_minority['id'].sample(n=min_size)):\n",
    "        df_sample = df_sample.append(df.loc[df['id'] == id][['id','created_at','full_text']],ignore_index=True)\n",
    "    for id in tqdm(df_minority['id'].sample(n=maj_size)):\n",
    "        df_sample = df_sample.append(df.loc[df['id'] == id][['id','created_at','full_text']],ignore_index=True)\n",
    "#     df_sample = df_sample.rename(columns={'id': 'tweet_id'})\n",
    "    df_sample = df_sample.sample(frac=1).reset_index(drop=True)\n",
    "    return df_sample\n",
    "\n",
    "dis_sample = sample_tweets(final_df,df_dis_minority,df_dis_fuzzy, sample_size = n_sample)\n",
    "print(dis_sample.head(5))\n",
    "rem_sample = sample_tweets(final_df,df_rem_minority,df_rem_fuzzy, sample_size = n_sample)\n",
    "print(rem_sample.head(5))\n",
    "wth_sample = sample_tweets(final_df,df_wth_minority, df_wth_fuzzy, sample_size = 280)\n",
    "print(wth_sample.head(5))"
   ]
  },
  {
   "cell_type": "markdown",
   "metadata": {},
   "source": [
    "### Check date distribution and remove column"
   ]
  },
  {
   "cell_type": "code",
   "execution_count": 43,
   "metadata": {},
   "outputs": [
    {
     "data": {
      "image/png": "[encoded data removed]",
      "text/plain": [
       "<Figure size 432x288 with 1 Axes>"
      ]
     },
     "metadata": {
      "needs_background": "light"
     },
     "output_type": "display_data"
    }
   ],
   "source": [
    "dis_sample['created_at'].hist(bins = 30, xrot = 90)\n",
    "dis_sample.drop(columns = 'created_at', inplace = True)"
   ]
  },
  {
   "cell_type": "code",
   "execution_count": 44,
   "metadata": {},
   "outputs": [
    {
     "data": {
      "image/png": "[encoded data removed]",
      "text/plain": [
       "<Figure size 432x288 with 1 Axes>"
      ]
     },
     "metadata": {
      "needs_background": "light"
     },
     "output_type": "display_data"
    }
   ],
   "source": [
    "rem_sample['created_at'].hist(bins = 30, xrot = 90)\n",
    "rem_sample.drop(columns = 'created_at', inplace = True)"
   ]
  },
  {
   "cell_type": "code",
   "execution_count": 45,
   "metadata": {},
   "outputs": [
    {
     "data": {
      "image/png": "[encoded data removed]",
      "text/plain": [
       "<Figure size 432x288 with 1 Axes>"
      ]
     },
     "metadata": {
      "needs_background": "light"
     },
     "output_type": "display_data"
    }
   ],
   "source": [
    "wth_sample['created_at'].hist(bins = 30, xrot = 90)\n",
    "wth_sample.drop(columns = 'created_at', inplace = True)"
   ]
  },
  {
   "cell_type": "markdown",
   "metadata": {},
   "source": [
    "## Clean text for MTurk (skip for now)"
   ]
  },
  {
   "cell_type": "code",
   "execution_count": 46,
   "metadata": {},
   "outputs": [],
   "source": [
    "def process_mTurk_tweets(tweet):\n",
    "    '''\n",
    "    Process tweets for mTurk using MDI conventions\n",
    "    \n",
    "    Using remove_emojis, fix_hashtag, censor_text\n",
    "    \n",
    "    '''\n",
    "    \n",
    "    \"\"\"\n",
    "    Fix hashtags with following space character\n",
    "    \"\"\"\n",
    "    tweet = tweet.replace(\"# \", \"#\")\n",
    "\n",
    "    \"\"\"\n",
    "    Remove Emojis (they are not supported by MTurk)\n",
    "    \"\"\"\n",
    "    tweet = emoji.get_emoji_regexp().sub(u'', tweet)\n",
    "\n",
    "\n",
    "    \"\"\"\n",
    "    Censor text by removing URLs and @mentions\n",
    "    \"\"\"\n",
    "\n",
    "    # Simple regular expression to match URLs starting with `https` or `http`\n",
    "    # More complext regex an be found here: https://mathiasbynens.be/demo/url-regex\n",
    "    url_regex = r\"https?://\\S*\"\n",
    "\n",
    "    # Regex to match mentions\n",
    "    mention_regex = r\"@\\S*\"\n",
    "\n",
    "    # Count the number of replacements during regex replace to append a number\n",
    "    # This is black magic, and was found here: https://stackoverflow.com/a/16761684\n",
    "    class SubCount(object):\n",
    "        def __init__(self, repl, start=1):\n",
    "            self.count = start - 1\n",
    "            self.repl = repl\n",
    "\n",
    "        def __call__(self, match):\n",
    "            self.count += 1\n",
    "            return self.repl.format(self.count)\n",
    "\n",
    "    # Replace URLs with URL<n> and handle with @USER<n>\n",
    "    tweet = re.sub(url_regex, SubCount('<em>URL{0:02d} Removed</em>'), tweet)\n",
    "    tweet = re.sub(mention_regex, SubCount('@USER{0:02d}'), tweet)\n",
    "    \n",
    "    return tweet"
   ]
  },
  {
   "cell_type": "code",
   "execution_count": 47,
   "metadata": {},
   "outputs": [],
   "source": [
    "# # Process text for mTurk\n",
    "# dis_sample['full_text'] = dis_sample['full_text'].progress_apply(lambda x: process_mTurk_tweets(x))\n",
    "# rem_sample['full_text'] = rem_sample['full_text'].progress_apply(lambda x: process_mTurk_tweets(x))\n",
    "# wth_sample['full_text'] = wth_sample['full_text'].progress_apply(lambda x: process_mTurk_tweets(x))\n",
    "\n",
    "# print(dis_sample.head(5))\n",
    "# print(rem_sample.head(5))\n",
    "# print(wth_sample.head(5))"
   ]
  },
  {
   "cell_type": "markdown",
   "metadata": {},
   "source": [
    "## Save to file"
   ]
  },
  {
   "cell_type": "code",
   "execution_count": 48,
   "metadata": {},
   "outputs": [],
   "source": [
    "dis_sample.to_csv(dis_sam_fp,\\\n",
    "    escapechar='\\\"', \\\n",
    "    quotechar='\\\"',\\\n",
    "    quoting=csv.QUOTE_ALL,\\\n",
    "    index=False)\n",
    "# rem_sample.to_csv(rem_sam_fp,\\\n",
    "#     escapechar='\\\"', \\\n",
    "#     quotechar='\\\"',\\\n",
    "#     quoting=csv.QUOTE_ALL,\\\n",
    "#     index=False)\n",
    "# wth_sam_fp = f'../data/sample_280_tweets_weather_{str(thisday)}.csv'\n",
    "# wth_sample.to_csv(wth_sam_fp,\\\n",
    "#     escapechar='\\\"', \\\n",
    "#     quotechar='\\\"',\\\n",
    "#     quoting=csv.QUOTE_ALL,\\\n",
    "#     index=False)"
   ]
  }
 ],
 "metadata": {
  "kernelspec": {
   "display_name": "Python 3",
   "language": "python",
   "name": "python3"
  },
  "language_info": {
   "codemirror_mode": {
    "name": "ipython",
    "version": 3
   },
   "file_extension": ".py",
   "mimetype": "text/x-python",
   "name": "python",
   "nbconvert_exporter": "python",
   "pygments_lexer": "ipython3",
   "version": "3.7.3"
  }
 },
 "nbformat": 4,
 "nbformat_minor": 4
}

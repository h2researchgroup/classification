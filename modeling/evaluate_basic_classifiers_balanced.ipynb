{
 "cells": [
  {
   "cell_type": "markdown",
   "metadata": {},
   "source": [
    "# Compare classification methods for identifying org. science perspectives in JSTOR articles\n",
    "## Using balanced samples from hand-labeled set of articles\n",
    "\n",
    "@author: Jaren Haber, PhD<br>\n",
    "@coauthors: Prof. Heather Haveman, UC Berkeley; Yoon Sung Hong, Wayfair<br>\n",
    "@contact: Jaren.Haber@georgetown.edu<br>\n",
    "@project: Computational Literature Review of Organizational Scholarship<br>\n",
    "@date: December 2020\n",
    "\n",
    "'''\n",
    "Trains classifiers to predict whether an article is about a given perspective in org. science. To train the classifiers, uses preliminary labeled articles, broken down as follows: \n",
    "Cultural: 105 yes, 209 no\n",
    "Relational: 92 yes, 230 no\n",
    "Demographic: 77 yes, 249 no\n",
    "Compares f1_weighted scores of four model structures using 10-Fold Cross Validation: Logistic regression, SVM, Naive Bayes, and Decision Tree. Oversamples training data to .7 (7:10 minority:majority class).\n",
    "'''"
   ]
  },
  {
   "cell_type": "markdown",
   "metadata": {},
   "source": [
    "## Initialize"
   ]
  },
  {
   "cell_type": "code",
   "execution_count": 1,
   "metadata": {
    "scrolled": true
   },
   "outputs": [
    {
     "name": "stdout",
     "output_type": "stream",
     "text": [
      "Collecting nltk\n",
      "\u001b[?25l  Downloading https://files.pythonhosted.org/packages/92/75/ce35194d8e3022203cca0d2f896dbb88689f9b3fce8e9f9cff942913519d/nltk-3.5.zip (1.4MB)\n",
      "\u001b[K     |████████████████████████████████| 1.4MB 6.6MB/s eta 0:00:01\n",
      "\u001b[?25hRequirement already satisfied: click in /opt/conda/lib/python3.7/site-packages (from nltk) (7.0)\n",
      "Collecting joblib (from nltk)\n",
      "\u001b[?25l  Downloading https://files.pythonhosted.org/packages/55/85/70c6602b078bd9e6f3da4f467047e906525c355a4dacd4f71b97a35d9897/joblib-1.0.1-py3-none-any.whl (303kB)\n",
      "\u001b[K     |████████████████████████████████| 307kB 22.3MB/s eta 0:00:01\n",
      "\u001b[?25hCollecting regex (from nltk)\n",
      "\u001b[?25l  Downloading https://files.pythonhosted.org/packages/20/28/ff0d0936a31f15a0879caf6dac1f1cbaab1fc7b9e8baf8a1d5a70380fb22/regex-2020.11.13-cp37-cp37m-manylinux2010_x86_64.whl (667kB)\n",
      "\u001b[K     |████████████████████████████████| 675kB 26.5MB/s eta 0:00:01\n",
      "\u001b[?25hCollecting tqdm (from nltk)\n",
      "\u001b[?25l  Downloading https://files.pythonhosted.org/packages/b3/db/dcda019790a8d989b8b0e7290f1c651a0aaef10bbe6af00032155e04858d/tqdm-4.56.2-py2.py3-none-any.whl (72kB)\n",
      "\u001b[K     |████████████████████████████████| 81kB 28.7MB/s eta 0:00:01\n",
      "\u001b[?25hBuilding wheels for collected packages: nltk\n",
      "  Building wheel for nltk (setup.py) ... \u001b[?25ldone\n",
      "\u001b[?25h  Stored in directory: /home/jovyan/.cache/pip/wheels/ae/8c/3f/b1fe0ba04555b08b57ab52ab7f86023639a526d8bc8d384306\n",
      "Successfully built nltk\n",
      "Installing collected packages: joblib, regex, tqdm, nltk\n",
      "Successfully installed joblib-1.0.1 nltk-3.5 regex-2020.11.13 tqdm-4.56.2\n"
     ]
    }
   ],
   "source": [
    "!pip install nltk"
   ]
  },
  {
   "cell_type": "code",
   "execution_count": 1,
   "metadata": {},
   "outputs": [
    {
     "name": "stderr",
     "output_type": "stream",
     "text": [
      "[nltk_data] Downloading package punkt to /home/jovyan/nltk_data...\n",
      "[nltk_data]   Package punkt is already up-to-date!\n"
     ]
    }
   ],
   "source": [
    "######################################################\n",
    "# Import libraries\n",
    "######################################################\n",
    "\n",
    "import pandas as pd\n",
    "import numpy as np\n",
    "import re\n",
    "from collections import Counter\n",
    "from datetime import date\n",
    "from tqdm import tqdm\n",
    "import os\n",
    "\n",
    "import nltk\n",
    "from nltk import word_tokenize\n",
    "from nltk.corpus import stopwords\n",
    "from nltk.stem import WordNetLemmatizer\n",
    "nltk.download('punkt')\n",
    "\n",
    "stemmer = WordNetLemmatizer()\n",
    "\n",
    "from pandas.plotting import scatter_matrix\n",
    "import matplotlib.pyplot as plt\n",
    "\n",
    "import joblib\n",
    "import csv\n",
    "\n",
    "from sklearn.datasets import load_files\n",
    "from sklearn.feature_extraction.text import CountVectorizer, TfidfVectorizer\n",
    "\n",
    "from sklearn.metrics import classification_report, confusion_matrix, accuracy_score\n",
    "from sklearn.tree import DecisionTreeClassifier\n",
    "from sklearn.neighbors import KNeighborsClassifier\n",
    "from sklearn.ensemble import RandomForestClassifier\n",
    "from sklearn.naive_bayes import MultinomialNB\n",
    "from sklearn.linear_model import LogisticRegression\n",
    "from sklearn.neural_network import MLPClassifier\n",
    "from sklearn.svm import SVC\n",
    "from sklearn.model_selection import cross_val_score, cross_val_predict, train_test_split, KFold\n",
    "\n",
    "# !pip install imblearn\n",
    "from imblearn.over_sampling import RandomOverSampler\n",
    "from imblearn.under_sampling import RandomUnderSampler\n",
    "\n",
    "import sys; sys.path.insert(0, \"../preprocess/\") # For loading functions from files in other directory\n",
    "from quickpickle import quickpickle_dump, quickpickle_load # custom scripts for quick saving & loading to pickle format"
   ]
  },
  {
   "cell_type": "code",
   "execution_count": 2,
   "metadata": {},
   "outputs": [],
   "source": [
    "######################################################\n",
    "# Define filepaths\n",
    "######################################################\n",
    "\n",
    "cwd = os.getcwd()\n",
    "root = str.replace(cwd, 'classification/modeling', '')\n",
    "thisday = date.today().strftime(\"%m%d%y\")\n",
    "\n",
    "# Directory for prepared data and trained models: save files here\n",
    "data_fp = root + 'classification/data/'\n",
    "model_fp = root + 'classification/models/'\n",
    "\n",
    "# Current article lists\n",
    "article_list_fp = data_fp + 'filtered_length_index.csv' # Filtered index of research articles\n",
    "article_paths_fp = data_fp + 'filtered_length_article_paths.csv' # List of article file paths\n",
    "\n",
    "# Preprocessed training data\n",
    "cult_labeled_fp = data_fp + 'training_cultural_preprocessed_022621.pkl'\n",
    "relt_labeled_fp = data_fp + 'training_relational_preprocessed_022621.pkl'\n",
    "demog_labeled_fp = data_fp + 'training_demographic_preprocessed_022621.pkl'\n",
    "orgs_labeled_fp = data_fp + 'training_orgs_preprocessed_022621.pkl'\n",
    "\n",
    "# Model filepaths\n",
    "cult_model_fp = model_fp + f'classifier_cult_MLP_{str(thisday)}.joblib'\n",
    "relt_model_fp = model_fp + f'classifier_relt_MLP_{str(thisday)}.joblib'\n",
    "demog_model_fp = model_fp + f'classifier_demog_MLP_{str(thisday)}.joblib'\n",
    "orgs_model_fp = model_fp + f'classifier_orgs_MLP_{str(thisday)}.joblib'\n",
    "\n",
    "# Vectorizers trained on hand-coded data (use to limit vocab of input texts)\n",
    "cult_vec_fp = model_fp + 'vectorizer_cult_022621.joblib'\n",
    "relt_vec_fp = model_fp + 'vectorizer_relt_022621.joblib'\n",
    "demog_vec_fp = model_fp + 'vectorizer_demog_022621.joblib'\n",
    "orgs_vec_fp = model_fp + 'vectorizer_orgs_022621.joblib'"
   ]
  },
  {
   "cell_type": "markdown",
   "metadata": {},
   "source": [
    "## Load & inspect data"
   ]
  },
  {
   "cell_type": "code",
   "execution_count": 3,
   "metadata": {
    "scrolled": true
   },
   "outputs": [
    {
     "data": {
      "text/html": [
       "<div>\n",
       "<style scoped>\n",
       "    .dataframe tbody tr th:only-of-type {\n",
       "        vertical-align: middle;\n",
       "    }\n",
       "\n",
       "    .dataframe tbody tr th {\n",
       "        vertical-align: top;\n",
       "    }\n",
       "\n",
       "    .dataframe thead th {\n",
       "        text-align: right;\n",
       "    }\n",
       "</style>\n",
       "<table border=\"1\" class=\"dataframe\">\n",
       "  <thead>\n",
       "    <tr style=\"text-align: right;\">\n",
       "      <th></th>\n",
       "      <th>text</th>\n",
       "      <th>cultural_score</th>\n",
       "      <th>primary_subject</th>\n",
       "      <th>edited_filename</th>\n",
       "      <th>article_name</th>\n",
       "    </tr>\n",
       "  </thead>\n",
       "  <tbody>\n",
       "    <tr>\n",
       "      <th>0</th>\n",
       "      <td>[[research, note, church_membership, netherlan...</td>\n",
       "      <td>0.0</td>\n",
       "      <td>Sociology</td>\n",
       "      <td>10.1086_210179</td>\n",
       "      <td>Where Do Interorganizational Networks Come From?</td>\n",
       "    </tr>\n",
       "    <tr>\n",
       "      <th>1</th>\n",
       "      <td>[[polish, io_oo, sociological_review, issn, co...</td>\n",
       "      <td>1.0</td>\n",
       "      <td>Sociology</td>\n",
       "      <td>10.1086_210317</td>\n",
       "      <td>Civil Rights Law at Work: Sex Discrimination a...</td>\n",
       "    </tr>\n",
       "    <tr>\n",
       "      <th>2</th>\n",
       "      <td>[[article, jjdlbsj, grapliy, compassionate, eg...</td>\n",
       "      <td>0.0</td>\n",
       "      <td>Sociology</td>\n",
       "      <td>10.1086_231084</td>\n",
       "      <td>Between Markets and Politics: Organizational R...</td>\n",
       "    </tr>\n",
       "    <tr>\n",
       "      <th>3</th>\n",
       "      <td>[[reply, allison, more, comparing, regression_...</td>\n",
       "      <td>1.0</td>\n",
       "      <td>Sociology</td>\n",
       "      <td>10.1086_231174</td>\n",
       "      <td>World Society and the Nation‐State</td>\n",
       "    </tr>\n",
       "    <tr>\n",
       "      <th>4</th>\n",
       "      <td>[[determinants, spousal, interaction, marital,...</td>\n",
       "      <td>1.0</td>\n",
       "      <td>Sociology</td>\n",
       "      <td>10.1086_382347</td>\n",
       "      <td>Kinship Networks and Entrepreneurs in China’s ...</td>\n",
       "    </tr>\n",
       "    <tr>\n",
       "      <th>5</th>\n",
       "      <td>[[wsê, ih, ompany, profile, john, porter, musé...</td>\n",
       "      <td>1.0</td>\n",
       "      <td>Sociology</td>\n",
       "      <td>10.1086_517899</td>\n",
       "      <td>What Is Organizational Imprinting? Cultural En...</td>\n",
       "    </tr>\n",
       "    <tr>\n",
       "      <th>6</th>\n",
       "      <td>[[andrew_christensen, university_california, l...</td>\n",
       "      <td>1.0</td>\n",
       "      <td>Sociology</td>\n",
       "      <td>10.1086_588742</td>\n",
       "      <td>Homeward Bound? Interest, Identity, and Invest...</td>\n",
       "    </tr>\n",
       "    <tr>\n",
       "      <th>7</th>\n",
       "      <td>[[lawyers, consumer_protection, laws, stewart_...</td>\n",
       "      <td>0.0</td>\n",
       "      <td>Sociology</td>\n",
       "      <td>10.1086_657524</td>\n",
       "      <td>Corporate Unity in American Trade Policy: A Ne...</td>\n",
       "    </tr>\n",
       "    <tr>\n",
       "      <th>8</th>\n",
       "      <td>[[establishing, sense, personal, control, tran...</td>\n",
       "      <td>1.0</td>\n",
       "      <td>Sociology</td>\n",
       "      <td>10.1086_659639</td>\n",
       "      <td>The Credit Crisis as a Problem in the Sociolog...</td>\n",
       "    </tr>\n",
       "    <tr>\n",
       "      <th>9</th>\n",
       "      <td>[[guess, who, coming, town, white_supremacy, e...</td>\n",
       "      <td>0.0</td>\n",
       "      <td>Sociology</td>\n",
       "      <td>10.1525_irqr.2011.4.3.199</td>\n",
       "      <td>Science, Health, and Nationhood</td>\n",
       "    </tr>\n",
       "  </tbody>\n",
       "</table>\n",
       "</div>"
      ],
      "text/plain": [
       "                                                text  cultural_score  \\\n",
       "0  [[research, note, church_membership, netherlan...             0.0   \n",
       "1  [[polish, io_oo, sociological_review, issn, co...             1.0   \n",
       "2  [[article, jjdlbsj, grapliy, compassionate, eg...             0.0   \n",
       "3  [[reply, allison, more, comparing, regression_...             1.0   \n",
       "4  [[determinants, spousal, interaction, marital,...             1.0   \n",
       "5  [[wsê, ih, ompany, profile, john, porter, musé...             1.0   \n",
       "6  [[andrew_christensen, university_california, l...             1.0   \n",
       "7  [[lawyers, consumer_protection, laws, stewart_...             0.0   \n",
       "8  [[establishing, sense, personal, control, tran...             1.0   \n",
       "9  [[guess, who, coming, town, white_supremacy, e...             0.0   \n",
       "\n",
       "  primary_subject            edited_filename  \\\n",
       "0       Sociology             10.1086_210179   \n",
       "1       Sociology             10.1086_210317   \n",
       "2       Sociology             10.1086_231084   \n",
       "3       Sociology             10.1086_231174   \n",
       "4       Sociology             10.1086_382347   \n",
       "5       Sociology             10.1086_517899   \n",
       "6       Sociology             10.1086_588742   \n",
       "7       Sociology             10.1086_657524   \n",
       "8       Sociology             10.1086_659639   \n",
       "9       Sociology  10.1525_irqr.2011.4.3.199   \n",
       "\n",
       "                                        article_name  \n",
       "0   Where Do Interorganizational Networks Come From?  \n",
       "1  Civil Rights Law at Work: Sex Discrimination a...  \n",
       "2  Between Markets and Politics: Organizational R...  \n",
       "3                 World Society and the Nation‐State  \n",
       "4  Kinship Networks and Entrepreneurs in China’s ...  \n",
       "5  What Is Organizational Imprinting? Cultural En...  \n",
       "6  Homeward Bound? Interest, Identity, and Invest...  \n",
       "7  Corporate Unity in American Trade Policy: A Ne...  \n",
       "8  The Credit Crisis as a Problem in the Sociolog...  \n",
       "9                    Science, Health, and Nationhood  "
      ]
     },
     "execution_count": 3,
     "metadata": {},
     "output_type": "execute_result"
    }
   ],
   "source": [
    "cult_df = quickpickle_load(cult_labeled_fp)\n",
    "relt_df = quickpickle_load(relt_labeled_fp)\n",
    "demog_df = quickpickle_load(demog_labeled_fp)\n",
    "orgs_df = quickpickle_load(orgs_labeled_fp)\n",
    "\n",
    "cult_df.head(10)"
   ]
  },
  {
   "cell_type": "code",
   "execution_count": 4,
   "metadata": {},
   "outputs": [
    {
     "name": "stdout",
     "output_type": "stream",
     "text": [
      "cultural_score\n",
      "0.0    475\n",
      "0.5     24\n",
      "1.0    234\n",
      "dtype: int64\n",
      "\n",
      "relational_score\n",
      "0.0    420\n",
      "0.5     29\n",
      "1.0    287\n",
      "dtype: int64\n",
      "\n",
      "demographic_score\n",
      "0.0    477\n",
      "0.5      7\n",
      "1.0    256\n",
      "dtype: int64\n",
      "\n",
      "orgs_score\n",
      "0.0    303\n",
      "0.5     10\n",
      "1.0    511\n",
      "dtype: int64\n"
     ]
    }
   ],
   "source": [
    "# Check score distribution across classes\n",
    "print(cult_df.groupby('cultural_score').size())\n",
    "print()\n",
    "print(relt_df.groupby('relational_score').size())\n",
    "print()\n",
    "print(demog_df.groupby('demographic_score').size())\n",
    "print()\n",
    "print(orgs_df.groupby('orgs_score').size())"
   ]
  },
  {
   "cell_type": "code",
   "execution_count": 5,
   "metadata": {},
   "outputs": [],
   "source": [
    "# Drop unsure cases: where X_score = 0.5\n",
    "drop_unsure = True\n",
    "\n",
    "if drop_unsure:\n",
    "    cult_df_yes = cult_df[cult_df['cultural_score'] == 1.0]\n",
    "    cult_df_no = cult_df[cult_df['cultural_score'] == 0.0]\n",
    "    cult_df = pd.concat([cult_df_yes, cult_df_no])\n",
    "    \n",
    "    relt_df_yes = relt_df[relt_df['relational_score'] == 1.0]\n",
    "    relt_df_no = relt_df[relt_df['relational_score'] == 0.0]\n",
    "    relt_df = pd.concat([relt_df_yes, relt_df_no])\n",
    "    \n",
    "    demog_df_yes = demog_df[demog_df['demographic_score'] == 1.0]\n",
    "    demog_df_no = demog_df[demog_df['demographic_score'] == 0.0]\n",
    "    demog_df = pd.concat([demog_df_yes, demog_df_no])\n",
    "    \n",
    "    orgs_df_yes = orgs_df[orgs_df['orgs_score'] == 1.0]\n",
    "    orgs_df_no = orgs_df[orgs_df['orgs_score'] == 0.0]\n",
    "    orgs_df = pd.concat([orgs_df_yes, orgs_df_no])"
   ]
  },
  {
   "cell_type": "markdown",
   "metadata": {},
   "source": [
    "### Check vocab size and frequent words"
   ]
  },
  {
   "cell_type": "code",
   "execution_count": 6,
   "metadata": {},
   "outputs": [
    {
     "name": "stdout",
     "output_type": "stream",
     "text": [
      "\n"
     ]
    }
   ],
   "source": [
    "def collect_article_tokens(article, return_string=False):\n",
    "    '''\n",
    "    Collects words from already-tokenized sentences representing each article.\n",
    "    \n",
    "    Args:\n",
    "        article: list of lists of words (each list is a sentence)\n",
    "        return_string: whether to return single, long string representing article\n",
    "    Returns:\n",
    "        tokens: string if return_string, else list of tokens\n",
    "    '''\n",
    "    \n",
    "    tokens = [] # initialize\n",
    "    \n",
    "    if return_string:\n",
    "        for sent in article:\n",
    "            sent = ' '.join(sent) # make sentence into a string\n",
    "            tokens.append(sent) # add sentence to list of sentences\n",
    "        tokens = ' '.join(tokens) # join sentences into string\n",
    "        return tokens # return string\n",
    "    \n",
    "    else:\n",
    "        for sent in article:\n",
    "            tokens += [word for word in sent] # add each word to list of tokens\n",
    "        return tokens # return list of tokens\n",
    "\n",
    "# For capturing word frequencies, add all words from each article to single, shared list (can't use this to create models)\n",
    "cult_tokens = []; cult_df['text'].apply(lambda article: cult_tokens.extend([word for word in collect_article_tokens(article)]))\n",
    "relt_tokens = []; relt_df['text'].apply(lambda article: relt_tokens.extend([word for word in collect_article_tokens(article)]))\n",
    "demog_tokens = []; demog_df['text'].apply(lambda article: demog_tokens.extend([word for word in collect_article_tokens(article)]))\n",
    "orgs_tokens = []; orgs_df['text'].apply(lambda article: orgs_tokens.extend([word for word in collect_article_tokens(article)]))\n",
    "print()"
   ]
  },
  {
   "cell_type": "code",
   "execution_count": 8,
   "metadata": {},
   "outputs": [
    {
     "name": "stdout",
     "output_type": "stream",
     "text": [
      "Vocab size: 169701\n",
      "\n",
      "20 most frequent words in labeled articles:\n"
     ]
    },
    {
     "data": {
      "text/plain": [
       "[('from', 89011),\n",
       " ('social', 77638),\n",
       " ('have', 73580),\n",
       " ('we', 70788),\n",
       " ('more', 68737),\n",
       " ('which', 66698),\n",
       " ('were', 65677),\n",
       " ('one', 55317),\n",
       " ('other', 44993),\n",
       " ('than', 43319),\n",
       " ('may', 43175),\n",
       " ('also', 41037),\n",
       " ('all', 40362),\n",
       " ('can', 39250),\n",
       " ('research', 38752),\n",
       " ('between', 38287),\n",
       " ('who', 37469),\n",
       " ('time', 35868),\n",
       " ('has', 33474),\n",
       " ('when', 33441)]"
      ]
     },
     "execution_count": 8,
     "metadata": {},
     "output_type": "execute_result"
    }
   ],
   "source": [
    "# Look at size of vocabulary and most frequent words\n",
    "tokens = ((cult_tokens + relt_tokens) + demog_tokens) + orgs_tokens\n",
    "print('Vocab size:', len(set(tokens)))\n",
    "print()\n",
    "\n",
    "# Check out most frequent words in labeled texts\n",
    "freq = Counter(tokens)\n",
    "print('20 most frequent words in labeled articles:')\n",
    "freq.most_common(20)"
   ]
  },
  {
   "cell_type": "markdown",
   "metadata": {},
   "source": [
    "### Check frequent sentences (to improve cleaning)"
   ]
  },
  {
   "cell_type": "code",
   "execution_count": 11,
   "metadata": {
    "scrolled": true
   },
   "outputs": [
    {
     "name": "stdout",
     "output_type": "stream",
     "text": [
      "Number of sentences: 113692\n",
      "\n",
      "20 most frequent sentences in labeled articles:\n"
     ]
    },
    {
     "data": {
      "text/plain": [
       "[('entry', 12932),\n",
       " ('bottom_entry', 8227),\n",
       " ('align', 8045),\n",
       " ('row', 4734),\n",
       " ('align_center', 2573),\n",
       " ('bottom', 2279),\n",
       " ('align_left', 2004),\n",
       " ('colspec_colnum', 774),\n",
       " ('top entry', 542),\n",
       " ('caption', 430),\n",
       " ('label_label', 424),\n",
       " ('tex_math notation_latex', 404),\n",
       " ('documentclass_aastex', 404),\n",
       " ('usepackage_amsbsy', 404),\n",
       " ('usepackage_amsfonts', 404),\n",
       " ('usepackage_amssymb', 404),\n",
       " ('usepackage_bm', 404),\n",
       " ('usepackage_mathrsfs', 404),\n",
       " ('usepackage_pifont', 404),\n",
       " ('usepackage_stmaryrd', 404),\n",
       " ('usepackage_textcomp', 404),\n",
       " ('usepackage_portland xspace', 404),\n",
       " ('usepackage_amsmath amsxtra', 404),\n",
       " ('usepackage_ot ot_fontenc', 404),\n",
       " ('newcommand_cyr', 404),\n",
       " ('renewcommand_rmdefault wncyr', 404),\n",
       " ('renewcommand_sfdefault wncyss', 404),\n",
       " ('renewcommand_encodingdefault ot', 404),\n",
       " ('normalfont', 404),\n",
       " ('selectfont', 404),\n",
       " ('declaretextfontcommand_extcyr cyr', 404),\n",
       " ('pagestyle_empty', 404),\n",
       " ('declaremathsizes', 404),\n",
       " ('begin_document', 404),\n",
       " ('landscape', 404),\n",
       " ('end_document tex_math', 393),\n",
       " ('entry_align entry', 378),\n",
       " ('position_float', 332),\n",
       " ('alt_version', 332),\n",
       " ('mimetype_image', 332),\n",
       " ('xlink:type_simple', 332),\n",
       " ('align right', 287),\n",
       " ('top', 279),\n",
       " ('italic_italic', 259),\n",
       " ('group', 258),\n",
       " ('table_wrap foot', 242),\n",
       " ('top_break entry', 218),\n",
       " ('sub', 213),\n",
       " ('inline_formula', 172),\n",
       " ('entry_align left_top', 171),\n",
       " ('entry_namest', 158),\n",
       " ('nameend', 158),\n",
       " ('table_xmlns:oasis dtd_xml exchange table model en', 137),\n",
       " ('xmlns:oasis_http docs.oasis_open.org ns_exchange table', 137),\n",
       " ('frame_topbot', 137),\n",
       " ('pgwide', 137),\n",
       " ('orient_port', 137),\n",
       " ('tbody', 137),\n",
       " ('tgroup', 137),\n",
       " ('table', 137),\n",
       " ('table_wrap', 137),\n",
       " ('tbody_top', 134),\n",
       " ('label table label', 133),\n",
       " ('tgroup_cols align_left', 133),\n",
       " ('graphic_xlink:href tb.eps', 98),\n",
       " ('list_item', 98),\n",
       " ('disp_formula df', 94),\n",
       " ('disp_formula', 94),\n",
       " ('entry_align left_top entry', 86),\n",
       " ('fig position_float fig_type figure', 82),\n",
       " ('rotation', 82),\n",
       " ('fig', 82),\n",
       " ('fig group', 82),\n",
       " ('graphic_xlink:href df.eps', 80),\n",
       " ('graphic_xlink:href fg.tiff', 64),\n",
       " ('italic_italic entry', 60),\n",
       " ('hat', 56),\n",
       " ('sup', 52),\n",
       " ('label_fig xml:space_preserve', 48),\n",
       " ('label', 48),\n",
       " ('tbfna', 46),\n",
       " ('bottom yes entry', 44),\n",
       " ('bottom model entry', 44),\n",
       " ('title', 41),\n",
       " ('bottom sd entry', 40),\n",
       " ('entry_align left_top χ_sup sup italic df italic_italic italic lt entry',\n",
       "  40),\n",
       " ('morerows', 39),\n",
       " ('graphic_xlink:href tb_eps', 39),\n",
       " ('bottom mean entry', 37),\n",
       " ('bottom mse entry', 36),\n",
       " ('bottom total entry', 36),\n",
       " ('italic_italic italic df italic_italic italic two_tailed entry', 36),\n",
       " ('label_fig label', 34),\n",
       " ('mathrm_mathrm', 32),\n",
       " ('bottom configuration sets entry', 28),\n",
       " ('bottom continuation rate entry', 28),\n",
       " ('bottom continuation rate other configurations entry', 28),\n",
       " ('italic white boys drd risk italic', 28),\n",
       " ('bottom χ_sup sup italic df italic_italic italic entry', 28),\n",
       " ('italic_ij italic', 27)]"
      ]
     },
     "execution_count": 11,
     "metadata": {},
     "output_type": "execute_result"
    }
   ],
   "source": [
    "# Add sentences from each article to empty list:\n",
    "cult_sents = []; cult_df['text'].apply(\n",
    "    lambda article: cult_sents.extend(\n",
    "        [' '.join([word for word in sent]) for sent in article]))\n",
    "relt_sents = []; relt_df['text'].apply(\n",
    "    lambda article: relt_sents.extend(\n",
    "        [' '.join([word for word in sent]) for sent in article]))\n",
    "demog_sents = []; demog_df['text'].apply(\n",
    "    lambda article: demog_sents.extend(\n",
    "        [' '.join([word for word in sent]) for sent in article]))\n",
    "orgs_sents = []; orgs_df['text'].apply(\n",
    "    lambda article: orgs_sents.extend(\n",
    "        [' '.join([word for word in sent]) for sent in article]))\n",
    "\n",
    "sents = ((cult_sents + relt_sents) + demog_sents) + orgs_sents\n",
    "print('Number of sentences:', len(sents))\n",
    "print()\n",
    "\n",
    "# Check out most frequent sentences in labeled texts\n",
    "freq = Counter(sents)\n",
    "print('20 most frequent sentences in labeled articles:')\n",
    "freq.most_common(100)"
   ]
  },
  {
   "cell_type": "markdown",
   "metadata": {},
   "source": [
    "### Load and apply text vectorizers"
   ]
  },
  {
   "cell_type": "code",
   "execution_count": 12,
   "metadata": {},
   "outputs": [
    {
     "name": "stdout",
     "output_type": "stream",
     "text": [
      "\n"
     ]
    }
   ],
   "source": [
    "# Collect articles: Add each article as single str to list of str:\n",
    "cult_docs = [] # empty list\n",
    "cult_df['text'].apply(\n",
    "    lambda article: cult_docs.append(\n",
    "        collect_article_tokens(\n",
    "            article, \n",
    "            return_string=True)))\n",
    "\n",
    "relt_docs = [] # empty list\n",
    "relt_df['text'].apply(\n",
    "    lambda article: relt_docs.append(\n",
    "       collect_article_tokens(\n",
    "            article, \n",
    "            return_string=True)))\n",
    "\n",
    "demog_docs = [] # empty list\n",
    "demog_df['text'].apply(\n",
    "    lambda article: demog_docs.append(\n",
    "        collect_article_tokens(\n",
    "            article, \n",
    "            return_string=True)))\n",
    "\n",
    "orgs_docs = [] # empty list\n",
    "orgs_df['text'].apply(\n",
    "    lambda article: orgs_docs.append(\n",
    "        collect_article_tokens(\n",
    "            article, \n",
    "            return_string=True)))\n",
    "\n",
    "print() # skip weird output"
   ]
  },
  {
   "cell_type": "code",
   "execution_count": 16,
   "metadata": {
    "scrolled": true
   },
   "outputs": [
    {
     "name": "stderr",
     "output_type": "stream",
     "text": [
      "/opt/conda/lib/python3.7/site-packages/sklearn/base.py:315: UserWarning: Trying to unpickle estimator TfidfTransformer from version 0.24.1 when using version 0.24.0. This might lead to breaking code or invalid results. Use at your own risk.\n",
      "  UserWarning)\n",
      "/opt/conda/lib/python3.7/site-packages/sklearn/base.py:315: UserWarning: Trying to unpickle estimator TfidfVectorizer from version 0.24.1 when using version 0.24.0. This might lead to breaking code or invalid results. Use at your own risk.\n",
      "  UserWarning)\n"
     ]
    },
    {
     "name": "stdout",
     "output_type": "stream",
     "text": [
      "Number of features in cultural vectorizer: 100000\n",
      "Every 1000th word:\n",
      "['_author', 'achivement', 'aerotic', 'alam', 'amazon_basin', 'anjlated', 'appropriated', 'attacks', 'barbara_entwisle', 'berlin_berlin', 'boles', 'brotherhood', 'cantonments', 'cfi_comparative', 'ciu', 'collects', 'conceptually', 'convoluted', 'criticised', 'daunting_task', 'demonized', 'diesel_engines', 'distributed', 'dst', 'efforts', 'enhance_interpretability', 'euroqol', 'fabrigar', 'fictional', 'foreignness', 'furstenberg', 'giddens', 'greenfeld', 'hard_currency', 'het_erogeneity', 'hospital_bed', 'illuminate', 'infants', 'internally_consistent', 'jaffee_david', 'kagono_nonaka', 'kockott', 'latham_wexley', 'liebling', 'loseke_eds', 'manager', 'mazur', 'mexican_immigrants', 'modifier', 'murdie', 'neter_john', 'norfolk', 'oil_spills', 'ot_ot', 'paris_harmattan', 'perks', 'plea_negotiation', 'praeger_publishers', 'processors', 'psych_bull', 'qtj', 'ramadan', 'reappeared', 'referrals', 'relmo', 'residen_tial', 'rffirl', 'romantics', 'running', 'sandra_hanson', 'scholl', 'seers', 'seriously_jeopardize', 'shiriki', 'sina', 'smarquez', 'somatoform', 'spiritualists', 'statics', 'stratified_multistage', 'substantively_methodologically', 'surpassing', 'tackling', 'technology_transfer', 'thampil', 'tietze', 'toxoid', 'tripath', 'tyran', 'undermined', 'unobtrusively', 'ustong', 'venkatraman', 'vistasl', 'walmart', 'werren', 'winner_winner', 'ws', 'youthfulness', 'íocd']\n",
      "\n",
      "Number of features in relational vectorizer: 100000\n",
      "Every 1000th word:\n",
      "['_author', 'adner_levinthal', 'allott', 'anthony_bryk', 'asp_doi', 'back_propagation', 'behave_opportunistically', 'black_householders', 'braverman_labor', 'bx', 'catholic_church', 'child_minding', 'co_cm', 'compensated', 'constrained_equal', 'coup', 'cutoff_criteria', 'deering', 'deterministic_chaos', 'discover', 'djebarni', 'drink', 'edward_bruner', 'enduring', 'eu_eu', 'eye_storm', 'fewer_hours', 'forcomptar', 'functionality', 'getting_caught', 'graves_rinnooy', 'hangs', 'heredity', 'hoop', 'ignagni', 'inductive_deductive', 'interest_intermediation', 'ivc_vi', 'jury_selection', 'kmenta_elements', 'larimo', 'liberated', 'looms_large', 'males_females', 'max_min', 'meted_out', 'modal_stratum', 'multiplication', 'neiqhbours', 'nonsignificant', 'ofpower', 'orzco', 'parasubordinato', 'performance_appraisal', 'platitudes', 'prac_tices', 'prin_cipal', 'pronatalist', 'publicly_available', 'questionnaire_pretested', 'raskin_white', 'recognises', 'regularized', 'rent_arrears', 'rests_heavily', 'rigged', 'romania_albania', 'rumelt_barney', 'sanct', 'schmollers_jahrbuch', 'see_appendix', 'serendipity', 'sheraton', 'siltanen', 'slightly_overestimated', 'software_developers', 'specifity', 'stanched', 'stirring', 'stupendo', 'sunbelt_cities', 'sylos_labini', 'tations', 'tergenerational', 'thirty', 'tky', 'tragedies', 'trude', 'uences', 'undp_undp', 'unresponsiveness', 'vacated', 'versational', 'vodca', 'warner_defleur', 'western_flores', 'winship_christopher', 'wtrenton', 'youthful_atheism', 'économique']\n",
      "\n",
      "Number of features in demographic vectorizer: 100000\n",
      "Every 1000th word:\n",
      "['_author', 'ackerman', 'aequitasaudit', 'al_dïn', 'amana', 'anglia', 'appellate_judge', 'aside', 'babson_college', 'bean_counters', 'berger_morris', 'bleaker', 'brahmanic', 'bryant', 'cacioppo_petty', 'carers', 'ce_ce', 'charvat', 'cia_world', 'co_cm', 'comparing', 'constance_shehan', 'counseling', 'currently_completing', 'decorating', 'deskilling', 'disbelieved', 'dominated', 'early_twentieth', 'elwert', 'equity_joint', 'exhausted', 'fatally_flawed', 'fitton', 'fraught', 'gatt', 'goffé', 'guitars', 'he_insists', 'hisp', 'humphreys', 'impure', 'inroads_male', 'inupiaq', 'jensen_meckling', 'kay_lehman', 'kroeber_kluckhohn', 'league_baseball', 'ling', 'lucius', 'mar_kets', 'mclean', 'mid_victorian', 'monist', 'muñoz', 'newly_merged', 'notation_latex', 'ols_regression', 'outfit', 'partially_compensated', 'person', 'plus_minus', 'precarious', 'professionals', 'píí', 'rdc', 'refutes', 'remembrance', 'resource_extraction', 'rical', 'robustness_check', 'rrr_se', 'salesmen', 'sceptic', 'searles', 'senior_executives', 'shaping_reshaping', 'sidewalk', 'skewness_kurtosis', 'sofer', 'srensen_kalleberg', 'stoclk', 'sub_sahara', 'sunshine', 'syncretic', 'tenured_professors', 'tiróle', 'tri_emissions', 'ube', 'understatement', 'unproctored', 'utoledo', 'verbal_abilities', 'vivante', 'wandered', 'were_reinterviewed', 'wilmoth', 'wreckers', 'yond', 'á_']\n",
      "Number of features in organizational soc vectorizer: 100000\n",
      "Every 1000th word:\n",
      "['_author', 'adjudicate', 'alawis', 'ancestry', 'archeological', 'atki', 'backfires', 'bbc', 'bes', 'blog', 'braconi', 'burdening', 'carlotta', 'chankong', 'cj_cj', 'coleman_hoffer', 'con_cern', 'continuamente', 'coverman_sheley', 'cuts', 'deci', 'denrell_march', 'dia_lectic', 'discotheques', 'doctoral_fellowship', 'dry', 'economia', 'elicits', 'enlarged_eu', 'est', 'executive_compensation', 'fadéla', 'femme', 'flacks', 'forunx', 'functional', 'generalizado', 'globaliza_tion', 'greenbaum', 'haignere', 'hconomic', 'hierarchical_dualisms', 'homosexual_acts', 'husic', 'impatience', 'information', 'internationaljournal_sociology', 'iviay', 'judge', 'kimble', 'ladner_joyce', 'leigh', 'littoral', 'lust', 'march_april', 'mckay', 'michael_messner', 'mod_els', 'multi_nationals', 'nearest_filing', 'non_estonians', 'nutshell', 'onr', 'outlines', 'parochial', 'perishable_goods', 'plants', 'potion', 'priority', 'psy_chologists', 'racial_discrimination', 'received_november', 'relays', 'resulf', 'robust', 'sacralized', 'schooler', 'sensualist', 'shortness', 'skarlicki', 'sociologists_psychologists', 'spheres', 'staw_eds', 'strives', 'sultan_johore', 'synergistic', 'technischer', 'theodore_newcomb', 'tipton_steven', 'trans_ferred', 'tumin', 'und_perspektiven', 'unplanned_pregnancies', 'valencia', 'victorian_edwardian', 'wagner_frick', 'wendy_cadge', 'wisp', 'xor', 'zombie']\n"
     ]
    }
   ],
   "source": [
    "# Define stopwords used by JSTOR\n",
    "jstor_stopwords = set([\"a\", \"an\", \"and\", \"are\", \"as\", \"at\", \"be\", \"but\", \"by\", \"for\", \"if\", \"in\", \"into\", \"is\", \"it\", \"no\", \"not\", \"of\", \"on\", \"or\", \"such\", \"that\", \"the\", \"their\", \"then\", \"there\", \"these\", \"they\", \"this\", \"to\", \"was\", \"will\", \"with\"])\n",
    "\n",
    "# Uses TFIDF weighted DTM because results in better classifier accuracy than unweighted\n",
    "cult_vectorizer = joblib.load(cult_vec_fp, \"r+\")\n",
    "X_cult = cult_vectorizer.transform(cult_docs)\n",
    "print('Number of features in cultural vectorizer:', len(cult_vectorizer.get_feature_names()))\n",
    "print('Every 1000th word:\\n{}'.format(cult_vectorizer.get_feature_names()[::1000])) # get every 1000th word\n",
    "print()\n",
    "\n",
    "relt_vectorizer = joblib.load(relt_vec_fp, \"r+\")\n",
    "X_relt = relt_vectorizer.transform(relt_docs)\n",
    "print('Number of features in relational vectorizer:', len(relt_vectorizer.get_feature_names()))\n",
    "print('Every 1000th word:\\n{}'.format(relt_vectorizer.get_feature_names()[::1000])) # get every 1000th word\n",
    "print()\n",
    "\n",
    "demog_vectorizer = joblib.load(demog_vec_fp, \"r+\")\n",
    "X_demog = demog_vectorizer.transform(demog_docs)\n",
    "print('Number of features in demographic vectorizer:', len(demog_vectorizer.get_feature_names()))\n",
    "print('Every 1000th word:\\n{}'.format(demog_vectorizer.get_feature_names()[::1000])) # get every 1000th word\n",
    "print()\n",
    "\n",
    "orgs_vectorizer = joblib.load(orgs_vec_fp, \"r+\")\n",
    "X_orgs = orgs_vectorizer.transform(orgs_docs)\n",
    "print('Number of features in organizational soc vectorizer: {}'.format(len(orgs_vectorizer.get_feature_names())))\n",
    "print('Every 1000th word:\\n{}'.format(orgs_vectorizer.get_feature_names()[::1000])) # get every 1000th word"
   ]
  },
  {
   "cell_type": "markdown",
   "metadata": {},
   "source": [
    "## Setup for modeling"
   ]
  },
  {
   "cell_type": "code",
   "execution_count": 17,
   "metadata": {},
   "outputs": [],
   "source": [
    "######################################################\n",
    "# Balance x_train, y_train\n",
    "######################################################\n",
    "\n",
    "def resample_data(X_train, Y_train, undersample = False, sampling_ratio = 1.0):\n",
    "    \"\"\"\n",
    "    Args:\n",
    "        X_train: X training data\n",
    "        Y_train: Y training data\n",
    "        undersample: boolean for over or undersampling\n",
    "        sampling_ratio: ratio of minority to majority class\n",
    "        \n",
    "        archived/not used:\n",
    "        sampling_strategy: strategy for resampled distribution\n",
    "            if oversample: 'majority' makes minority = to majority\n",
    "            if undersample: 'minority' makes majority = to minority\n",
    "            \n",
    "    Returns:\n",
    "        X_balanced: predictors at balanced ratio\n",
    "        Y_balanced: outcomes at balanced ratio\n",
    "    \"\"\"\n",
    "    \n",
    "    if undersample == True:\n",
    "        undersample = RandomUnderSampler(sampling_strategy=sampling_ratio)\n",
    "        X_balanced, Y_balanced = undersample.fit_resample(X_train, Y_train)\n",
    "    else:\n",
    "        oversample = RandomOverSampler(sampling_strategy=sampling_ratio)\n",
    "        X_balanced, Y_balanced = oversample.fit_resample(X_train, Y_train)\n",
    "    \n",
    "    print(f'Y_train: {Counter(Y_train)}\\nY_resample: {Counter(Y_balanced)}')\n",
    "    \n",
    "    return X_balanced, Y_balanced"
   ]
  },
  {
   "cell_type": "code",
   "execution_count": 18,
   "metadata": {},
   "outputs": [],
   "source": [
    "def compute_predictions(text, vectorizer_model, class_model):\n",
    "    '''\n",
    "    Predicts the label for an input text using a given model trained to classify the texts. \n",
    "    Uses vectorizer_model to restrict the vocab of the input text so it's consistent with vocab in class_model (avoids errors).\n",
    "    \n",
    "    Args:\n",
    "        text: preprocessed text in format of list of sentences, each a str or list of tokens\n",
    "        vectorizer_model: fitted text vectorizer\n",
    "        class_model: trained classification model\n",
    "    Returns:\n",
    "        label: label for text predicted by model, false for tie\n",
    "        prob: probability for label\n",
    "    '''\n",
    "    \n",
    "    X = vectorizer_model.transform(text) # create TF-IDF-weighted DTM from text\n",
    "    try:\n",
    "        probabilities = class_model.predict_proba(X)\n",
    "    except: \n",
    "        return\n",
    "    \n",
    "    label = 'no'\n",
    "    prob_no = probabilities[0][0]\n",
    "    prob_yes = probabilities[0][1]\n",
    "    \n",
    "    # predicted label is one with greater probability\n",
    "    if probabilities[0][0] < probabilities[0][1]:\n",
    "        label = 'yes'\n",
    "        \n",
    "    return label, prob_yes, prob_no"
   ]
  },
  {
   "cell_type": "code",
   "execution_count": 19,
   "metadata": {},
   "outputs": [],
   "source": [
    "######################################################\n",
    "# k-fold cross validation for model evaluation\n",
    "######################################################\n",
    "\n",
    "# Define test options for k-fold CV\n",
    "num_folds = 10 \n",
    "seed = 3\n",
    "scoring='f1_weighted' # set scoring metric (not used here)\n",
    "\n",
    "def show_kfold_output(models,  \n",
    "                      X, \n",
    "                      Y, \n",
    "                      df, \n",
    "                      text_col, \n",
    "                      vectorizer, \n",
    "                      num_folds = num_folds, \n",
    "                      random_state = seed, \n",
    "                      shuffle = True):\n",
    "    '''\n",
    "    Estimates the accuracy of different model algorithms, adds results to a results array and returns.\n",
    "    Prints the accuracy results: averages and std.\n",
    "    Uses cross_val_predict, which unlike cross_val_score cannot define scoring option/evaluation metric.\n",
    "    \n",
    "    Args:\n",
    "        models: list of (name, model) tuples\n",
    "        X: predictors\n",
    "        Y: outcomes\n",
    "        num_folds: Split data randomly into num_folds parts: (num_folds-1) for training, 1 for scoring\n",
    "        random_state: seed\n",
    "        shuffle: \n",
    "    \n",
    "    Returns:\n",
    "        results: list of model results\n",
    "        names: list of model names (matches results)\n",
    "        \n",
    "    Source: \n",
    "        https://stackoverflow.com/questions/40057049/using-confusion-matrix-as-scoring-metric-in-cross-validation-in-scikit-learn\n",
    "    '''\n",
    "    \n",
    "    results = []\n",
    "    names = []\n",
    "    \n",
    "    for name, model in models:\n",
    "        # Print name of model\n",
    "        print(f'{name}:')\n",
    "        print()\n",
    "        \n",
    "        # Setup model options\n",
    "        kfold = KFold(\n",
    "            n_splits=num_folds, \n",
    "            random_state=seed, \n",
    "            shuffle=True)\n",
    "        \n",
    "        # Get kfold results\n",
    "        cv_results = cross_val_predict(\n",
    "            model.fit(X, Y), \n",
    "            X, \n",
    "            Y, \n",
    "            cv=kfold, \n",
    "            #scoring=scoring, \n",
    "            n_jobs=-1) # use all cores = faster\n",
    "        \n",
    "        # Add results and name of each algorithm to the model array\n",
    "        results.append(cv_results)\n",
    "        names.append(name)\n",
    "        \n",
    "        # Validation step: Predict class probabilities in labeled data, compare to actual labels\n",
    "        try:\n",
    "            tqdm.pandas(desc=\"Computing predictions\")\n",
    "            df[['prediction', 'prediction_prob_yes', 'prediction_prob_no']] = df[text_col].progress_apply(\n",
    "            lambda text: pd.Series(\n",
    "                compute_predictions(\n",
    "                    [' '.join(sent) for sent in sent_tokenize(text)], \n",
    "                    vectorizer, model)))\n",
    "            print(\"Distribution of predicted labels:\\n\", df['prediction'].value_counts()) # show predicted distribution, compare to labeled distribution\n",
    "            print()\n",
    "        except: \n",
    "            pass\n",
    "        \n",
    "        # Print results\n",
    "        print(f'Mean (std):\\t {round(cv_results.mean(),4)} ({round(cv_results.std(),4)})')\n",
    "        print(f'Accuracy:\\t', {round(accuracy_score(Y, cv_results)), 4})\n",
    "        print()\n",
    "        print('Confusion matrix:\\n', confusion_matrix(Y, cv_results))\n",
    "        print()\n",
    "        print('Report:\\n', classification_report(Y, cv_results))\n",
    "        print()\n",
    "        \n",
    "    # Return arrays\n",
    "    return results, names"
   ]
  },
  {
   "cell_type": "markdown",
   "metadata": {},
   "source": [
    "## Evaluate algorithms: Cultural perspective"
   ]
  },
  {
   "cell_type": "code",
   "execution_count": 22,
   "metadata": {},
   "outputs": [
    {
     "name": "stdout",
     "output_type": "stream",
     "text": [
      "Number of cases: 709\n",
      "Number of codes (should match): 709\n"
     ]
    }
   ],
   "source": [
    "######################################################\n",
    "# Prepare training and validation data\n",
    "######################################################\n",
    "\n",
    "# Separate training and final validation data set. First remove class\n",
    "# label from data (X). Setup target class (Y)\n",
    "# Then make the validation set 10% of the entire\n",
    "# set of labeled data (X_validate, Y_validate)\n",
    "\n",
    "cult_df = cult_df[['text', 'cultural_score']]\n",
    "print(\"Number of cases:\", str(X_cult.shape[0]))\n",
    "\n",
    "valueArray = cult_df.values\n",
    "Y = valueArray[:,1]\n",
    "Y = Y.astype('float')\n",
    "print(\"Number of codes (should match):\", str(len(Y)))"
   ]
  },
  {
   "cell_type": "code",
   "execution_count": 23,
   "metadata": {},
   "outputs": [
    {
     "name": "stdout",
     "output_type": "stream",
     "text": [
      "Y_train: Counter({0.0: 475, 1.0: 234})\n",
      "Y_resample: Counter({1.0: 475, 0.0: 475})\n"
     ]
    }
   ],
   "source": [
    "######################################################\n",
    "# Oversample to desirable ratio\n",
    "######################################################\n",
    "\n",
    "# Use these settings here and below\n",
    "seed = 43 # for randomizing\n",
    "sampling_ratio = 1.0 # ratio of minority to majority cases\n",
    "undersample = False # whether to undersample or oversample\n",
    "\n",
    "X_balanced, Y_balanced = resample_data(\n",
    "    X_cult, \n",
    "    Y, \n",
    "    undersample=undersample, \n",
    "    sampling_ratio=sampling_ratio)"
   ]
  },
  {
   "cell_type": "code",
   "execution_count": 25,
   "metadata": {},
   "outputs": [
    {
     "name": "stdout",
     "output_type": "stream",
     "text": [
      "Distribution of labeled cultural articles: [(0.0, 475), (1.0, 234)]\n",
      "\n",
      "K-Nearest Neighbors (KNN):\n",
      "\n"
     ]
    },
    {
     "name": "stderr",
     "output_type": "stream",
     "text": [
      "Computing predictions:   0%|          | 1/709 [00:00<00:10, 65.09it/s]\n"
     ]
    },
    {
     "name": "stdout",
     "output_type": "stream",
     "text": [
      "Mean (std):\t 0.6305 (0.4827)\n",
      "Accuracy:\t {1, 4}\n",
      "\n",
      "Confusion matrix:\n",
      " [[185 290]\n",
      " [166 309]]\n",
      "\n",
      "Report:\n",
      "               precision    recall  f1-score   support\n",
      "\n",
      "         0.0       0.53      0.39      0.45       475\n",
      "         1.0       0.52      0.65      0.58       475\n",
      "\n",
      "    accuracy                           0.52       950\n",
      "   macro avg       0.52      0.52      0.51       950\n",
      "weighted avg       0.52      0.52      0.51       950\n",
      "\n",
      "\n",
      "Random Forest (RF):\n",
      "\n"
     ]
    },
    {
     "name": "stderr",
     "output_type": "stream",
     "text": [
      "Computing predictions:   0%|          | 1/709 [00:00<00:00, 898.14it/s]\n"
     ]
    },
    {
     "name": "stdout",
     "output_type": "stream",
     "text": [
      "Mean (std):\t 0.4347 (0.4957)\n",
      "Accuracy:\t {1, 4}\n",
      "\n",
      "Confusion matrix:\n",
      " [[453  22]\n",
      " [ 84 391]]\n",
      "\n",
      "Report:\n",
      "               precision    recall  f1-score   support\n",
      "\n",
      "         0.0       0.84      0.95      0.90       475\n",
      "         1.0       0.95      0.82      0.88       475\n",
      "\n",
      "    accuracy                           0.89       950\n",
      "   macro avg       0.90      0.89      0.89       950\n",
      "weighted avg       0.90      0.89      0.89       950\n",
      "\n",
      "\n",
      "Decision Tree (DT):\n",
      "\n"
     ]
    },
    {
     "name": "stderr",
     "output_type": "stream",
     "text": [
      "Computing predictions:   0%|          | 1/709 [00:00<00:00, 900.07it/s]\n"
     ]
    },
    {
     "name": "stdout",
     "output_type": "stream",
     "text": [
      "Mean (std):\t 0.6337 (0.4818)\n",
      "Accuracy:\t {1, 4}\n",
      "\n",
      "Confusion matrix:\n",
      " [[291 184]\n",
      " [ 57 418]]\n",
      "\n",
      "Report:\n",
      "               precision    recall  f1-score   support\n",
      "\n",
      "         0.0       0.84      0.61      0.71       475\n",
      "         1.0       0.69      0.88      0.78       475\n",
      "\n",
      "    accuracy                           0.75       950\n",
      "   macro avg       0.77      0.75      0.74       950\n",
      "weighted avg       0.77      0.75      0.74       950\n",
      "\n",
      "\n",
      "Multinomial Naive Bayes (MNB):\n",
      "\n"
     ]
    },
    {
     "name": "stderr",
     "output_type": "stream",
     "text": [
      "Computing predictions:   0%|          | 1/709 [00:00<00:00, 941.06it/s]\n"
     ]
    },
    {
     "name": "stdout",
     "output_type": "stream",
     "text": [
      "Mean (std):\t 0.6653 (0.4719)\n",
      "Accuracy:\t {1, 4}\n",
      "\n",
      "Confusion matrix:\n",
      " [[249 226]\n",
      " [ 69 406]]\n",
      "\n",
      "Report:\n",
      "               precision    recall  f1-score   support\n",
      "\n",
      "         0.0       0.78      0.52      0.63       475\n",
      "         1.0       0.64      0.85      0.73       475\n",
      "\n",
      "    accuracy                           0.69       950\n",
      "   macro avg       0.71      0.69      0.68       950\n",
      "weighted avg       0.71      0.69      0.68       950\n",
      "\n",
      "\n",
      "Logistic Regression (LR):\n",
      "\n"
     ]
    },
    {
     "name": "stderr",
     "output_type": "stream",
     "text": [
      "Computing predictions:   0%|          | 1/709 [00:00<00:01, 538.08it/s]\n"
     ]
    },
    {
     "name": "stdout",
     "output_type": "stream",
     "text": [
      "Mean (std):\t 0.5179 (0.4997)\n",
      "Accuracy:\t {1, 4}\n",
      "\n",
      "Confusion matrix:\n",
      " [[341 134]\n",
      " [117 358]]\n",
      "\n",
      "Report:\n",
      "               precision    recall  f1-score   support\n",
      "\n",
      "         0.0       0.74      0.72      0.73       475\n",
      "         1.0       0.73      0.75      0.74       475\n",
      "\n",
      "    accuracy                           0.74       950\n",
      "   macro avg       0.74      0.74      0.74       950\n",
      "weighted avg       0.74      0.74      0.74       950\n",
      "\n",
      "\n",
      "Support Vector Machine (SVM):\n",
      "\n"
     ]
    },
    {
     "name": "stderr",
     "output_type": "stream",
     "text": [
      "Computing predictions:   0%|          | 1/709 [00:00<00:00, 722.04it/s]\n"
     ]
    },
    {
     "name": "stdout",
     "output_type": "stream",
     "text": [
      "Mean (std):\t 0.5 (0.5)\n",
      "Accuracy:\t {0, 4}\n",
      "\n",
      "Confusion matrix:\n",
      " [[222 253]\n",
      " [253 222]]\n",
      "\n",
      "Report:\n",
      "               precision    recall  f1-score   support\n",
      "\n",
      "         0.0       0.47      0.47      0.47       475\n",
      "         1.0       0.47      0.47      0.47       475\n",
      "\n",
      "    accuracy                           0.47       950\n",
      "   macro avg       0.47      0.47      0.47       950\n",
      "weighted avg       0.47      0.47      0.47       950\n",
      "\n",
      "\n",
      "Multi-Layer Perceptron (MLP):\n",
      "\n"
     ]
    },
    {
     "name": "stderr",
     "output_type": "stream",
     "text": [
      "Computing predictions:   0%|          | 1/709 [00:00<00:04, 171.95it/s]"
     ]
    },
    {
     "name": "stdout",
     "output_type": "stream",
     "text": [
      "Mean (std):\t 0.4884 (0.4999)\n",
      "Accuracy:\t {1, 4}\n",
      "\n",
      "Confusion matrix:\n",
      " [[409  66]\n",
      " [ 77 398]]\n",
      "\n",
      "Report:\n",
      "               precision    recall  f1-score   support\n",
      "\n",
      "         0.0       0.84      0.86      0.85       475\n",
      "         1.0       0.86      0.84      0.85       475\n",
      "\n",
      "    accuracy                           0.85       950\n",
      "   macro avg       0.85      0.85      0.85       950\n",
      "weighted avg       0.85      0.85      0.85       950\n",
      "\n",
      "\n"
     ]
    },
    {
     "name": "stderr",
     "output_type": "stream",
     "text": [
      "\n"
     ]
    }
   ],
   "source": [
    "######################################################\n",
    "# Use different algorithms to build models\n",
    "######################################################\n",
    "\n",
    "mlp = MLPClassifier(random_state=seed, max_iter=200, activation='relu', \n",
    "                    alpha=0.0001, hidden_layer_sizes=(50, 50), \n",
    "                    learning_rate='adaptive', solver='adam')\n",
    "\n",
    "#ensemble = \n",
    "\n",
    "models = []\n",
    "models.append(('K-Nearest Neighbors (KNN)', KNeighborsClassifier()))\n",
    "models.append(('Random Forest (RF)', RandomForestClassifier(random_state=seed)))\n",
    "models.append(('Decision Tree (DT)', DecisionTreeClassifier(random_state=seed)))\n",
    "models.append(('Multinomial Naive Bayes (MNB)', MultinomialNB()))\n",
    "models.append(('Logistic Regression (LR)', LogisticRegression(random_state=seed)))\n",
    "models.append(('Support Vector Machine (SVM)', SVC(gamma='auto')))\n",
    "models.append(('Multi-Layer Perceptron (MLP)', mlp))\n",
    "#models.append(('Ensemble model (MLP + Logit)', ensemble))\n",
    "\n",
    "# Baseline: distribution of labeled data\n",
    "print(f'Distribution of labeled cultural articles: {Counter(Y).most_common()}')\n",
    "print()\n",
    "\n",
    "# Evaluate algorithms using 10-fold cross validation\n",
    "results, names = show_kfold_output(models=models, \n",
    "                                   X=X_balanced,\n",
    "                                   Y=Y_balanced, \n",
    "                                   df=cult_df, \n",
    "                                   text_col='text', \n",
    "                                   vectorizer=cult_vectorizer)"
   ]
  },
  {
   "cell_type": "code",
   "execution_count": null,
   "metadata": {},
   "outputs": [],
   "source": [
    "######################################################\n",
    "# Save best model\n",
    "######################################################\n",
    "\n",
    "best_model_suffix = \"MLP\" # selected model\n",
    "cult_model_fp = model_fp + f'classifier_cult_{str(best_model_suffix)}_{str(thisday)}.joblib'\n",
    "\n",
    "# cult_model = MLPClassifier(max_iter=100, activation='relu').fit(X_balanced, Y_balanced) \n",
    "             # DecisionTreeClassifier(random_state=seed).fit(X_balanced, Y_balanced) \n",
    "             # RandomForestClassifier(random_state=seed).fit(X_balanced, Y_balanced)\n",
    "        \n",
    "joblib.dump(cult_model, cult_model_fp)"
   ]
  },
  {
   "cell_type": "markdown",
   "metadata": {},
   "source": [
    "### Validation step: Use selected model to predict class probabilities in training data"
   ]
  },
  {
   "cell_type": "code",
   "execution_count": null,
   "metadata": {},
   "outputs": [],
   "source": [
    "def compute_predictions(text, vectorizer_model, class_model):\n",
    "    '''\n",
    "    Predicts the label for an input article using a given model trained to classify organizational perspectives in articles. \n",
    "    Uses vectorizer_model to restrict the vocab of the input article so it's consistent with vocab in class_model (avoids errors).\n",
    "    \n",
    "    Args:\n",
    "        text: preprocessed article text in format of list of sentences, each a str or list of tokens\n",
    "        vectorizer_model: fitted text vectorizer\n",
    "        class_model: trained classification model\n",
    "    Returns:\n",
    "        label: label for text predicted by model, false for tie\n",
    "        prob: probability for label\n",
    "    '''\n",
    "    \n",
    "    X = vectorizer_model.transform(text) # create TF-IDF-weighted DTM from text\n",
    "    probabilities = class_model.predict_proba(X)\n",
    "    \n",
    "    label = 'no'\n",
    "    prob_no = probabilities[0][0]\n",
    "    prob_yes = probabilities[0][1]\n",
    "    \n",
    "    # predicted label is one with greater probability\n",
    "    if probabilities[0][0] < probabilities[0][1]:\n",
    "        label = 'yes'\n",
    "        \n",
    "    return label, prob_yes, prob_no"
   ]
  },
  {
   "cell_type": "code",
   "execution_count": null,
   "metadata": {},
   "outputs": [],
   "source": [
    "# Make predictions\n",
    "#cult_model = MLPClassifier(max_iter=100, activation='relu').fit(X_cult, Y) # DecisionTreeClassifier(random_state=seed).fit(X_relt, Y)\n",
    "tqdm.pandas(desc = \"Predicting: cultural persp.\")\n",
    "cult_df[['prediction_cult','prediction_cult_prob_yes','prediction_cult_prob_no']] = cult_df['text'].progress_apply(lambda sentlist: pd.Series(compute_predictions([' '.join(sent) for sent in sentlist], cult_vectorizer, cult_model)))"
   ]
  },
  {
   "cell_type": "code",
   "execution_count": null,
   "metadata": {},
   "outputs": [],
   "source": [
    "# Check out predictions: labels should be balanced\n",
    "pred_col = 'prediction_cult'\n",
    "cult_df[pred_col].value_counts()"
   ]
  },
  {
   "cell_type": "code",
   "execution_count": 3,
   "metadata": {},
   "outputs": [
    {
     "ename": "NameError",
     "evalue": "name 'Y' is not defined",
     "output_type": "error",
     "traceback": [
      "\u001b[0;31m---------------------------------------------------------------------------\u001b[0m",
      "\u001b[0;31mNameError\u001b[0m                                 Traceback (most recent call last)",
      "\u001b[0;32m<ipython-input-3-d3ba9662947b>\u001b[0m in \u001b[0;36m<module>\u001b[0;34m\u001b[0m\n\u001b[1;32m      1\u001b[0m \u001b[0;31m# Compare to distribution of labeled data\u001b[0m\u001b[0;34m\u001b[0m\u001b[0;34m\u001b[0m\u001b[0;34m\u001b[0m\u001b[0m\n\u001b[0;32m----> 2\u001b[0;31m \u001b[0mprint\u001b[0m\u001b[0;34m(\u001b[0m\u001b[0;34mf'Distribution of labeled cultural data: {Counter(Y).most_common()}'\u001b[0m\u001b[0;34m)\u001b[0m\u001b[0;34m\u001b[0m\u001b[0;34m\u001b[0m\u001b[0m\n\u001b[0m",
      "\u001b[0;31mNameError\u001b[0m: name 'Y' is not defined"
     ]
    }
   ],
   "source": [
    "# Compare to distribution of labeled data\n",
    "print(f'Distribution of labeled cultural data: {Counter(Y_balanced).most_common()}')"
   ]
  },
  {
   "cell_type": "code",
   "execution_count": 4,
   "metadata": {},
   "outputs": [
    {
     "ename": "NameError",
     "evalue": "name 'cult_df' is not defined",
     "output_type": "error",
     "traceback": [
      "\u001b[0;31m---------------------------------------------------------------------------\u001b[0m",
      "\u001b[0;31mNameError\u001b[0m                                 Traceback (most recent call last)",
      "\u001b[0;32m<ipython-input-4-0c6cfdb68c1d>\u001b[0m in \u001b[0;36m<module>\u001b[0;34m\u001b[0m\n\u001b[1;32m      1\u001b[0m \u001b[0;31m# Check out predicted probabilities: Distribution should be balanced\u001b[0m\u001b[0;34m\u001b[0m\u001b[0;34m\u001b[0m\u001b[0;34m\u001b[0m\u001b[0m\n\u001b[1;32m      2\u001b[0m \u001b[0mprob_col\u001b[0m \u001b[0;34m=\u001b[0m \u001b[0;34m'prediction_cult_prob_yes'\u001b[0m\u001b[0;34m\u001b[0m\u001b[0;34m\u001b[0m\u001b[0m\n\u001b[0;32m----> 3\u001b[0;31m \u001b[0mcult_df\u001b[0m\u001b[0;34m[\u001b[0m\u001b[0mprob_col\u001b[0m\u001b[0;34m]\u001b[0m\u001b[0;34m.\u001b[0m\u001b[0mhist\u001b[0m\u001b[0;34m(\u001b[0m\u001b[0mbins\u001b[0m\u001b[0;34m=\u001b[0m\u001b[0;36m50\u001b[0m\u001b[0;34m)\u001b[0m\u001b[0;34m\u001b[0m\u001b[0;34m\u001b[0m\u001b[0m\n\u001b[0m",
      "\u001b[0;31mNameError\u001b[0m: name 'cult_df' is not defined"
     ]
    }
   ],
   "source": [
    "# Check out predicted probabilities: Distribution should be balanced\n",
    "prob_col = 'prediction_cult_prob_yes'\n",
    "cult_df[prob_col].hist(bins=50)"
   ]
  },
  {
   "cell_type": "markdown",
   "metadata": {},
   "source": [
    "## Evaluate algorithms: Relational perspective"
   ]
  },
  {
   "cell_type": "code",
   "execution_count": 26,
   "metadata": {},
   "outputs": [
    {
     "name": "stdout",
     "output_type": "stream",
     "text": [
      "Number of cases: 707\n",
      "Number of codes (should match): 707\n",
      "Y_train Distribution: [(0.0, 339), (1.0, 226)]\n"
     ]
    }
   ],
   "source": [
    "######################################################\n",
    "# Prepare training and validation data\n",
    "######################################################\n",
    "\n",
    "# Separate training and final validation data set. First remove class\n",
    "# label from data (X). Setup target class (Y)\n",
    "# Then make the validation set 10% of the entire\n",
    "# set of labeled data (X_validate, Y_validate)\n",
    "\n",
    "relt_df = relt_df[['text', 'relational_score']]\n",
    "print(\"Number of cases:\", str(X_relt.shape[0]))\n",
    "\n",
    "valueArray = relt_df.values\n",
    "Y = valueArray[:,1]\n",
    "Y = Y.astype('float')\n",
    "print(\"Number of codes (should match):\", str(len(Y)))"
   ]
  },
  {
   "cell_type": "code",
   "execution_count": 27,
   "metadata": {},
   "outputs": [
    {
     "name": "stdout",
     "output_type": "stream",
     "text": [
      "Y_train: Counter({0.0: 420, 1.0: 287})\n",
      "Y_resample: Counter({1.0: 420, 0.0: 420})\n"
     ]
    }
   ],
   "source": [
    "######################################################\n",
    "# Oversample to desirable ratio\n",
    "######################################################\n",
    "\n",
    "X_balanced, Y_balanced = resample_data(\n",
    "    X_relt, Y, \n",
    "    undersample=undersample, \n",
    "    sampling_ratio=sampling_ratio)"
   ]
  },
  {
   "cell_type": "code",
   "execution_count": 28,
   "metadata": {},
   "outputs": [
    {
     "name": "stdout",
     "output_type": "stream",
     "text": [
      "Distribution of labeled relational articles: [(0.0, 420), (1.0, 287)]\n",
      "\n",
      "K-Nearest Neighbors (KNN):\n",
      "\n"
     ]
    },
    {
     "name": "stderr",
     "output_type": "stream",
     "text": [
      "Computing predictions:   0%|          | 1/709 [00:00<00:00, 996.27it/s]\n"
     ]
    },
    {
     "name": "stdout",
     "output_type": "stream",
     "text": [
      "Mean (std):\t 0.4988 (0.5)\n",
      "Accuracy:\t {1, 4}\n",
      "\n",
      "Confusion matrix:\n",
      " [[241 179]\n",
      " [180 240]]\n",
      "\n",
      "Report:\n",
      "               precision    recall  f1-score   support\n",
      "\n",
      "         0.0       0.57      0.57      0.57       420\n",
      "         1.0       0.57      0.57      0.57       420\n",
      "\n",
      "    accuracy                           0.57       840\n",
      "   macro avg       0.57      0.57      0.57       840\n",
      "weighted avg       0.57      0.57      0.57       840\n",
      "\n",
      "\n",
      "Random Forest (RF):\n",
      "\n"
     ]
    },
    {
     "name": "stderr",
     "output_type": "stream",
     "text": [
      "Computing predictions:   0%|          | 1/709 [00:00<00:00, 810.96it/s]\n"
     ]
    },
    {
     "name": "stdout",
     "output_type": "stream",
     "text": [
      "Mean (std):\t 0.3583 (0.4795)\n",
      "Accuracy:\t {1, 4}\n",
      "\n",
      "Confusion matrix:\n",
      " [[371  49]\n",
      " [168 252]]\n",
      "\n",
      "Report:\n",
      "               precision    recall  f1-score   support\n",
      "\n",
      "         0.0       0.69      0.88      0.77       420\n",
      "         1.0       0.84      0.60      0.70       420\n",
      "\n",
      "    accuracy                           0.74       840\n",
      "   macro avg       0.76      0.74      0.74       840\n",
      "weighted avg       0.76      0.74      0.74       840\n",
      "\n",
      "\n",
      "Decision Tree (DT):\n",
      "\n"
     ]
    },
    {
     "name": "stderr",
     "output_type": "stream",
     "text": [
      "Computing predictions:   0%|          | 1/709 [00:00<00:00, 922.64it/s]\n"
     ]
    },
    {
     "name": "stdout",
     "output_type": "stream",
     "text": [
      "Mean (std):\t 0.5667 (0.4955)\n",
      "Accuracy:\t {1, 4}\n",
      "\n",
      "Confusion matrix:\n",
      " [[245 175]\n",
      " [119 301]]\n",
      "\n",
      "Report:\n",
      "               precision    recall  f1-score   support\n",
      "\n",
      "         0.0       0.67      0.58      0.63       420\n",
      "         1.0       0.63      0.72      0.67       420\n",
      "\n",
      "    accuracy                           0.65       840\n",
      "   macro avg       0.65      0.65      0.65       840\n",
      "weighted avg       0.65      0.65      0.65       840\n",
      "\n",
      "\n",
      "Multinomial Naive Bayes (MNB):\n",
      "\n"
     ]
    },
    {
     "name": "stderr",
     "output_type": "stream",
     "text": [
      "Computing predictions:   0%|          | 1/709 [00:00<00:00, 891.27it/s]\n"
     ]
    },
    {
     "name": "stdout",
     "output_type": "stream",
     "text": [
      "Mean (std):\t 0.5774 (0.494)\n",
      "Accuracy:\t {1, 4}\n",
      "\n",
      "Confusion matrix:\n",
      " [[238 182]\n",
      " [117 303]]\n",
      "\n",
      "Report:\n",
      "               precision    recall  f1-score   support\n",
      "\n",
      "         0.0       0.67      0.57      0.61       420\n",
      "         1.0       0.62      0.72      0.67       420\n",
      "\n",
      "    accuracy                           0.64       840\n",
      "   macro avg       0.65      0.64      0.64       840\n",
      "weighted avg       0.65      0.64      0.64       840\n",
      "\n",
      "\n",
      "Logistic Regression (LR):\n",
      "\n"
     ]
    },
    {
     "name": "stderr",
     "output_type": "stream",
     "text": [
      "Computing predictions:   0%|          | 1/709 [00:00<00:00, 751.26it/s]\n"
     ]
    },
    {
     "name": "stdout",
     "output_type": "stream",
     "text": [
      "Mean (std):\t 0.4988 (0.5)\n",
      "Accuracy:\t {1, 4}\n",
      "\n",
      "Confusion matrix:\n",
      " [[274 146]\n",
      " [147 273]]\n",
      "\n",
      "Report:\n",
      "               precision    recall  f1-score   support\n",
      "\n",
      "         0.0       0.65      0.65      0.65       420\n",
      "         1.0       0.65      0.65      0.65       420\n",
      "\n",
      "    accuracy                           0.65       840\n",
      "   macro avg       0.65      0.65      0.65       840\n",
      "weighted avg       0.65      0.65      0.65       840\n",
      "\n",
      "\n",
      "Support Vector Machine (SVM):\n",
      "\n"
     ]
    },
    {
     "name": "stderr",
     "output_type": "stream",
     "text": [
      "Computing predictions:   0%|          | 1/709 [00:00<00:01, 473.67it/s]\n"
     ]
    },
    {
     "name": "stdout",
     "output_type": "stream",
     "text": [
      "Mean (std):\t 0.5 (0.5)\n",
      "Accuracy:\t {0, 4}\n",
      "\n",
      "Confusion matrix:\n",
      " [[191 229]\n",
      " [229 191]]\n",
      "\n",
      "Report:\n",
      "               precision    recall  f1-score   support\n",
      "\n",
      "         0.0       0.45      0.45      0.45       420\n",
      "         1.0       0.45      0.45      0.45       420\n",
      "\n",
      "    accuracy                           0.45       840\n",
      "   macro avg       0.45      0.45      0.45       840\n",
      "weighted avg       0.45      0.45      0.45       840\n",
      "\n",
      "\n",
      "Multi-Layer Perceptron (MLP):\n",
      "\n"
     ]
    },
    {
     "name": "stderr",
     "output_type": "stream",
     "text": [
      "Computing predictions:   0%|          | 1/709 [00:00<00:05, 130.11it/s]"
     ]
    },
    {
     "name": "stdout",
     "output_type": "stream",
     "text": [
      "Mean (std):\t 0.4643 (0.4987)\n",
      "Accuracy:\t {1, 4}\n",
      "\n",
      "Confusion matrix:\n",
      " [[315 105]\n",
      " [135 285]]\n",
      "\n",
      "Report:\n",
      "               precision    recall  f1-score   support\n",
      "\n",
      "         0.0       0.70      0.75      0.72       420\n",
      "         1.0       0.73      0.68      0.70       420\n",
      "\n",
      "    accuracy                           0.71       840\n",
      "   macro avg       0.72      0.71      0.71       840\n",
      "weighted avg       0.72      0.71      0.71       840\n",
      "\n",
      "\n"
     ]
    },
    {
     "name": "stderr",
     "output_type": "stream",
     "text": [
      "\n"
     ]
    }
   ],
   "source": [
    "######################################################\n",
    "# Use different algorithms to build models\n",
    "######################################################\n",
    "\n",
    "models = []\n",
    "models.append(('K-Nearest Neighbors (KNN)', KNeighborsClassifier()))\n",
    "models.append(('Random Forest (RF)', RandomForestClassifier(random_state=seed)))\n",
    "models.append(('Decision Tree (DT)', DecisionTreeClassifier(random_state=seed)))\n",
    "models.append(('Multinomial Naive Bayes (MNB)', MultinomialNB()))\n",
    "models.append(('Logistic Regression (LR)', LogisticRegression(random_state=seed)))\n",
    "models.append(('Support Vector Machine (SVM)', SVC(gamma='auto')))\n",
    "models.append(('Multi-Layer Perceptron (MLP)', mlp))\n",
    "#models.append(('Ensemble model (MLP + Logit)', ensemble))\n",
    "\n",
    "# Baseline: distribution of labeled data\n",
    "print(f'Distribution of labeled relational articles: {Counter(Y).most_common()}')\n",
    "print()\n",
    "\n",
    "# Evaluate algorithms using 10-fold cross validation\n",
    "results, names = show_kfold_output(models=models, \n",
    "                                   X=X_balanced,\n",
    "                                   Y=Y_balanced, \n",
    "                                   df=relt_df, \n",
    "                                   text_col='text', \n",
    "                                   vectorizer=relt_vectorizer)"
   ]
  },
  {
   "cell_type": "code",
   "execution_count": 27,
   "metadata": {},
   "outputs": [],
   "source": [
    "######################################################\n",
    "# Save best model\n",
    "######################################################\n",
    "\n",
    "best_model_suffix = \"\" # selected model\n",
    "relt_model_fp = model_fp + f'classifier_relt_{str(best_model_suffix)}_{str(thisday)}.joblib'\n",
    "\n",
    "# relt_model = MLPClassifier(max_iter=100, activation='relu').fit(X_balanced, Y_balanced) \n",
    "             # DecisionTreeClassifier(random_state=seed).fit(X_balanced, Y_balanced) \n",
    "             # RandomForestClassifier(random_state=seed).fit(X_balanced, Y_balanced)\n",
    "        \n",
    "#joblib.dump(relt_model, relt_model_fp)"
   ]
  },
  {
   "cell_type": "markdown",
   "metadata": {},
   "source": [
    "### Validation step: Use selected model to predict class probabilities in training data"
   ]
  },
  {
   "cell_type": "code",
   "execution_count": 28,
   "metadata": {},
   "outputs": [
    {
     "name": "stderr",
     "output_type": "stream",
     "text": [
      "/opt/conda/lib/python3.7/site-packages/sklearn/neural_network/_multilayer_perceptron.py:617: ConvergenceWarning: Stochastic Optimizer: Maximum iterations (100) reached and the optimization hasn't converged yet.\n",
      "  % self.max_iter, ConvergenceWarning)\n",
      "Predicting: relational persp.: 100%|██████████| 343/343 [00:04<00:00, 82.18it/s] \n"
     ]
    }
   ],
   "source": [
    "# Make predictions\n",
    "#relt_model = MLPClassifier(max_iter=100, activation='relu').fit(X_relt, Y) # DecisionTreeClassifier(random_state=seed).fit(X_relt, Y)\n",
    "tqdm.pandas(desc = \"Predicting: relational persp.\")\n",
    "relt_df[['prediction_relt','prediction_relt_prob_yes','prediction_relt_prob_no']] = relt_df['text'].progress_apply(lambda sentlist: pd.Series(compute_predictions([' '.join(sent) for sent in sentlist], relt_vectorizer, relt_model)))"
   ]
  },
  {
   "cell_type": "code",
   "execution_count": 29,
   "metadata": {},
   "outputs": [
    {
     "data": {
      "text/plain": [
       "no     238\n",
       "yes    105\n",
       "Name: prediction_relt, dtype: int64"
      ]
     },
     "execution_count": 29,
     "metadata": {},
     "output_type": "execute_result"
    }
   ],
   "source": [
    "# Check out predictions: labels should be balanced\n",
    "pred_col = 'prediction_relt'\n",
    "relt_df[pred_col].value_counts()"
   ]
  },
  {
   "cell_type": "code",
   "execution_count": 30,
   "metadata": {},
   "outputs": [
    {
     "name": "stdout",
     "output_type": "stream",
     "text": [
      "Distribution of labeled cultural data: [(0.0, 229), (1.0, 114)]\n"
     ]
    }
   ],
   "source": [
    "# Compare to distribution of labeled data\n",
    "print(f'Distribution of labeled cultural data: {Counter(Y).most_common()}')"
   ]
  },
  {
   "cell_type": "code",
   "execution_count": 31,
   "metadata": {},
   "outputs": [
    {
     "data": {
      "text/plain": [
       "<matplotlib.axes._subplots.AxesSubplot at 0x7f7d62569d30>"
      ]
     },
     "execution_count": 31,
     "metadata": {},
     "output_type": "execute_result"
    },
    {
     "data": {
      "image/png": "[encoded data removed]",
      "text/plain": [
       "<Figure size 432x288 with 1 Axes>"
      ]
     },
     "metadata": {
      "needs_background": "light"
     },
     "output_type": "display_data"
    }
   ],
   "source": [
    "# Check out predicted probabilities: Distribution should be balanced\n",
    "prob_col = 'prediction_relt_prob_yes'\n",
    "relt_df[prob_col].hist(bins=50)"
   ]
  },
  {
   "cell_type": "markdown",
   "metadata": {},
   "source": [
    "## Evaluate algorithms: Demographic perspective"
   ]
  },
  {
   "cell_type": "code",
   "execution_count": 32,
   "metadata": {},
   "outputs": [
    {
     "name": "stdout",
     "output_type": "stream",
     "text": [
      "Number of cases: 733\n",
      "Number of codes (should match): 733\n"
     ]
    }
   ],
   "source": [
    "######################################################\n",
    "# Prepare training and validation data\n",
    "######################################################\n",
    "\n",
    "# Separate training and final validation data set. First reltove class\n",
    "# label from data (X). Setup target class (Y)\n",
    "# Then make the validation set 10% of the entire\n",
    "# set of labeled data (X_validate, Y_validate)\n",
    "\n",
    "demog_df = demog_df[['text', 'demographic_score']]\n",
    "print(\"Number of cases:\", str(X_demog.shape[0]))\n",
    "\n",
    "valueArray = demog_df.values\n",
    "Y = valueArray[:,1]\n",
    "Y = Y.astype('float')\n",
    "print(\"Number of codes (should match):\", str(len(Y)))"
   ]
  },
  {
   "cell_type": "code",
   "execution_count": 33,
   "metadata": {},
   "outputs": [
    {
     "name": "stdout",
     "output_type": "stream",
     "text": [
      "Y_train: Counter({0.0: 477, 1.0: 256})\n",
      "Y_resample: Counter({1.0: 477, 0.0: 477})\n"
     ]
    }
   ],
   "source": [
    "######################################################\n",
    "# Oversample to desirable ratio\n",
    "######################################################\n",
    "\n",
    "X_balanced, Y_balanced = resample_data(\n",
    "    X_demog, Y, \n",
    "    undersample=undersample, \n",
    "    sampling_ratio=sampling_ratio)"
   ]
  },
  {
   "cell_type": "code",
   "execution_count": 34,
   "metadata": {},
   "outputs": [
    {
     "name": "stdout",
     "output_type": "stream",
     "text": [
      "Distribution of labeled demographic articles: [(0.0, 477), (1.0, 256)]\n",
      "\n",
      "K-Nearest Neighbors (KNN):\n",
      "\n"
     ]
    },
    {
     "name": "stderr",
     "output_type": "stream",
     "text": [
      "Computing predictions:   0%|          | 1/733 [00:00<00:02, 277.00it/s]\n"
     ]
    },
    {
     "name": "stdout",
     "output_type": "stream",
     "text": [
      "Mean (std):\t 0.5786 (0.4938)\n",
      "Accuracy:\t {1, 4}\n",
      "\n",
      "Confusion matrix:\n",
      " [[251 226]\n",
      " [151 326]]\n",
      "\n",
      "Report:\n",
      "               precision    recall  f1-score   support\n",
      "\n",
      "         0.0       0.62      0.53      0.57       477\n",
      "         1.0       0.59      0.68      0.63       477\n",
      "\n",
      "    accuracy                           0.60       954\n",
      "   macro avg       0.61      0.60      0.60       954\n",
      "weighted avg       0.61      0.60      0.60       954\n",
      "\n",
      "\n",
      "Random Forest (RF):\n",
      "\n"
     ]
    },
    {
     "name": "stderr",
     "output_type": "stream",
     "text": [
      "Computing predictions:   0%|          | 1/733 [00:00<00:00, 972.48it/s]\n"
     ]
    },
    {
     "name": "stdout",
     "output_type": "stream",
     "text": [
      "Mean (std):\t 0.3983 (0.4896)\n",
      "Accuracy:\t {1, 4}\n",
      "\n",
      "Confusion matrix:\n",
      " [[446  31]\n",
      " [128 349]]\n",
      "\n",
      "Report:\n",
      "               precision    recall  f1-score   support\n",
      "\n",
      "         0.0       0.78      0.94      0.85       477\n",
      "         1.0       0.92      0.73      0.81       477\n",
      "\n",
      "    accuracy                           0.83       954\n",
      "   macro avg       0.85      0.83      0.83       954\n",
      "weighted avg       0.85      0.83      0.83       954\n",
      "\n",
      "\n",
      "Decision Tree (DT):\n",
      "\n"
     ]
    },
    {
     "name": "stderr",
     "output_type": "stream",
     "text": [
      "Computing predictions:   0%|          | 1/733 [00:00<00:02, 318.72it/s]\n"
     ]
    },
    {
     "name": "stdout",
     "output_type": "stream",
     "text": [
      "Mean (std):\t 0.6216 (0.485)\n",
      "Accuracy:\t {1, 4}\n",
      "\n",
      "Confusion matrix:\n",
      " [[276 201]\n",
      " [ 85 392]]\n",
      "\n",
      "Report:\n",
      "               precision    recall  f1-score   support\n",
      "\n",
      "         0.0       0.76      0.58      0.66       477\n",
      "         1.0       0.66      0.82      0.73       477\n",
      "\n",
      "    accuracy                           0.70       954\n",
      "   macro avg       0.71      0.70      0.70       954\n",
      "weighted avg       0.71      0.70      0.70       954\n",
      "\n",
      "\n",
      "Multinomial Naive Bayes (MNB):\n",
      "\n"
     ]
    },
    {
     "name": "stderr",
     "output_type": "stream",
     "text": [
      "Computing predictions:   0%|          | 1/733 [00:00<00:00, 1074.36it/s]\n"
     ]
    },
    {
     "name": "stdout",
     "output_type": "stream",
     "text": [
      "Mean (std):\t 0.6688 (0.4707)\n",
      "Accuracy:\t {1, 4}\n",
      "\n",
      "Confusion matrix:\n",
      " [[216 261]\n",
      " [100 377]]\n",
      "\n",
      "Report:\n",
      "               precision    recall  f1-score   support\n",
      "\n",
      "         0.0       0.68      0.45      0.54       477\n",
      "         1.0       0.59      0.79      0.68       477\n",
      "\n",
      "    accuracy                           0.62       954\n",
      "   macro avg       0.64      0.62      0.61       954\n",
      "weighted avg       0.64      0.62      0.61       954\n",
      "\n",
      "\n",
      "Logistic Regression (LR):\n",
      "\n"
     ]
    },
    {
     "name": "stderr",
     "output_type": "stream",
     "text": [
      "Computing predictions:   0%|          | 1/733 [00:00<00:01, 495.43it/s]\n"
     ]
    },
    {
     "name": "stdout",
     "output_type": "stream",
     "text": [
      "Mean (std):\t 0.5021 (0.5)\n",
      "Accuracy:\t {1, 4}\n",
      "\n",
      "Confusion matrix:\n",
      " [[348 129]\n",
      " [127 350]]\n",
      "\n",
      "Report:\n",
      "               precision    recall  f1-score   support\n",
      "\n",
      "         0.0       0.73      0.73      0.73       477\n",
      "         1.0       0.73      0.73      0.73       477\n",
      "\n",
      "    accuracy                           0.73       954\n",
      "   macro avg       0.73      0.73      0.73       954\n",
      "weighted avg       0.73      0.73      0.73       954\n",
      "\n",
      "\n",
      "Support Vector Machine (SVM):\n",
      "\n"
     ]
    },
    {
     "name": "stderr",
     "output_type": "stream",
     "text": [
      "Computing predictions:   0%|          | 1/733 [00:00<00:01, 439.06it/s]\n"
     ]
    },
    {
     "name": "stdout",
     "output_type": "stream",
     "text": [
      "Mean (std):\t 0.5996 (0.49)\n",
      "Accuracy:\t {0, 4}\n",
      "\n",
      "Confusion matrix:\n",
      " [[174 303]\n",
      " [208 269]]\n",
      "\n",
      "Report:\n",
      "               precision    recall  f1-score   support\n",
      "\n",
      "         0.0       0.46      0.36      0.41       477\n",
      "         1.0       0.47      0.56      0.51       477\n",
      "\n",
      "    accuracy                           0.46       954\n",
      "   macro avg       0.46      0.46      0.46       954\n",
      "weighted avg       0.46      0.46      0.46       954\n",
      "\n",
      "\n",
      "Multi-Layer Perceptron (MLP):\n",
      "\n"
     ]
    },
    {
     "name": "stderr",
     "output_type": "stream",
     "text": [
      "Computing predictions:   0%|          | 1/733 [00:00<00:08, 87.49it/s]"
     ]
    },
    {
     "name": "stdout",
     "output_type": "stream",
     "text": [
      "Mean (std):\t 0.4864 (0.4998)\n",
      "Accuracy:\t {1, 4}\n",
      "\n",
      "Confusion matrix:\n",
      " [[390  87]\n",
      " [100 377]]\n",
      "\n",
      "Report:\n",
      "               precision    recall  f1-score   support\n",
      "\n",
      "         0.0       0.80      0.82      0.81       477\n",
      "         1.0       0.81      0.79      0.80       477\n",
      "\n",
      "    accuracy                           0.80       954\n",
      "   macro avg       0.80      0.80      0.80       954\n",
      "weighted avg       0.80      0.80      0.80       954\n",
      "\n",
      "\n"
     ]
    },
    {
     "name": "stderr",
     "output_type": "stream",
     "text": [
      "\n"
     ]
    }
   ],
   "source": [
    "######################################################\n",
    "# Use different algorithms to build models\n",
    "######################################################\n",
    "\n",
    "models = []\n",
    "models.append(('K-Nearest Neighbors (KNN)', KNeighborsClassifier()))\n",
    "models.append(('Random Forest (RF)', RandomForestClassifier(random_state=seed)))\n",
    "models.append(('Decision Tree (DT)', DecisionTreeClassifier(random_state=seed)))\n",
    "models.append(('Multinomial Naive Bayes (MNB)', MultinomialNB()))\n",
    "models.append(('Logistic Regression (LR)', LogisticRegression(random_state=seed)))\n",
    "models.append(('Support Vector Machine (SVM)', SVC(gamma='auto')))\n",
    "models.append(('Multi-Layer Perceptron (MLP)', mlp))\n",
    "#models.append(('Ensemble model (MLP + Logit)', ensemble))\n",
    "\n",
    "# Baseline: distribution of labeled data\n",
    "print(f'Distribution of labeled demographic articles: {Counter(Y).most_common()}')\n",
    "print()\n",
    "\n",
    "# Evaluate algorithms using 10-fold cross validation\n",
    "results, names = show_kfold_output(models=models, \n",
    "                                   X=X_balanced,\n",
    "                                   Y=Y_balanced, \n",
    "                                   df=demog_df, \n",
    "                                   text_col='text', \n",
    "                                   vectorizer=demog_vectorizer)"
   ]
  },
  {
   "cell_type": "code",
   "execution_count": 35,
   "metadata": {},
   "outputs": [],
   "source": [
    "######################################################\n",
    "# Save best model\n",
    "######################################################\n",
    "\n",
    "best_model_suffix = \"\" # selected model\n",
    "demog_model_fp = model_fp + f'classifier_demog_{str(best_model_suffix)}_{str(thisday)}.joblib'\n",
    "\n",
    "# demog_model = MLPClassifier(max_iter=100, activation='relu').fit(X_balanced, Y_balanced) \n",
    "             # DecisionTreeClassifier(random_state=seed).fit(X_balanced, Y_balanced) \n",
    "             # RandomForestClassifier(random_state=seed).fit(X_balanced, Y_balanced)\n",
    "        \n",
    "#joblib.dump(demog_model, demog_model_fp)"
   ]
  },
  {
   "cell_type": "markdown",
   "metadata": {},
   "source": [
    "### Validation step: Use selected model to predict class probabilities in training data"
   ]
  },
  {
   "cell_type": "code",
   "execution_count": 36,
   "metadata": {},
   "outputs": [
    {
     "name": "stderr",
     "output_type": "stream",
     "text": [
      "/opt/conda/lib/python3.7/site-packages/sklearn/neural_network/_multilayer_perceptron.py:617: ConvergenceWarning: Stochastic Optimizer: Maximum iterations (100) reached and the optimization hasn't converged yet.\n",
      "  % self.max_iter, ConvergenceWarning)\n",
      "Predicting: demographic persp.: 100%|██████████| 349/349 [00:04<00:00, 84.86it/s] \n"
     ]
    }
   ],
   "source": [
    "# Make predictions\n",
    "#demog_model = MLPClassifier(max_iter=100, activation='relu').fit(X_demog, Y)\n",
    "tqdm.pandas(desc = \"Predicting: demographic persp.\")\n",
    "demog_df[['prediction_demog','prediction_demog_prob_yes','prediction_demog_prob_no']] = demog_df['text'].progress_apply(lambda sentlist: pd.Series(compute_predictions([' '.join(sent) for sent in sentlist], demog_vectorizer, demog_model)))"
   ]
  },
  {
   "cell_type": "code",
   "execution_count": 37,
   "metadata": {},
   "outputs": [
    {
     "data": {
      "text/plain": [
       "no     246\n",
       "yes    103\n",
       "Name: prediction_demog, dtype: int64"
      ]
     },
     "execution_count": 37,
     "metadata": {},
     "output_type": "execute_result"
    }
   ],
   "source": [
    "# Check out predictions: labels should be balanced\n",
    "pred_col = 'prediction_demog'\n",
    "demog_df[pred_col].value_counts()"
   ]
  },
  {
   "cell_type": "code",
   "execution_count": 38,
   "metadata": {},
   "outputs": [
    {
     "name": "stdout",
     "output_type": "stream",
     "text": [
      "Distribution of labeled demographic data: [(0.0, 248), (1.0, 101)]\n"
     ]
    }
   ],
   "source": [
    "# Compare to distribution of labeled data\n",
    "print(f'Distribution of labeled demographic data: {Counter(Y).most_common()}')"
   ]
  },
  {
   "cell_type": "code",
   "execution_count": 39,
   "metadata": {},
   "outputs": [
    {
     "data": {
      "text/plain": [
       "<matplotlib.axes._subplots.AxesSubplot at 0x7f7d60e60cc0>"
      ]
     },
     "execution_count": 39,
     "metadata": {},
     "output_type": "execute_result"
    },
    {
     "data": {
      "image/png": "[encoded data removed]",
      "text/plain": [
       "<Figure size 432x288 with 1 Axes>"
      ]
     },
     "metadata": {
      "needs_background": "light"
     },
     "output_type": "display_data"
    }
   ],
   "source": [
    "# Check out predicted probabilities: Distribution should be balanced\n",
    "prob_col = 'prediction_demog_prob_yes'\n",
    "demog_df[prob_col].hist(bins=50)"
   ]
  },
  {
   "cell_type": "markdown",
   "metadata": {},
   "source": [
    "## Evaluate algorithms: Organizational Sociology perspective"
   ]
  },
  {
   "cell_type": "code",
   "execution_count": 36,
   "metadata": {},
   "outputs": [
    {
     "name": "stdout",
     "output_type": "stream",
     "text": [
      "Number of cases: 814\n",
      "Number of codes (should match): 814\n"
     ]
    }
   ],
   "source": [
    "######################################################\n",
    "# Prepare training and validation data\n",
    "######################################################\n",
    "\n",
    "# Separate training and final validation data set. First reltove class\n",
    "# label from data (X). Setup target class (Y)\n",
    "# Then make the validation set 10% of the entire\n",
    "# set of labeled data (X_validate, Y_validate)\n",
    "\n",
    "orgs_df = orgs_df[['text', 'orgs_score']]\n",
    "print(\"Number of cases:\", str(X_orgs.shape[0]))\n",
    "\n",
    "valueArray = orgs_df.values\n",
    "Y = valueArray[:,1]\n",
    "Y = Y.astype('float')\n",
    "print(\"Number of codes (should match):\", str(len(Y)))"
   ]
  },
  {
   "cell_type": "code",
   "execution_count": 37,
   "metadata": {},
   "outputs": [
    {
     "name": "stdout",
     "output_type": "stream",
     "text": [
      "Y_train: Counter({1.0: 511, 0.0: 303})\n",
      "Y_resample: Counter({1.0: 511, 0.0: 511})\n"
     ]
    }
   ],
   "source": [
    "######################################################\n",
    "# Oversample to desirable ratio\n",
    "######################################################\n",
    "\n",
    "X_balanced, Y_balanced = resample_data(\n",
    "    X_orgs, Y, \n",
    "    undersample=undersample, \n",
    "    sampling_ratio=sampling_ratio)"
   ]
  },
  {
   "cell_type": "code",
   "execution_count": null,
   "metadata": {},
   "outputs": [
    {
     "name": "stdout",
     "output_type": "stream",
     "text": [
      "Distribution of labeled orgs articles: [(1.0, 511), (0.0, 303)]\n",
      "\n",
      "K-Nearest Neighbors (KNN):\n",
      "\n"
     ]
    },
    {
     "name": "stderr",
     "output_type": "stream",
     "text": [
      "Computing predictions:   0%|          | 1/814 [00:00<00:00, 1142.24it/s]\n"
     ]
    },
    {
     "name": "stdout",
     "output_type": "stream",
     "text": [
      "Mean (std):\t 0.4843 (0.4998)\n",
      "Accuracy:\t {1, 4}\n",
      "\n",
      "Confusion matrix:\n",
      " [[340 171]\n",
      " [187 324]]\n",
      "\n",
      "Report:\n",
      "               precision    recall  f1-score   support\n",
      "\n",
      "         0.0       0.65      0.67      0.66       511\n",
      "         1.0       0.65      0.63      0.64       511\n",
      "\n",
      "    accuracy                           0.65      1022\n",
      "   macro avg       0.65      0.65      0.65      1022\n",
      "weighted avg       0.65      0.65      0.65      1022\n",
      "\n",
      "\n",
      "Random Forest (RF):\n",
      "\n"
     ]
    }
   ],
   "source": [
    "######################################################\n",
    "# Use different algorithms to build models\n",
    "######################################################\n",
    "\n",
    "models = []\n",
    "models.append(('K-Nearest Neighbors (KNN)', KNeighborsClassifier()))\n",
    "models.append(('Random Forest (RF)', RandomForestClassifier(random_state=seed)))\n",
    "models.append(('Decision Tree (DT)', DecisionTreeClassifier(random_state=seed)))\n",
    "models.append(('Multinomial Naive Bayes (MNB)', MultinomialNB()))\n",
    "models.append(('Logistic Regression (LR)', LogisticRegression(random_state=seed)))\n",
    "models.append(('Support Vector Machine (SVM)', SVC(gamma='auto')))\n",
    "models.append(('Multi-Layer Perceptron (MLP)', mlp))\n",
    "#models.append(('Ensemble model (MLP + Logit)', ensemble))\n",
    "\n",
    "# Baseline: distribution of labeled data\n",
    "print(f'Distribution of labeled orgs articles: {Counter(Y).most_common()}')\n",
    "print()\n",
    "\n",
    "# Evaluate algorithms using 10-fold cross validation\n",
    "results, names = show_kfold_output(models=models, \n",
    "                                   X=X_balanced,\n",
    "                                   Y=Y_balanced, \n",
    "                                   df=orgs_df, \n",
    "                                   text_col='text', \n",
    "                                   vectorizer=orgs_vectorizer)"
   ]
  },
  {
   "cell_type": "code",
   "execution_count": 35,
   "metadata": {},
   "outputs": [],
   "source": [
    "######################################################\n",
    "# Save best model\n",
    "######################################################\n",
    "\n",
    "best_model_suffix = \"\" # selected model\n",
    "orgs_model_fp = model_fp + f'classifier_orgs_{str(best_model_suffix)}_{str(thisday)}.joblib'\n",
    "\n",
    "# orgs_model = MLPClassifier(max_iter=100, activation='relu').fit(X_balanced, Y_balanced) \n",
    "             # DecisionTreeClassifier(random_state=seed).fit(X_balanced, Y_balanced) \n",
    "             # RandomForestClassifier(random_state=seed).fit(X_balanced, Y_balanced)\n",
    "        \n",
    "#joblib.dump(orgs_model, orgs_model_fp)"
   ]
  },
  {
   "cell_type": "markdown",
   "metadata": {},
   "source": [
    "### Validation step: Use selected model to predict class probabilities in training data"
   ]
  },
  {
   "cell_type": "code",
   "execution_count": 36,
   "metadata": {},
   "outputs": [
    {
     "name": "stderr",
     "output_type": "stream",
     "text": [
      "/opt/conda/lib/python3.7/site-packages/sklearn/neural_network/_multilayer_perceptron.py:617: ConvergenceWarning: Stochastic Optimizer: Maximum iterations (100) reached and the optimization hasn't converged yet.\n",
      "  % self.max_iter, ConvergenceWarning)\n",
      "Predicting: demographic persp.: 100%|██████████| 349/349 [00:04<00:00, 84.86it/s] \n"
     ]
    }
   ],
   "source": [
    "# Make predictions\n",
    "#orgs_model = MLPClassifier(max_iter=100, activation='relu').fit(X_orgs, Y) # RandomForestClassifier(random_state=seed).fit(X_demog, Y)\n",
    "tqdm.pandas(desc = \"Predicting: orgs persp.\")\n",
    "orgs_df[['prediction_orgs','prediction_orgs_prob_yes','prediction_orgs_prob_no']] = orgs_df['text'].progress_apply(lambda sentlist: pd.Series(compute_predictions([' '.join(sent) for sent in sentlist], orgs_vectorizer, orgs_model)))"
   ]
  },
  {
   "cell_type": "code",
   "execution_count": 37,
   "metadata": {},
   "outputs": [
    {
     "data": {
      "text/plain": [
       "no     246\n",
       "yes    103\n",
       "Name: prediction_demog, dtype: int64"
      ]
     },
     "execution_count": 37,
     "metadata": {},
     "output_type": "execute_result"
    }
   ],
   "source": [
    "# Check out predictions: labels should be balanced\n",
    "pred_col = 'prediction_orgs'\n",
    "orgs_df[pred_col].value_counts()"
   ]
  },
  {
   "cell_type": "code",
   "execution_count": 38,
   "metadata": {},
   "outputs": [
    {
     "name": "stdout",
     "output_type": "stream",
     "text": [
      "Distribution of labeled demographic data: [(0.0, 248), (1.0, 101)]\n"
     ]
    }
   ],
   "source": [
    "# Compare to distribution of labeled data\n",
    "print(f'Distribution of labeled orgs data: {Counter(Y).most_common()}')"
   ]
  },
  {
   "cell_type": "code",
   "execution_count": 39,
   "metadata": {},
   "outputs": [
    {
     "data": {
      "text/plain": [
       "<matplotlib.axes._subplots.AxesSubplot at 0x7f7d60e60cc0>"
      ]
     },
     "execution_count": 39,
     "metadata": {},
     "output_type": "execute_result"
    },
    {
     "data": {
      "image/png": "[encoded data removed]",
      "text/plain": [
       "<Figure size 432x288 with 1 Axes>"
      ]
     },
     "metadata": {
      "needs_background": "light"
     },
     "output_type": "display_data"
    }
   ],
   "source": [
    "# Check out predicted probabilities: Distribution should be balanced\n",
    "prob_col = 'prediction_orgs_prob_yes'\n",
    "orgs_df[prob_col].hist(bins=50)"
   ]
  },
  {
   "cell_type": "markdown",
   "metadata": {},
   "source": [
    "# Comparison plots for accuracies"
   ]
  },
  {
   "cell_type": "code",
   "execution_count": 5,
   "metadata": {},
   "outputs": [],
   "source": [
    "import seaborn as sns\n",
    "import pandas as pd \n",
    "import matplotlib.pyplot as plt"
   ]
  },
  {
   "cell_type": "code",
   "execution_count": 6,
   "metadata": {},
   "outputs": [],
   "source": [
    "perspective = ['Culture', 'Culture', 'Culture', 'Culture', 'Culture', 'Culture', 'Culture', 'Culture',\n",
    "              'Demographic', 'Demographic', 'Demographic', 'Demographic', 'Demographic','Demographic', 'Demographic', 'Demographic',\n",
    "              'Relational', 'Relational', 'Relational', 'Relational', 'Relational', 'Relational', 'Relational', 'Relational']\n",
    "score = [0.83, 0.91, 0.85, 0.79, 0.88, 0.92, 0.46, 0.40,\n",
    "         0.88, 0.97, 0.91, 0.88, 0.98, 0.98, 0.44, 0.32,\n",
    "         0.84, 0.97, 0.91, 0.84, 0.94, 0.96, 0.49, 0.34]\n",
    "md = ['K-Nearest Neighbors', 'Random Forest', 'Decision Tree', 'Multinomial Naive Bayes', 'Logistic Regression', \n",
    "      'Multilayer Perceptron', 'Support Vector Machine', 'Convolutional Neural Network',\n",
    "      'K-Nearest Neighbors', 'Random Forest', 'Decision Tree', 'Multinomial Naive Bayes', 'Logistic Regression', \n",
    "      'Multilayer Perceptron', 'Support Vector Machine', 'Convolutional Neural Network', \n",
    "      'K-Nearest Neighbors', 'Random Forest', 'Decision Tree', 'Multinomial Naive Bayes', 'Logistic Regression', \n",
    "      'Multilayer Perceptron', 'Support Vector Machine', 'Convolutional Neural Network']"
   ]
  },
  {
   "cell_type": "code",
   "execution_count": 7,
   "metadata": {},
   "outputs": [],
   "source": [
    "df_plot = pd.DataFrame({'perspective': perspective, 'score': score, 'model':md})"
   ]
  },
  {
   "cell_type": "code",
   "execution_count": 8,
   "metadata": {},
   "outputs": [
    {
     "data": {
      "image/png": "[encoded data removed]",
      "text/plain": [
       "<Figure size 720x576 with 1 Axes>"
      ]
     },
     "metadata": {
      "needs_background": "light"
     },
     "output_type": "display_data"
    }
   ],
   "source": [
    "plt.figure(figsize=(10, 8))\n",
    "sns.barplot(x=\"perspective\", \n",
    "            y=\"score\", \n",
    "            hue=\"model\", \n",
    "            data=df_plot)\n",
    "plt.ylabel(\"Model Accuracy Barplot\", size=14)\n",
    "plt.xlabel(\"Perspective\", size=14)\n",
    "plt.legend(bbox_to_anchor=(1.05, 1), loc=2, borderaxespad=0., title = 'Model Type')\n",
    "plt.title(\"Model Accuracies, by perspectives and model types\", size=18)\n",
    "plt.savefig(\"model_accuracy_barplot.png\", bbox_inches='tight')\n",
    "plt.show()"
   ]
  },
  {
   "cell_type": "code",
   "execution_count": null,
   "metadata": {},
   "outputs": [],
   "source": []
  }
 ],
 "metadata": {
  "kernelspec": {
   "display_name": "Python 3",
   "language": "python",
   "name": "python3"
  },
  "language_info": {
   "codemirror_mode": {
    "name": "ipython",
    "version": 3
   },
   "file_extension": ".py",
   "mimetype": "text/x-python",
   "name": "python",
   "nbconvert_exporter": "python",
   "pygments_lexer": "ipython3",
   "version": "3.7.3"
  }
 },
 "nbformat": 4,
 "nbformat_minor": 4
}

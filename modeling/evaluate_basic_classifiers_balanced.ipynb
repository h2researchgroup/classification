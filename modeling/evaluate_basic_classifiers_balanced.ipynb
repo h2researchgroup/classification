{
 "cells": [
  {
   "cell_type": "markdown",
   "metadata": {},
   "source": [
    "# Compare classification methods for identifying org. science perspectives in JSTOR articles\n",
    "## Using balanced samples from hand-labeled set of articles\n",
    "\n",
    "@author: Jaren Haber, PhD<br>\n",
    "@coauthors: Prof. Heather Haveman, UC Berkeley; Yoon Sung Hong, Wayfair<br>\n",
    "@contact: Jaren.Haber@georgetown.edu<br>\n",
    "@project: Computational Literature Review of Organizational Scholarship<br>\n",
    "@date: December 2020\n",
    "\n",
    "'''\n",
    "Trains classifiers to predict whether an article is about a given perspective in org. science. To train the classifiers, uses preliminary labeled articles, broken down as follows: \n",
    "Cultural: 105 yes, 209 no\n",
    "Relational: 92 yes, 230 no\n",
    "Demographic: 77 yes, 249 no\n",
    "Compares f1_weighted scores of four model structures using 10-Fold Cross Validation: Logistic regression, SVM, Naive Bayes, and Decision Tree. Oversamples training data to .7 (7:10 minority:majority class).\n",
    "'''"
   ]
  },
  {
   "cell_type": "markdown",
   "metadata": {},
   "source": [
    "## Initialize"
   ]
  },
  {
   "cell_type": "code",
   "execution_count": 1,
   "metadata": {},
   "outputs": [
    {
     "name": "stderr",
     "output_type": "stream",
     "text": [
      "[nltk_data] Downloading package punkt to /home/jovyan/nltk_data...\n",
      "[nltk_data]   Package punkt is already up-to-date!\n"
     ]
    }
   ],
   "source": [
    "######################################################\n",
    "# Import libraries\n",
    "######################################################\n",
    "\n",
    "import pandas as pd\n",
    "import numpy as np\n",
    "import re\n",
    "from collections import Counter\n",
    "from datetime import date\n",
    "import os\n",
    "\n",
    "import nltk\n",
    "from nltk import word_tokenize\n",
    "from nltk.corpus import stopwords\n",
    "from nltk.stem import WordNetLemmatizer\n",
    "nltk.download('punkt')\n",
    "\n",
    "stemmer = WordNetLemmatizer()\n",
    "\n",
    "from pandas.plotting import scatter_matrix\n",
    "import matplotlib.pyplot as plt\n",
    "\n",
    "import joblib\n",
    "import csv\n",
    "\n",
    "from sklearn.datasets import load_files\n",
    "from sklearn.feature_extraction.text import CountVectorizer, TfidfVectorizer\n",
    "\n",
    "from sklearn.metrics import classification_report, confusion_matrix, accuracy_score\n",
    "from sklearn.tree import DecisionTreeClassifier\n",
    "from sklearn.neighbors import KNeighborsClassifier\n",
    "from sklearn.ensemble import RandomForestClassifier\n",
    "from sklearn.naive_bayes import MultinomialNB\n",
    "from sklearn.linear_model import LogisticRegression\n",
    "from sklearn.svm import SVC\n",
    "from sklearn.model_selection import cross_val_score, cross_val_predict, train_test_split, KFold\n",
    "\n",
    "# !pip install imblearn\n",
    "from imblearn.over_sampling import RandomOverSampler\n",
    "from imblearn.under_sampling import RandomUnderSampler\n",
    "\n",
    "import sys; sys.path.insert(0, \"../preprocess/\") # For loading functions from files in other directory\n",
    "from quickpickle import quickpickle_dump, quickpickle_load # custom scripts for quick saving & loading to pickle format"
   ]
  },
  {
   "cell_type": "code",
   "execution_count": 2,
   "metadata": {},
   "outputs": [],
   "source": [
    "######################################################\n",
    "# Define filepaths\n",
    "######################################################\n",
    "\n",
    "thisday = date.today().strftime(\"%m%d%y\")\n",
    "\n",
    "cwd = os.getcwd()\n",
    "root = str.replace(cwd, 'classification/modeling', '')\n",
    "\n",
    "# Directory for prepared data and trained models: save files here\n",
    "data_fp = root + 'classification/data/'\n",
    "model_fp = root + 'classification/models/'\n",
    "\n",
    "# Current article lists\n",
    "article_list_fp = data_fp + 'filtered_length_index.csv' # Filtered index of research articles\n",
    "article_paths_fp = data_fp + 'filtered_length_article_paths.csv' # List of article file paths\n",
    "\n",
    "# Preprocessed training data\n",
    "cult_labeled_fp = data_fp + 'training_cultural_preprocessed_121120.pkl'\n",
    "relt_labeled_fp = data_fp + 'training_relational_preprocessed_121120.pkl'\n",
    "demog_labeled_fp = data_fp + 'training_demographic_preprocessed_121120.pkl'\n",
    "\n",
    "# Model filepaths\n",
    "cult_model_fp = model_fp + f'classifier_cult_{str(thisday)}.joblib'\n",
    "relt_model_fp = model_fp + f'classifier_relt_{str(thisday)}.joblib'\n",
    "demog_model_fp = model_fp + f'classifier_demog_{str(thisday)}.joblib'\n",
    "\n",
    "# Vectorizers trained on hand-coded data (use to limit vocab of input texts)\n",
    "cult_vec_fp = model_fp + 'vectorizer_cult_121120.joblib'\n",
    "relt_vec_fp = model_fp + 'vectorizer_relt_121120.joblib'\n",
    "demog_vec_fp = model_fp + 'vectorizer_demog_121120.joblib'"
   ]
  },
  {
   "cell_type": "markdown",
   "metadata": {},
   "source": [
    "## Load & inspect data"
   ]
  },
  {
   "cell_type": "code",
   "execution_count": 3,
   "metadata": {
    "scrolled": true
   },
   "outputs": [
    {
     "data": {
      "text/html": [
       "<div>\n",
       "<style scoped>\n",
       "    .dataframe tbody tr th:only-of-type {\n",
       "        vertical-align: middle;\n",
       "    }\n",
       "\n",
       "    .dataframe tbody tr th {\n",
       "        vertical-align: top;\n",
       "    }\n",
       "\n",
       "    .dataframe thead th {\n",
       "        text-align: right;\n",
       "    }\n",
       "</style>\n",
       "<table border=\"1\" class=\"dataframe\">\n",
       "  <thead>\n",
       "    <tr style=\"text-align: right;\">\n",
       "      <th></th>\n",
       "      <th>cultural_score</th>\n",
       "      <th>text</th>\n",
       "    </tr>\n",
       "  </thead>\n",
       "  <tbody>\n",
       "    <tr>\n",
       "      <th>0</th>\n",
       "      <td>1.0</td>\n",
       "      <td>[[journal, of, managerial, issues, vol], [xxii...</td>\n",
       "    </tr>\n",
       "    <tr>\n",
       "      <th>1</th>\n",
       "      <td>1.0</td>\n",
       "      <td>[[organization, ht, icna, vol], [no], [may, ju...</td>\n",
       "    </tr>\n",
       "    <tr>\n",
       "      <th>2</th>\n",
       "      <td>1.0</td>\n",
       "      <td>[[from, fiefs, to, clans, and, network, capita...</td>\n",
       "    </tr>\n",
       "    <tr>\n",
       "      <th>3</th>\n",
       "      <td>1.0</td>\n",
       "      <td>[[the, collective, strategy, framework, an, ap...</td>\n",
       "    </tr>\n",
       "    <tr>\n",
       "      <th>4</th>\n",
       "      <td>1.0</td>\n",
       "      <td>[[manag, int, rev, doi, sl, research, article,...</td>\n",
       "    </tr>\n",
       "    <tr>\n",
       "      <th>5</th>\n",
       "      <td>1.0</td>\n",
       "      <td>[[int], [studies, ofmgt], [amp, org, vol], [no...</td>\n",
       "    </tr>\n",
       "    <tr>\n",
       "      <th>6</th>\n",
       "      <td>1.0</td>\n",
       "      <td>[[linking, organizational, values, to, relatio...</td>\n",
       "    </tr>\n",
       "    <tr>\n",
       "      <th>7</th>\n",
       "      <td>1.0</td>\n",
       "      <td>[[journal, of, organizational, behavior, organ...</td>\n",
       "    </tr>\n",
       "    <tr>\n",
       "      <th>8</th>\n",
       "      <td>1.0</td>\n",
       "      <td>[[®, academy, oí, management, learning, amp, e...</td>\n",
       "    </tr>\n",
       "    <tr>\n",
       "      <th>9</th>\n",
       "      <td>1.0</td>\n",
       "      <td>[[strategie, management, journal, strat], [mgm...</td>\n",
       "    </tr>\n",
       "  </tbody>\n",
       "</table>\n",
       "</div>"
      ],
      "text/plain": [
       "   cultural_score                                               text\n",
       "0             1.0  [[journal, of, managerial, issues, vol], [xxii...\n",
       "1             1.0  [[organization, ht, icna, vol], [no], [may, ju...\n",
       "2             1.0  [[from, fiefs, to, clans, and, network, capita...\n",
       "3             1.0  [[the, collective, strategy, framework, an, ap...\n",
       "4             1.0  [[manag, int, rev, doi, sl, research, article,...\n",
       "5             1.0  [[int], [studies, ofmgt], [amp, org, vol], [no...\n",
       "6             1.0  [[linking, organizational, values, to, relatio...\n",
       "7             1.0  [[journal, of, organizational, behavior, organ...\n",
       "8             1.0  [[®, academy, oí, management, learning, amp, e...\n",
       "9             1.0  [[strategie, management, journal, strat], [mgm..."
      ]
     },
     "execution_count": 3,
     "metadata": {},
     "output_type": "execute_result"
    }
   ],
   "source": [
    "cult_df = quickpickle_load(cult_labeled_fp)\n",
    "relt_df = quickpickle_load(relt_labeled_fp)\n",
    "demog_df = quickpickle_load(demog_labeled_fp)\n",
    "\n",
    "cult_df.head(10)"
   ]
  },
  {
   "cell_type": "code",
   "execution_count": 4,
   "metadata": {},
   "outputs": [
    {
     "name": "stdout",
     "output_type": "stream",
     "text": [
      "cultural_score\n",
      "0.0    209\n",
      "0.5     12\n",
      "1.0    105\n",
      "dtype: int64\n",
      "\n",
      "relational_score\n",
      "0.0    229\n",
      "0.5      7\n",
      "1.0     92\n",
      "dtype: int64\n",
      "\n",
      "demographic_score\n",
      "0.0    248\n",
      "0.5      5\n",
      "1.0     77\n",
      "dtype: int64\n"
     ]
    }
   ],
   "source": [
    "# Check score distribution across classes\n",
    "print(cult_df.groupby('cultural_score').size())\n",
    "print()\n",
    "print(relt_df.groupby('relational_score').size())\n",
    "print()\n",
    "print(demog_df.groupby('demographic_score').size())"
   ]
  },
  {
   "cell_type": "code",
   "execution_count": 5,
   "metadata": {},
   "outputs": [],
   "source": [
    "# Drop unsure cases: where X_score = 0.5\n",
    "drop_unsure = True\n",
    "\n",
    "if drop_unsure:\n",
    "    cult_df_yes = cult_df[cult_df['cultural_score'] == 1.0]\n",
    "    cult_df_no = cult_df[cult_df['cultural_score'] == 0.0]\n",
    "    cult_df = pd.concat([cult_df_yes, cult_df_no])\n",
    "    \n",
    "    relt_df_yes = relt_df[relt_df['relational_score'] == 1.0]\n",
    "    relt_df_no = relt_df[relt_df['relational_score'] == 0.0]\n",
    "    relt_df = pd.concat([relt_df_yes, relt_df_no])\n",
    "    \n",
    "    demog_df_yes = demog_df[demog_df['demographic_score'] == 1.0]\n",
    "    demog_df_no = demog_df[demog_df['demographic_score'] == 0.0]\n",
    "    demog_df = pd.concat([demog_df_yes, demog_df_no])"
   ]
  },
  {
   "cell_type": "markdown",
   "metadata": {},
   "source": [
    "### Check vocab size and frequent words"
   ]
  },
  {
   "cell_type": "code",
   "execution_count": 6,
   "metadata": {},
   "outputs": [
    {
     "name": "stdout",
     "output_type": "stream",
     "text": [
      "\n"
     ]
    }
   ],
   "source": [
    "def collect_article_tokens(article, return_string=False):\n",
    "    '''\n",
    "    Collects words from already-tokenized sentences representing each article.\n",
    "    \n",
    "    Args:\n",
    "        article: list of lists of words (each list is a sentence)\n",
    "        return_string: whether to return single, long string representing article\n",
    "    Returns:\n",
    "        tokens: string if return_string, else list of tokens\n",
    "    '''\n",
    "    \n",
    "    tokens = [] # initialize\n",
    "    \n",
    "    if return_string:\n",
    "        for sent in article:\n",
    "            sent = ' '.join(sent) # make sentence into a string\n",
    "            tokens.append(sent) # add sentence to list of sentences\n",
    "        tokens = ' '.join(tokens) # join sentences into string\n",
    "        return tokens # return string\n",
    "    \n",
    "    else:\n",
    "        for sent in article:\n",
    "            tokens += [word for word in sent] # add each word to list of tokens\n",
    "        return tokens # return list of tokens\n",
    "\n",
    "# For capturing word frequencies, add all words from each article to single, shared list (can't use this to create models)\n",
    "cult_tokens = []; cult_df['text'].apply(lambda article: cult_tokens.extend([word for word in collect_article_tokens(article)]))\n",
    "relt_tokens = []; relt_df['text'].apply(lambda article: relt_tokens.extend([word for word in collect_article_tokens(article)]))\n",
    "demog_tokens = []; demog_df['text'].apply(lambda article: demog_tokens.extend([word for word in collect_article_tokens(article)]))\n",
    "print()"
   ]
  },
  {
   "cell_type": "code",
   "execution_count": 7,
   "metadata": {},
   "outputs": [
    {
     "name": "stdout",
     "output_type": "stream",
     "text": [
      "Vocab size: 75614\n",
      "\n",
      "20 most frequent words in labeled articles:\n"
     ]
    },
    {
     "data": {
      "text/plain": [
       "[('the', 541746),\n",
       " ('of', 388052),\n",
       " ('and', 300309),\n",
       " ('in', 210253),\n",
       " ('to', 197892),\n",
       " ('that', 106610),\n",
       " ('is', 95025),\n",
       " ('for', 85691),\n",
       " ('as', 69812),\n",
       " ('on', 57671),\n",
       " ('are', 57133),\n",
       " ('with', 53278),\n",
       " ('by', 51497),\n",
       " ('this', 48992),\n",
       " ('be', 42995),\n",
       " ('oasis', 40297),\n",
       " ('or', 38481),\n",
       " ('it', 36482),\n",
       " ('from', 36262),\n",
       " ('an', 35447)]"
      ]
     },
     "execution_count": 7,
     "metadata": {},
     "output_type": "execute_result"
    }
   ],
   "source": [
    "# Look at size of vocabulary and most frequent words\n",
    "tokens = (cult_tokens + relt_tokens) + demog_tokens\n",
    "print('Vocab size:', len(set(tokens)))\n",
    "print()\n",
    "\n",
    "# Check out most frequent words in labeled texts\n",
    "freq = Counter(tokens)\n",
    "print('20 most frequent words in labeled articles:')\n",
    "freq.most_common(20)"
   ]
  },
  {
   "cell_type": "markdown",
   "metadata": {},
   "source": [
    "### Check frequent sentences (to improve cleaning)"
   ]
  },
  {
   "cell_type": "code",
   "execution_count": 8,
   "metadata": {},
   "outputs": [
    {
     "name": "stdout",
     "output_type": "stream",
     "text": [
      "Number of sentences: 472263\n",
      "\n",
      "20 most frequent sentences in labeled articles:\n"
     ]
    },
    {
     "data": {
      "text/plain": [
       "[('valign bottom oasis entry oasis entry colname colsep rowsep align char char',\n",
       "  3751),\n",
       " ('pp', 1425),\n",
       " ('oasis entry oasis entry colname colsep rowsep align char char', 1271),\n",
       " ('no', 1100),\n",
       " ('oasis entry colname colsep rowsep align char char', 1077),\n",
       " ('american sociological review', 1041),\n",
       " ('american journal of sociology', 1000),\n",
       " ('administrative science quarterly', 941),\n",
       " ('valign bottom oasis entry colname colsep rowsep align char char', 938),\n",
       " ('sci', 491),\n",
       " ('academy of management journal', 444),\n",
       " ('chicago university of chicago press', 443),\n",
       " ('organ', 365),\n",
       " ('colsep rowsep oasis entry align char char', 360),\n",
       " ('academy of management review', 359),\n",
       " ('ed', 322),\n",
       " ('new york oxford university press', 317),\n",
       " ('new york free press', 307),\n",
       " ('oasis entry oasis entry colsep rowsep align char char', 296),\n",
       " ('cambridge ma harvard university press', 291)]"
      ]
     },
     "execution_count": 8,
     "metadata": {},
     "output_type": "execute_result"
    }
   ],
   "source": [
    "# Add sentences from each article to empty list:\n",
    "cult_sents = []; cult_df['text'].apply(lambda article: cult_sents.extend([' '.join([word for word in sent]) for sent in article]))\n",
    "relt_sents = []; relt_df['text'].apply(lambda article: relt_sents.extend([' '.join([word for word in sent]) for sent in article]))\n",
    "demog_sents = []; demog_df['text'].apply(lambda article: demog_sents.extend([' '.join([word for word in sent]) for sent in article]))\n",
    "\n",
    "sents = (cult_sents + relt_sents) + demog_sents\n",
    "print('Number of sentences:', len(sents))\n",
    "print()\n",
    "\n",
    "# Check out most frequent sentences in labeled texts\n",
    "freq = Counter(sents)\n",
    "print('20 most frequent sentences in labeled articles:')\n",
    "freq.most_common(20)"
   ]
  },
  {
   "cell_type": "markdown",
   "metadata": {},
   "source": [
    "### Load and apply text vectorizers"
   ]
  },
  {
   "cell_type": "code",
   "execution_count": 9,
   "metadata": {},
   "outputs": [
    {
     "name": "stdout",
     "output_type": "stream",
     "text": [
      "\n"
     ]
    }
   ],
   "source": [
    "# Collect article tokens into a list of strings, each string an article\n",
    "cult_tokens = []; cult_df['text'].apply(lambda article: cult_tokens.append(collect_article_tokens(article, return_string = True)))\n",
    "relt_tokens = []; relt_df['text'].apply(lambda article: relt_tokens.append(collect_article_tokens(article, return_string = True)))\n",
    "demog_tokens = []; demog_df['text'].apply(lambda article: demog_tokens.append(collect_article_tokens(article, return_string = True)))\n",
    "print()"
   ]
  },
  {
   "cell_type": "code",
   "execution_count": 13,
   "metadata": {},
   "outputs": [
    {
     "name": "stdout",
     "output_type": "stream",
     "text": [
      "Number of features in cultural vectorizer: 62115\n",
      "['aa', 'afixed', 'andp', 'artes', 'backtocauses', 'beroepsarbeid', 'bottles', 'byzantine', 'cer', 'clemen', 'comports', 'conyon', 'culinary', 'deflation', 'dibia', 'divoky', 'eca', 'endangers', 'ethnonationalism', 'falbe', 'flavors', 'fuelwood', 'giraud', 'guigni', 'hennis', 'hsd', 'impinging', 'inome', 'ipb', 'journalof', 'kohl', 'leaking', 'loans', 'makrellag', 'mcluhan', 'ministrative', 'muisic', 'nerve', 'notable', 'ool', 'owning', 'percap', 'plummer', 'premised', 'ps', 'rationalities', 'reincarnated', 'revamping', 'ruef', 'schumpeterian', 'shaper', 'sleek', 'spouses', 'studentized', 'symbol', 'testimony', 'tongkonan', 'turation', 'unify', 'vaughan', 'wasp', 'workweeks', 'íí']\n",
      "\n",
      "Number of features in relational vectorizer: 62933\n",
      "['aa', 'afred', 'andre', 'artifacts', 'bacteriophage', 'berscheid', 'bottom', 'búngalo', 'certifying', 'clientage', 'compromise', 'copenhagen', 'current', 'delegitimated', 'difficultto', 'dodüü', 'eder', 'enitity', 'everlastingly', 'favorable', 'folow', 'galaxy', 'golding', 'haligarten', 'highbrows', 'hypergeometric', 'incline', 'insurrection', 'issuance', 'kagan', 'koza', 'lehu', 'longerterm', 'mammaw', 'mechanistic', 'miser', 'multidisciplinary', 'neural', 'noticeable', 'onomy', 'originates', 'parekh', 'pgwide', 'popularized', 'prison', 'pvalue', 'receptivity', 'reor', 'ripe', 'salaman', 'seditious', 'showers', 'sociograms', 'stanfotd', 'substan', 'tainability', 'thetraversalis', 'tradiction', 'uddannelserne', 'unrepresentative', 'vida', 'werner', 'xnt']\n",
      "\n",
      "Number of features in demographic vectorizer: 60956\n",
      "['aa', 'ag', 'andt', 'artl', 'bagh', 'betsos', 'bowker', 'calculative', 'champion', 'cmcap', 'concrete', 'corrob', 'cyr', 'demur', 'dirigiste', 'doubled', 'eie', 'environmental', 'exit', 'ffcz', 'foucauldian', 'gence', 'gratton', 'hasten', 'hollingshead', 'ij', 'infallibility', 'intervsew', 'jerszy', 'kilman', 'larkey', 'linux', 'mackie', 'maury', 'mihajlovic', 'mosteller', 'neatly', 'nonrepresentation', 'ojjvcers', 'outwardoriented', 'pe', 'plague', 'preced', 'prospects', 'ramsoedh', 'regularities', 'retrospectively', 'rublic', 'schwarzweller', 'sharkey', 'slovenia', 'squaw', 'subcontracting', 'systemi', 'thechahroan', 'touches', 'tyrants', 'unpredictable', 'vey', 'wenona', 'xo']\n"
     ]
    }
   ],
   "source": [
    "# Define stopwords used by JSTOR\n",
    "jstor_stopwords = set([\"a\", \"an\", \"and\", \"are\", \"as\", \"at\", \"be\", \"but\", \"by\", \"for\", \"if\", \"in\", \"into\", \"is\", \"it\", \"no\", \"not\", \"of\", \"on\", \"or\", \"such\", \"that\", \"the\", \"their\", \"then\", \"there\", \"these\", \"they\", \"this\", \"to\", \"was\", \"will\", \"with\"])\n",
    "\n",
    "# Uses TFIDF weighted DTM because results in better classifier accuracy than unweighted\n",
    "cult_vectorizer = joblib.load(cult_vec_fp, \"r+\")\n",
    "X_cult = cult_vectorizer.fit_transform(cult_tokens)\n",
    "print('Number of features in cultural vectorizer:', len(cult_vectorizer.get_feature_names()))\n",
    "print(cult_vectorizer.get_feature_names()[::1000]) # get every 1000th word\n",
    "print()\n",
    "\n",
    "relt_vectorizer = joblib.load(relt_vec_fp, \"r+\")\n",
    "X_relt = relt_vectorizer.fit_transform(relt_tokens)\n",
    "print('Number of features in relational vectorizer:', len(relt_vectorizer.get_feature_names()))\n",
    "print(relt_vectorizer.get_feature_names()[::1000]) # get every 1000th word\n",
    "print()\n",
    "\n",
    "demog_vectorizer = joblib.load(demog_vec_fp, \"r+\")\n",
    "X_demog = demog_vectorizer.fit_transform(demog_tokens)\n",
    "print('Number of features in demographic vectorizer:', len(demog_vectorizer.get_feature_names()))\n",
    "print(demog_vectorizer.get_feature_names()[::1000]) # get every 1000th word"
   ]
  },
  {
   "cell_type": "markdown",
   "metadata": {},
   "source": [
    "## Setup for modeling"
   ]
  },
  {
   "cell_type": "code",
   "execution_count": 14,
   "metadata": {},
   "outputs": [],
   "source": [
    "######################################################\n",
    "# Balance x_train, y_train\n",
    "######################################################\n",
    "\n",
    "def resample_data(X_train, Y_train, undersample = False, sampling_ratio = 1.0):\n",
    "    \"\"\"\n",
    "    Args:\n",
    "        X_train: X training data\n",
    "        Y_train: Y training data\n",
    "        undersample: boolean for over or undersampling\n",
    "        sampling_ratio: ratio of minority to majority class\n",
    "        \n",
    "        archived/not used:\n",
    "        sampling_strategy: strategy for resampled distribution\n",
    "            if oversample: 'majority' makes minority = to majority\n",
    "            if undersample: 'minority' makes majority = to minority\n",
    "            \n",
    "    Returns:\n",
    "        X_balanced: predictors at balanced ratio\n",
    "        Y_balanced: outcomes at balanced ratio\n",
    "    \"\"\"\n",
    "    \n",
    "    if undersample == True:\n",
    "        undersample = RandomUnderSampler(sampling_strategy=sampling_ratio)\n",
    "        X_balanced, Y_balanced = undersample.fit_resample(X_train, Y_train)\n",
    "    else:\n",
    "        oversample = RandomOverSampler(sampling_strategy=sampling_ratio)\n",
    "        X_balanced, Y_balanced = oversample.fit_resample(X_train, Y_train)\n",
    "    \n",
    "    print(f'Y_train: {Counter(Y_train)}\\nY_resample: {Counter(Y_balanced)}')\n",
    "    \n",
    "    return X_balanced, Y_balanced"
   ]
  },
  {
   "cell_type": "code",
   "execution_count": 15,
   "metadata": {},
   "outputs": [],
   "source": [
    "######################################################\n",
    "# k-fold cross validation for model evaluation\n",
    "######################################################\n",
    "\n",
    "# Define test options for k-fold CV\n",
    "num_folds = 10 \n",
    "seed = 3\n",
    "scoring='f1_weighted' # set scoring metric (not used here)\n",
    "\n",
    "def show_kfold_output(models, \n",
    "                      X, \n",
    "                      Y, \n",
    "                      num_folds = num_folds, \n",
    "                      random_state = seed, \n",
    "                      shuffle = True):\n",
    "    '''\n",
    "    Estimates the accuracy of different model algorithms, adds results to a results array and returns.\n",
    "    Prints the accuracy results: averages and std.\n",
    "    Uses cross_val_predict, which unlike cross_val_score cannot define scoring option/evaluation metric.\n",
    "    \n",
    "    Args:\n",
    "        models: list of (name, model) tuples\n",
    "        X: predictors\n",
    "        Y: outcomes\n",
    "        num_folds: Split data randomly into num_folds parts: (num_folds-1) for training, 1 for scoring\n",
    "        random_state: seed\n",
    "        shuffle: \n",
    "    \n",
    "    Returns:\n",
    "        results: list of model results\n",
    "        names: list of model names (matches results)\n",
    "        \n",
    "    Source: \n",
    "        https://stackoverflow.com/questions/40057049/using-confusion-matrix-as-scoring-metric-in-cross-validation-in-scikit-learn\n",
    "    '''\n",
    "    \n",
    "    results = []\n",
    "    names = []\n",
    "    \n",
    "    for name, model in models:\n",
    "        # Setup model options\n",
    "        kfold = KFold(\n",
    "            n_splits=num_folds, \n",
    "            random_state=seed, \n",
    "            shuffle=True)\n",
    "        \n",
    "        # Get kfold results\n",
    "        cv_results = cross_val_predict(\n",
    "            model, \n",
    "            X, \n",
    "            Y, \n",
    "            cv=kfold, \n",
    "            #scoring=scoring, \n",
    "            n_jobs=-1) # use all cores = faster\n",
    "        \n",
    "        # Add results and name of each algorithm to the model array\n",
    "        results.append(cv_results)\n",
    "        names.append(name)\n",
    "        \n",
    "        # Print results\n",
    "        print(f'{name}:')\n",
    "        print()\n",
    "        print(f'Mean (std):\\t {round(cv_results.mean(),4)} ({round(cv_results.std(),4)})')\n",
    "        print(f'Accuracy:\\t', {round(accuracy_score(Y_balanced, cv_results)), 4})\n",
    "        print()\n",
    "        print('Confusion matrix:\\n', confusion_matrix(Y_balanced, cv_results))\n",
    "        print()\n",
    "        print('Report:\\n', classification_report(Y_balanced, cv_results))\n",
    "        print()\n",
    "        \n",
    "    # Return arrays\n",
    "    return results, names"
   ]
  },
  {
   "cell_type": "markdown",
   "metadata": {},
   "source": [
    "## Evaluate algorithms: Cultural perspective"
   ]
  },
  {
   "cell_type": "code",
   "execution_count": 16,
   "metadata": {},
   "outputs": [
    {
     "name": "stdout",
     "output_type": "stream",
     "text": [
      "Number of cases: 314\n",
      "Number of codes (should match): 314\n",
      "Y_train Distribution: [(0.0, 170), (1.0, 81)]\n"
     ]
    }
   ],
   "source": [
    "######################################################\n",
    "# Prepare training and validation data\n",
    "######################################################\n",
    "\n",
    "# Separate training and final validation data set. First remove class\n",
    "# label from data (X). Setup target class (Y)\n",
    "# Then make the validation set 10% of the entire\n",
    "# set of labeled data (X_validate, Y_validate)\n",
    "\n",
    "cult_df = cult_df[['text', 'cultural_score']]\n",
    "print(\"Number of cases:\", str(X_cult.shape[0]))\n",
    "\n",
    "valueArray = cult_df.values\n",
    "Y = valueArray[:,1]\n",
    "Y = Y.astype('float')\n",
    "print(\"Number of codes (should match):\", str(len(Y)))\n",
    "\n",
    "test_size = 0.2\n",
    "seed = 3\n",
    "X_train, X_validate, Y_train, Y_validate = train_test_split(\n",
    "    X_cult, \n",
    "    Y, \n",
    "    test_size=test_size, \n",
    "    random_state=seed)\n",
    "\n",
    "print(f'Y_train Distribution: {Counter(Y_train).most_common()}')"
   ]
  },
  {
   "cell_type": "code",
   "execution_count": 17,
   "metadata": {},
   "outputs": [
    {
     "name": "stdout",
     "output_type": "stream",
     "text": [
      "Y_train: Counter({0.0: 170, 1.0: 81})\n",
      "Y_resample: Counter({0.0: 170, 1.0: 170})\n"
     ]
    }
   ],
   "source": [
    "######################################################\n",
    "# Oversample to desirable ratio\n",
    "######################################################\n",
    "\n",
    "# Use these settings here and below\n",
    "sampling_ratio = 1.0 # ratio of minority to majority cases\n",
    "undersample = False # whether to undersample or oversample\n",
    "\n",
    "X_balanced, Y_balanced = resample_data(\n",
    "    X_train, \n",
    "    Y_train, \n",
    "    undersample=undersample, \n",
    "    sampling_ratio=sampling_ratio)"
   ]
  },
  {
   "cell_type": "code",
   "execution_count": 18,
   "metadata": {},
   "outputs": [
    {
     "name": "stdout",
     "output_type": "stream",
     "text": [
      "K-Nearest Neighbors (KNN):\n",
      "\n",
      "Mean (std):\t 0.6294 (0.483)\n",
      "Accuracy:\t {1.0, 4}\n",
      "\n",
      "Confusion matrix:\n",
      " [[117  53]\n",
      " [  9 161]]\n",
      "\n",
      "Report:\n",
      "               precision    recall  f1-score   support\n",
      "\n",
      "         0.0       0.93      0.69      0.79       170\n",
      "         1.0       0.75      0.95      0.84       170\n",
      "\n",
      "    accuracy                           0.82       340\n",
      "   macro avg       0.84      0.82      0.81       340\n",
      "weighted avg       0.84      0.82      0.81       340\n",
      "\n",
      "\n",
      "Random Forest (RF):\n",
      "\n",
      "Mean (std):\t 0.4882 (0.4999)\n",
      "Accuracy:\t {1.0, 4}\n",
      "\n",
      "Confusion matrix:\n",
      " [[163   7]\n",
      " [ 11 159]]\n",
      "\n",
      "Report:\n",
      "               precision    recall  f1-score   support\n",
      "\n",
      "         0.0       0.94      0.96      0.95       170\n",
      "         1.0       0.96      0.94      0.95       170\n",
      "\n",
      "    accuracy                           0.95       340\n",
      "   macro avg       0.95      0.95      0.95       340\n",
      "weighted avg       0.95      0.95      0.95       340\n",
      "\n",
      "\n",
      "Decision Tree (DT):\n",
      "\n",
      "Mean (std):\t 0.5647 (0.4958)\n",
      "Accuracy:\t {1.0, 4}\n",
      "\n",
      "Confusion matrix:\n",
      " [[136  34]\n",
      " [ 12 158]]\n",
      "\n",
      "Report:\n",
      "               precision    recall  f1-score   support\n",
      "\n",
      "         0.0       0.92      0.80      0.86       170\n",
      "         1.0       0.82      0.93      0.87       170\n",
      "\n",
      "    accuracy                           0.86       340\n",
      "   macro avg       0.87      0.86      0.86       340\n",
      "weighted avg       0.87      0.86      0.86       340\n",
      "\n",
      "\n",
      "Multinomial Naive Bayes (MNB):\n",
      "\n",
      "Mean (std):\t 0.7765 (0.4166)\n",
      "Accuracy:\t {1.0, 4}\n",
      "\n",
      "Confusion matrix:\n",
      " [[ 74  96]\n",
      " [  2 168]]\n",
      "\n",
      "Report:\n",
      "               precision    recall  f1-score   support\n",
      "\n",
      "         0.0       0.97      0.44      0.60       170\n",
      "         1.0       0.64      0.99      0.77       170\n",
      "\n",
      "    accuracy                           0.71       340\n",
      "   macro avg       0.81      0.71      0.69       340\n",
      "weighted avg       0.81      0.71      0.69       340\n",
      "\n",
      "\n",
      "Logistic Regression (LR):\n",
      "\n",
      "Mean (std):\t 0.4647 (0.4988)\n",
      "Accuracy:\t {1.0, 4}\n",
      "\n",
      "Confusion matrix:\n",
      " [[160  10]\n",
      " [ 22 148]]\n",
      "\n",
      "Report:\n",
      "               precision    recall  f1-score   support\n",
      "\n",
      "         0.0       0.88      0.94      0.91       170\n",
      "         1.0       0.94      0.87      0.90       170\n",
      "\n",
      "    accuracy                           0.91       340\n",
      "   macro avg       0.91      0.91      0.91       340\n",
      "weighted avg       0.91      0.91      0.91       340\n",
      "\n",
      "\n",
      "Support Vector Machine (SVM):\n",
      "\n",
      "Mean (std):\t 0.5 (0.5)\n",
      "Accuracy:\t {0.0, 4}\n",
      "\n",
      "Confusion matrix:\n",
      " [[ 70 100]\n",
      " [100  70]]\n",
      "\n",
      "Report:\n",
      "               precision    recall  f1-score   support\n",
      "\n",
      "         0.0       0.41      0.41      0.41       170\n",
      "         1.0       0.41      0.41      0.41       170\n",
      "\n",
      "    accuracy                           0.41       340\n",
      "   macro avg       0.41      0.41      0.41       340\n",
      "weighted avg       0.41      0.41      0.41       340\n",
      "\n",
      "\n"
     ]
    }
   ],
   "source": [
    "######################################################\n",
    "# Use different algorithms to build models\n",
    "######################################################\n",
    "\n",
    "models = []\n",
    "models.append(('K-Nearest Neighbors (KNN)', KNeighborsClassifier()))\n",
    "models.append(('Random Forest (RF)', RandomForestClassifier(random_state=seed)))\n",
    "models.append(('Decision Tree (DT)', DecisionTreeClassifier(random_state=seed)))\n",
    "models.append(('Multinomial Naive Bayes (MNB)', MultinomialNB()))\n",
    "models.append(('Logistic Regression (LR)', LogisticRegression(random_state=seed)))\n",
    "models.append(('Support Vector Machine (SVM)', SVC(gamma='auto')))\n",
    "\n",
    "# Evaluate algorithms using 10-fold cross validation\n",
    "results, names = show_kfold_output(models=models, \n",
    "                                   X=X_balanced, \n",
    "                                   Y=Y_balanced)"
   ]
  },
  {
   "cell_type": "code",
   "execution_count": 27,
   "metadata": {},
   "outputs": [
    {
     "data": {
      "text/plain": [
       "['/home/jovyan/work/classification/models/classifier_cult_121120.joblib']"
      ]
     },
     "execution_count": 27,
     "metadata": {},
     "output_type": "execute_result"
    }
   ],
   "source": [
    "######################################################\n",
    "# Save best model\n",
    "######################################################\n",
    "\n",
    "rf_cult = RandomForestClassifier(random_state=seed).fit(X_balanced, Y_balanced)\n",
    "joblib.dump(rf_cult, cult_model_fp)"
   ]
  },
  {
   "cell_type": "markdown",
   "metadata": {},
   "source": [
    "## Evaluate algorithms: Relational perspective"
   ]
  },
  {
   "cell_type": "code",
   "execution_count": 28,
   "metadata": {},
   "outputs": [
    {
     "name": "stdout",
     "output_type": "stream",
     "text": [
      "Number of cases: 321\n",
      "Number of codes (should match): 321\n",
      "Y_train Distribution: [(0.0, 185), (1.0, 71)]\n"
     ]
    }
   ],
   "source": [
    "######################################################\n",
    "# Prepare training and validation data\n",
    "######################################################\n",
    "\n",
    "# Separate training and final validation data set. First remove class\n",
    "# label from data (X). Setup target class (Y)\n",
    "# Then make the validation set 10% of the entire\n",
    "# set of labeled data (X_validate, Y_validate)\n",
    "\n",
    "relt_df = relt_df[['text', 'relational_score']]\n",
    "print(\"Number of cases:\", str(X_relt.shape[0]))\n",
    "\n",
    "valueArray = relt_df.values\n",
    "Y = valueArray[:,1]\n",
    "Y = Y.astype('float')\n",
    "print(\"Number of codes (should match):\", str(len(Y)))\n",
    "\n",
    "test_size = 0.2\n",
    "seed = 3\n",
    "X_train, X_validate, Y_train, Y_validate = train_test_split(X_relt, Y, test_size=test_size, random_state=seed)\n",
    "\n",
    "print(f'Y_train Distribution: {Counter(Y_train).most_common()}')"
   ]
  },
  {
   "cell_type": "code",
   "execution_count": 29,
   "metadata": {},
   "outputs": [
    {
     "name": "stdout",
     "output_type": "stream",
     "text": [
      "Y_train: Counter({0.0: 185, 1.0: 71})\n",
      "Y_resample: Counter({0.0: 185, 1.0: 185})\n"
     ]
    }
   ],
   "source": [
    "######################################################\n",
    "# Oversample to desirable ratio\n",
    "######################################################\n",
    "\n",
    "X_balanced, Y_balanced = resample_data(\n",
    "    X_train, Y_train, \n",
    "    undersample=undersample, \n",
    "    sampling_ratio=sampling_ratio)"
   ]
  },
  {
   "cell_type": "code",
   "execution_count": 30,
   "metadata": {},
   "outputs": [
    {
     "name": "stdout",
     "output_type": "stream",
     "text": [
      "K-Nearest Neighbors (KNN):\n",
      "\n",
      "Mean (std):\t 0.5973 (0.4904)\n",
      "Accuracy:\t {1.0, 4}\n",
      "\n",
      "Confusion matrix:\n",
      " [[145  40]\n",
      " [  4 181]]\n",
      "\n",
      "Report:\n",
      "               precision    recall  f1-score   support\n",
      "\n",
      "         0.0       0.97      0.78      0.87       185\n",
      "         1.0       0.82      0.98      0.89       185\n",
      "\n",
      "    accuracy                           0.88       370\n",
      "   macro avg       0.90      0.88      0.88       370\n",
      "weighted avg       0.90      0.88      0.88       370\n",
      "\n",
      "\n",
      "Random Forest (RF):\n",
      "\n",
      "Mean (std):\t 0.4757 (0.4994)\n",
      "Accuracy:\t {1.0, 4}\n",
      "\n",
      "Confusion matrix:\n",
      " [[184   1]\n",
      " [ 10 175]]\n",
      "\n",
      "Report:\n",
      "               precision    recall  f1-score   support\n",
      "\n",
      "         0.0       0.95      0.99      0.97       185\n",
      "         1.0       0.99      0.95      0.97       185\n",
      "\n",
      "    accuracy                           0.97       370\n",
      "   macro avg       0.97      0.97      0.97       370\n",
      "weighted avg       0.97      0.97      0.97       370\n",
      "\n",
      "\n",
      "Decision Tree (DT):\n",
      "\n",
      "Mean (std):\t 0.5297 (0.4991)\n",
      "Accuracy:\t {1.0, 4}\n",
      "\n",
      "Confusion matrix:\n",
      " [[164  21]\n",
      " [ 10 175]]\n",
      "\n",
      "Report:\n",
      "               precision    recall  f1-score   support\n",
      "\n",
      "         0.0       0.94      0.89      0.91       185\n",
      "         1.0       0.89      0.95      0.92       185\n",
      "\n",
      "    accuracy                           0.92       370\n",
      "   macro avg       0.92      0.92      0.92       370\n",
      "weighted avg       0.92      0.92      0.92       370\n",
      "\n",
      "\n",
      "Multinomial Naive Bayes (MNB):\n",
      "\n",
      "Mean (std):\t 0.6541 (0.4757)\n",
      "Accuracy:\t {1.0, 4}\n",
      "\n",
      "Confusion matrix:\n",
      " [[128  57]\n",
      " [  0 185]]\n",
      "\n",
      "Report:\n",
      "               precision    recall  f1-score   support\n",
      "\n",
      "         0.0       1.00      0.69      0.82       185\n",
      "         1.0       0.76      1.00      0.87       185\n",
      "\n",
      "    accuracy                           0.85       370\n",
      "   macro avg       0.88      0.85      0.84       370\n",
      "weighted avg       0.88      0.85      0.84       370\n",
      "\n",
      "\n",
      "Logistic Regression (LR):\n",
      "\n",
      "Mean (std):\t 0.4892 (0.4999)\n",
      "Accuracy:\t {1.0, 4}\n",
      "\n",
      "Confusion matrix:\n",
      " [[179   6]\n",
      " [ 10 175]]\n",
      "\n",
      "Report:\n",
      "               precision    recall  f1-score   support\n",
      "\n",
      "         0.0       0.95      0.97      0.96       185\n",
      "         1.0       0.97      0.95      0.96       185\n",
      "\n",
      "    accuracy                           0.96       370\n",
      "   macro avg       0.96      0.96      0.96       370\n",
      "weighted avg       0.96      0.96      0.96       370\n",
      "\n",
      "\n",
      "Support Vector Machine (SVM):\n",
      "\n",
      "Mean (std):\t 0.5 (0.5)\n",
      "Accuracy:\t {0.0, 4}\n",
      "\n",
      "Confusion matrix:\n",
      " [[ 81 104]\n",
      " [104  81]]\n",
      "\n",
      "Report:\n",
      "               precision    recall  f1-score   support\n",
      "\n",
      "         0.0       0.44      0.44      0.44       185\n",
      "         1.0       0.44      0.44      0.44       185\n",
      "\n",
      "    accuracy                           0.44       370\n",
      "   macro avg       0.44      0.44      0.44       370\n",
      "weighted avg       0.44      0.44      0.44       370\n",
      "\n",
      "\n"
     ]
    }
   ],
   "source": [
    "######################################################\n",
    "# Use different algorithms to build models\n",
    "######################################################\n",
    "\n",
    "models = []\n",
    "models.append(('K-Nearest Neighbors (KNN)', KNeighborsClassifier()))\n",
    "models.append(('Random Forest (RF)', RandomForestClassifier(random_state=seed)))\n",
    "models.append(('Decision Tree (DT)', DecisionTreeClassifier(random_state=seed)))\n",
    "models.append(('Multinomial Naive Bayes (MNB)', MultinomialNB()))\n",
    "models.append(('Logistic Regression (LR)', LogisticRegression(random_state=seed)))\n",
    "models.append(('Support Vector Machine (SVM)', SVC(gamma='auto')))\n",
    "\n",
    "# Evaluate algorithms using 10-fold cross validation\n",
    "results, names = show_kfold_output(models=models, \n",
    "                                   X=X_balanced, \n",
    "                                   Y=Y_balanced)"
   ]
  },
  {
   "cell_type": "code",
   "execution_count": 31,
   "metadata": {},
   "outputs": [
    {
     "data": {
      "text/plain": [
       "['/home/jovyan/work/classification/models/classifier_relt_121120.joblib']"
      ]
     },
     "execution_count": 31,
     "metadata": {},
     "output_type": "execute_result"
    }
   ],
   "source": [
    "######################################################\n",
    "# Save best model\n",
    "######################################################\n",
    "\n",
    "rf_relt = RandomForestClassifier(random_state=seed).fit(X_balanced, Y_balanced)\n",
    "joblib.dump(rf_relt, relt_model_fp)"
   ]
  },
  {
   "cell_type": "markdown",
   "metadata": {},
   "source": [
    "## Evaluate algorithms: Demographic perspective"
   ]
  },
  {
   "cell_type": "code",
   "execution_count": 32,
   "metadata": {},
   "outputs": [
    {
     "name": "stdout",
     "output_type": "stream",
     "text": [
      "Number of cases: 325\n",
      "Number of codes (should match): 325\n",
      "Y_train Distribution: [(0.0, 200), (1.0, 60)]\n"
     ]
    }
   ],
   "source": [
    "######################################################\n",
    "# Prepare training and validation data\n",
    "######################################################\n",
    "\n",
    "# Separate training and final validation data set. First reltove class\n",
    "# label from data (X). Setup target class (Y)\n",
    "# Then make the validation set 10% of the entire\n",
    "# set of labeled data (X_validate, Y_validate)\n",
    "\n",
    "demog_df = demog_df[['text', 'demographic_score']]\n",
    "print(\"Number of cases:\", str(X_demog.shape[0]))\n",
    "\n",
    "valueArray = demog_df.values\n",
    "Y = valueArray[:,1]\n",
    "Y = Y.astype('float')\n",
    "print(\"Number of codes (should match):\", str(len(Y)))\n",
    "\n",
    "test_size = 0.2\n",
    "seed = 3\n",
    "X_train, X_validate, Y_train, Y_validate = train_test_split(X_demog, Y, test_size=test_size, random_state=seed)\n",
    "\n",
    "print(f'Y_train Distribution: {Counter(Y_train).most_common()}')"
   ]
  },
  {
   "cell_type": "code",
   "execution_count": 33,
   "metadata": {},
   "outputs": [
    {
     "name": "stdout",
     "output_type": "stream",
     "text": [
      "Y_train: Counter({0.0: 200, 1.0: 60})\n",
      "Y_resample: Counter({1.0: 200, 0.0: 200})\n"
     ]
    }
   ],
   "source": [
    "######################################################\n",
    "# Oversample to desirable ratio\n",
    "######################################################\n",
    "\n",
    "X_balanced, Y_balanced = resample_data(\n",
    "    X_train, Y_train, \n",
    "    undersample=undersample, \n",
    "    sampling_ratio=sampling_ratio)"
   ]
  },
  {
   "cell_type": "code",
   "execution_count": 34,
   "metadata": {},
   "outputs": [
    {
     "name": "stdout",
     "output_type": "stream",
     "text": [
      "K-Nearest Neighbors (KNN):\n",
      "\n",
      "Mean (std):\t 0.665 (0.472)\n",
      "Accuracy:\t {1.0, 4}\n",
      "\n",
      "Confusion matrix:\n",
      " [[134  66]\n",
      " [  0 200]]\n",
      "\n",
      "Report:\n",
      "               precision    recall  f1-score   support\n",
      "\n",
      "         0.0       1.00      0.67      0.80       200\n",
      "         1.0       0.75      1.00      0.86       200\n",
      "\n",
      "    accuracy                           0.83       400\n",
      "   macro avg       0.88      0.83      0.83       400\n",
      "weighted avg       0.88      0.83      0.83       400\n",
      "\n",
      "\n",
      "Random Forest (RF):\n",
      "\n",
      "Mean (std):\t 0.5025 (0.5)\n",
      "Accuracy:\t {1.0, 4}\n",
      "\n",
      "Confusion matrix:\n",
      " [[199   1]\n",
      " [  0 200]]\n",
      "\n",
      "Report:\n",
      "               precision    recall  f1-score   support\n",
      "\n",
      "         0.0       1.00      0.99      1.00       200\n",
      "         1.0       1.00      1.00      1.00       200\n",
      "\n",
      "    accuracy                           1.00       400\n",
      "   macro avg       1.00      1.00      1.00       400\n",
      "weighted avg       1.00      1.00      1.00       400\n",
      "\n",
      "\n",
      "Decision Tree (DT):\n",
      "\n",
      "Mean (std):\t 0.5375 (0.4986)\n",
      "Accuracy:\t {1.0, 4}\n",
      "\n",
      "Confusion matrix:\n",
      " [[179  21]\n",
      " [  6 194]]\n",
      "\n",
      "Report:\n",
      "               precision    recall  f1-score   support\n",
      "\n",
      "         0.0       0.97      0.90      0.93       200\n",
      "         1.0       0.90      0.97      0.93       200\n",
      "\n",
      "    accuracy                           0.93       400\n",
      "   macro avg       0.93      0.93      0.93       400\n",
      "weighted avg       0.93      0.93      0.93       400\n",
      "\n",
      "\n",
      "Multinomial Naive Bayes (MNB):\n",
      "\n",
      "Mean (std):\t 0.6775 (0.4674)\n",
      "Accuracy:\t {1.0, 4}\n",
      "\n",
      "Confusion matrix:\n",
      " [[129  71]\n",
      " [  0 200]]\n",
      "\n",
      "Report:\n",
      "               precision    recall  f1-score   support\n",
      "\n",
      "         0.0       1.00      0.65      0.78       200\n",
      "         1.0       0.74      1.00      0.85       200\n",
      "\n",
      "    accuracy                           0.82       400\n",
      "   macro avg       0.87      0.82      0.82       400\n",
      "weighted avg       0.87      0.82      0.82       400\n",
      "\n",
      "\n",
      "Logistic Regression (LR):\n",
      "\n",
      "Mean (std):\t 0.5075 (0.4999)\n",
      "Accuracy:\t {1.0, 4}\n",
      "\n",
      "Confusion matrix:\n",
      " [[197   3]\n",
      " [  0 200]]\n",
      "\n",
      "Report:\n",
      "               precision    recall  f1-score   support\n",
      "\n",
      "         0.0       1.00      0.98      0.99       200\n",
      "         1.0       0.99      1.00      0.99       200\n",
      "\n",
      "    accuracy                           0.99       400\n",
      "   macro avg       0.99      0.99      0.99       400\n",
      "weighted avg       0.99      0.99      0.99       400\n",
      "\n",
      "\n",
      "Support Vector Machine (SVM):\n",
      "\n",
      "Mean (std):\t 0.335 (0.472)\n",
      "Accuracy:\t {0.0, 4}\n",
      "\n",
      "Confusion matrix:\n",
      " [[129  71]\n",
      " [137  63]]\n",
      "\n",
      "Report:\n",
      "               precision    recall  f1-score   support\n",
      "\n",
      "         0.0       0.48      0.65      0.55       200\n",
      "         1.0       0.47      0.32      0.38       200\n",
      "\n",
      "    accuracy                           0.48       400\n",
      "   macro avg       0.48      0.48      0.47       400\n",
      "weighted avg       0.48      0.48      0.47       400\n",
      "\n",
      "\n"
     ]
    }
   ],
   "source": [
    "######################################################\n",
    "# Use different algorithms to build models\n",
    "######################################################\n",
    "\n",
    "models = []\n",
    "models.append(('K-Nearest Neighbors (KNN)', KNeighborsClassifier()))\n",
    "models.append(('Random Forest (RF)', RandomForestClassifier(random_state=seed)))\n",
    "models.append(('Decision Tree (DT)', DecisionTreeClassifier(random_state=seed)))\n",
    "models.append(('Multinomial Naive Bayes (MNB)', MultinomialNB()))\n",
    "models.append(('Logistic Regression (LR)', LogisticRegression(random_state=seed)))\n",
    "models.append(('Support Vector Machine (SVM)', SVC(gamma='auto')))\n",
    "\n",
    "# Evaluate algorithms using 10-fold cross validation\n",
    "results, names = show_kfold_output(models=models, \n",
    "                                   X=X_balanced, \n",
    "                                   Y=Y_balanced)"
   ]
  },
  {
   "cell_type": "code",
   "execution_count": 35,
   "metadata": {},
   "outputs": [
    {
     "data": {
      "text/plain": [
       "['/home/jovyan/work/classification/models/classifier_demog_121120.joblib']"
      ]
     },
     "execution_count": 35,
     "metadata": {},
     "output_type": "execute_result"
    }
   ],
   "source": [
    "######################################################\n",
    "# Save best model\n",
    "######################################################\n",
    "\n",
    "rf_demog = RandomForestClassifier(random_state=seed).fit(X_balanced, Y_balanced)\n",
    "joblib.dump(rf_demog, demog_model_fp)"
   ]
  }
 ],
 "metadata": {
  "kernelspec": {
   "display_name": "Python 3",
   "language": "python",
   "name": "python3"
  },
  "language_info": {
   "codemirror_mode": {
    "name": "ipython",
    "version": 3
   },
   "file_extension": ".py",
   "mimetype": "text/x-python",
   "name": "python",
   "nbconvert_exporter": "python",
   "pygments_lexer": "ipython3",
   "version": "3.7.3"
  }
 },
 "nbformat": 4,
 "nbformat_minor": 4
}

{
 "cells": [
  {
   "cell_type": "markdown",
   "metadata": {},
   "source": [
    "# Take sample of tweets based on classification scores for Covid-19 myths\n",
    "\n",
    "@authors: Jaren Haber, Alexander Chen, Kornraphop Kawintiranon<br>\n",
    "@affiliation: Massive Data Institute, McCourt School of Public Policy, Georgetown University<br>\n",
    "@date: November 2, 2020\n",
    "\n",
    "'''\n",
    "Uses classifiers trained on labeled tweets (about a myth vs. not) to select a sample of 150 tweets for labeling on MTurk. Data source is tweets with hashtags related to Covid-19. For the first batch using this script, 90% of these selected tweets are predicted to be of the minority class for that myth: e.g., no on weather, yes on disinfectants, or yes on home remedies. The remaining 10% are from majority class, which are easier to predict in our skewed first batch of data. Future batches may use a more balanced sampling procedure. \n",
    "'''"
   ]
  },
  {
   "cell_type": "markdown",
   "metadata": {},
   "source": [
    "## Initialize"
   ]
  },
  {
   "cell_type": "code",
   "execution_count": 4,
   "metadata": {},
   "outputs": [
    {
     "name": "stdout",
     "output_type": "stream",
     "text": [
      "Collecting gcsfs\n",
      "  Downloading gcsfs-0.7.1-py2.py3-none-any.whl (20 kB)\n",
      "Requirement already satisfied: decorator in /opt/conda/lib/python3.8/site-packages (from gcsfs) (4.4.2)\n",
      "Requirement already satisfied: fsspec>=0.8.0 in /opt/conda/lib/python3.8/site-packages (from gcsfs) (0.8.3)\n",
      "Collecting google-auth-oauthlib\n",
      "  Downloading google_auth_oauthlib-0.4.2-py2.py3-none-any.whl (18 kB)\n",
      "Collecting aiohttp\n",
      "  Downloading aiohttp-3.7.2-cp38-cp38-manylinux2014_x86_64.whl (1.5 MB)\n",
      "\u001b[K     |████████████████████████████████| 1.5 MB 11.7 MB/s eta 0:00:01\n",
      "\u001b[?25hRequirement already satisfied: requests in /opt/conda/lib/python3.8/site-packages (from gcsfs) (2.24.0)\n",
      "Collecting google-auth>=1.2\n",
      "  Downloading google_auth-1.23.0-py2.py3-none-any.whl (114 kB)\n",
      "\u001b[K     |████████████████████████████████| 114 kB 72.8 MB/s eta 0:00:01\n",
      "\u001b[?25hCollecting requests-oauthlib>=0.7.0\n",
      "  Downloading requests_oauthlib-1.3.0-py2.py3-none-any.whl (23 kB)\n",
      "Requirement already satisfied: chardet<4.0,>=2.0 in /opt/conda/lib/python3.8/site-packages (from aiohttp->gcsfs) (3.0.4)\n",
      "Collecting multidict<7.0,>=4.5\n",
      "  Downloading multidict-5.0.2-cp38-cp38-manylinux2014_x86_64.whl (159 kB)\n",
      "\u001b[K     |████████████████████████████████| 159 kB 64.4 MB/s eta 0:00:01\n",
      "\u001b[?25hCollecting async-timeout<4.0,>=3.0\n",
      "  Downloading async_timeout-3.0.1-py3-none-any.whl (8.2 kB)\n",
      "Requirement already satisfied: attrs>=17.3.0 in /opt/conda/lib/python3.8/site-packages (from aiohttp->gcsfs) (20.2.0)\n",
      "Requirement already satisfied: typing-extensions>=3.6.5 in /opt/conda/lib/python3.8/site-packages (from aiohttp->gcsfs) (3.7.4.2)\n",
      "Collecting yarl<2.0,>=1.0\n",
      "  Downloading yarl-1.6.3-cp38-cp38-manylinux2014_x86_64.whl (324 kB)\n",
      "\u001b[K     |████████████████████████████████| 324 kB 73.4 MB/s eta 0:00:01\n",
      "\u001b[?25hRequirement already satisfied: idna<3,>=2.5 in /opt/conda/lib/python3.8/site-packages (from requests->gcsfs) (2.10)\n",
      "Requirement already satisfied: certifi>=2017.4.17 in /opt/conda/lib/python3.8/site-packages (from requests->gcsfs) (2020.6.20)\n",
      "Requirement already satisfied: urllib3!=1.25.0,!=1.25.1,<1.26,>=1.21.1 in /opt/conda/lib/python3.8/site-packages (from requests->gcsfs) (1.25.10)\n",
      "Requirement already satisfied: setuptools>=40.3.0 in /opt/conda/lib/python3.8/site-packages (from google-auth>=1.2->gcsfs) (49.6.0.post20200917)\n",
      "Requirement already satisfied: six>=1.9.0 in /opt/conda/lib/python3.8/site-packages (from google-auth>=1.2->gcsfs) (1.15.0)\n",
      "Collecting cachetools<5.0,>=2.0.0\n",
      "  Downloading cachetools-4.1.1-py3-none-any.whl (10 kB)\n",
      "Collecting rsa<5,>=3.1.4; python_version >= \"3.5\"\n",
      "  Downloading rsa-4.6-py3-none-any.whl (47 kB)\n",
      "\u001b[K     |████████████████████████████████| 47 kB 5.5 MB/s  eta 0:00:01\n",
      "\u001b[?25hCollecting pyasn1-modules>=0.2.1\n",
      "  Downloading pyasn1_modules-0.2.8-py2.py3-none-any.whl (155 kB)\n",
      "\u001b[K     |████████████████████████████████| 155 kB 75.0 MB/s eta 0:00:01\n",
      "\u001b[?25hRequirement already satisfied: oauthlib>=3.0.0 in /opt/conda/lib/python3.8/site-packages (from requests-oauthlib>=0.7.0->google-auth-oauthlib->gcsfs) (3.0.1)\n",
      "Collecting pyasn1>=0.1.3\n",
      "  Downloading pyasn1-0.4.8-py2.py3-none-any.whl (77 kB)\n",
      "\u001b[K     |████████████████████████████████| 77 kB 7.5 MB/s  eta 0:00:01\n",
      "\u001b[?25hInstalling collected packages: cachetools, pyasn1, rsa, pyasn1-modules, google-auth, requests-oauthlib, google-auth-oauthlib, multidict, async-timeout, yarl, aiohttp, gcsfs\n",
      "Successfully installed aiohttp-3.7.2 async-timeout-3.0.1 cachetools-4.1.1 gcsfs-0.7.1 google-auth-1.23.0 google-auth-oauthlib-0.4.2 multidict-5.0.2 pyasn1-0.4.8 pyasn1-modules-0.2.8 requests-oauthlib-1.3.0 rsa-4.6 yarl-1.6.3\n",
      "Collecting nltk\n",
      "  Downloading nltk-3.5.zip (1.4 MB)\n",
      "\u001b[K     |████████████████████████████████| 1.4 MB 12.4 MB/s eta 0:00:01\n",
      "\u001b[?25hRequirement already satisfied: click in /opt/conda/lib/python3.8/site-packages (from nltk) (7.1.2)\n",
      "Requirement already satisfied: joblib in /opt/conda/lib/python3.8/site-packages (from nltk) (0.16.0)\n",
      "Collecting regex\n",
      "  Downloading regex-2020.11.13-cp38-cp38-manylinux2014_x86_64.whl (738 kB)\n",
      "\u001b[K     |████████████████████████████████| 738 kB 61.4 MB/s eta 0:00:01\n",
      "\u001b[?25hRequirement already satisfied: tqdm in /opt/conda/lib/python3.8/site-packages (from nltk) (4.50.0)\n",
      "Building wheels for collected packages: nltk\n",
      "  Building wheel for nltk (setup.py) ... \u001b[?25ldone\n",
      "\u001b[?25h  Created wheel for nltk: filename=nltk-3.5-py3-none-any.whl size=1434677 sha256=830264f3107a1afd99d76d7ec165cad3c79f6e83a47d449872ad8ffdd45d8f3f\n",
      "  Stored in directory: /home/jovyan/.cache/pip/wheels/ff/d5/7b/f1fb4e1e1603b2f01c2424dd60fbcc50c12ef918bafc44b155\n",
      "Successfully built nltk\n",
      "Installing collected packages: regex, nltk\n",
      "Successfully installed nltk-3.5 regex-2020.11.13\n",
      "Collecting emoji\n",
      "  Downloading emoji-0.6.0.tar.gz (51 kB)\n",
      "\u001b[K     |████████████████████████████████| 51 kB 6.9 MB/s  eta 0:00:01\n",
      "\u001b[?25hBuilding wheels for collected packages: emoji\n",
      "  Building wheel for emoji (setup.py) ... \u001b[?25ldone\n",
      "\u001b[?25h  Created wheel for emoji: filename=emoji-0.6.0-py3-none-any.whl size=49713 sha256=c11f557fa222af35e5256d39be3d5521732a3b115c13195e76c909395a14a52d\n",
      "  Stored in directory: /home/jovyan/.cache/pip/wheels/43/3d/82/e7baffa5e86346c6178d7750dba6e8ef063282a37fc563f8f8\n",
      "Successfully built emoji\n",
      "Installing collected packages: emoji\n",
      "Successfully installed emoji-0.6.0\n"
     ]
    },
    {
     "name": "stderr",
     "output_type": "stream",
     "text": [
      "[nltk_data] Downloading package punkt to /home/jovyan/nltk_data...\n",
      "[nltk_data]   Unzipping tokenizers/punkt.zip.\n",
      "[nltk_data] Downloading package wordnet to /home/jovyan/nltk_data...\n",
      "[nltk_data]   Unzipping corpora/wordnet.zip.\n"
     ]
    },
    {
     "data": {
      "text/plain": [
       "True"
      ]
     },
     "execution_count": 4,
     "metadata": {},
     "output_type": "execute_result"
    }
   ],
   "source": [
    "# Install anything not already in server\n",
    "#!pip install gcsfs\n",
    "# !pip install nltk\n",
    "# !pip install emoji\n",
    "#!pip install --upgrade scikit-learn # need to update sklearn for Jaren's VM\n",
    "\n",
    "import nltk\n",
    "nltk.download('punkt')\n",
    "nltk.download('wordnet')"
   ]
  },
  {
   "cell_type": "code",
   "execution_count": 1,
   "metadata": {},
   "outputs": [
    {
     "name": "stderr",
     "output_type": "stream",
     "text": [
      "/opt/conda/lib/python3.8/site-packages/tqdm/std.py:706: FutureWarning: The Panel class is removed from pandas. Accessing it from the top-level namespace will also be removed in the next version\n",
      "  from pandas import Panel\n"
     ]
    }
   ],
   "source": [
    "######################################################\n",
    "# Import libraries\n",
    "######################################################\n",
    "\n",
    "import pandas as pd\n",
    "import numpy as np\n",
    "import re, csv, os\n",
    "from datetime import date\n",
    "from random import sample\n",
    "from collections import Counter\n",
    "import gcsfs # for quick loading of data from gcloud\n",
    "from tqdm import tqdm\n",
    "tqdm.pandas()\n",
    "\n",
    "import nltk\n",
    "from nltk import word_tokenize\n",
    "from nltk.corpus import stopwords\n",
    "from nltk.stem import WordNetLemmatizer\n",
    "\n",
    "stemmer = WordNetLemmatizer()\n",
    "\n",
    "from pandas.plotting import scatter_matrix\n",
    "import matplotlib.pyplot as plt\n",
    "\n",
    "import joblib\n",
    "from sklearn.feature_extraction.text import CountVectorizer, TfidfVectorizer\n",
    "\n",
    "import emoji"
   ]
  },
  {
   "cell_type": "code",
   "execution_count": 2,
   "metadata": {},
   "outputs": [],
   "source": [
    "######################################################\n",
    "# Define filepaths\n",
    "######################################################\n",
    "\n",
    "bucket_fp = 'gs://project_coronavirus/raw/hashtag/'\n",
    "\n",
    "dis_mod_fp = '../models/tweet_classifier_disinfectants.joblib'\n",
    "rem_mod_fp = '../models/tweet_classifier_home_remedies.joblib'\n",
    "wth_mod_fp = '../models/tweet_classifier_weather.joblib'\n",
    "\n",
    "dis_vec_fp = '../models/vectorizer_disinfectants.joblib'\n",
    "rem_vec_fp = '../models/vectorizer_home_remedies.joblib'\n",
    "wth_vec_fp = '../models/vectorizer_weather.joblib'\n",
    "\n",
    "n_sample = 150\n",
    "thisday = date.today().strftime(\"%d%m%y\")\n",
    "\n",
    "dis_sam_fp = f'../data/sample_{str(n_sample)}_tweets_disinfectants_{str(thisday)}.csv'\n",
    "rem_sam_fp = f'../data/sample_{str(n_sample)}_tweets_home_remedies_{str(thisday)}.csv'\n",
    "wth_sam_fp = f'../data/sample_{str(n_sample)}_tweets_weather_{str(thisday)}.csv'"
   ]
  },
  {
   "cell_type": "code",
   "execution_count": 3,
   "metadata": {},
   "outputs": [],
   "source": [
    "def read_tweets (dirname, \n",
    "                 num_rand_files = 0, \n",
    "                 start_week_num = -1, \n",
    "                 end_week_num = 0, \n",
    "                 levels = 1, \n",
    "                 nrows = 50, \n",
    "                 language = 'en'):\n",
    "    \n",
    "    \"\"\"\n",
    "    Read latest Twitter data from JSON files. \n",
    "    Options: take random number of files from each folder, \n",
    "    look only at folders for weeks within specified range, and/or \n",
    "    read files in single folder (1 level) or folder of folders (2 levels).\n",
    "    \n",
    "    Args:\n",
    "        dirname: folder in Google Cloud Compute Server where Twitter JSON files live\n",
    "        num_rand_files: number of random files to draw from each folder. Useful when randomly sampling from files with lots of tweets\n",
    "        start_week_num: first week in range (to take tweets from), inclusive\n",
    "        end_week_num: last week in range (to take tweets from), inclusive\n",
    "        levels: number of folders in hierarchy ('dirname/file1, dirname/file2, etc.' = one level)\n",
    "        nrows: number of tweets to read from file\n",
    "        language: filter to only tweets in this language\n",
    "    Returns:\n",
    "        df: DataFrame with loaded in Twitter data\n",
    "    \"\"\"\n",
    "    \n",
    "    fs = gcsfs.GCSFileSystem(project=\"MDI-1\", token=\"cloud\")\n",
    "    \n",
    "    if levels == 2: # two levels (multiple folders)\n",
    "        files = []\n",
    "        folders = [folder for folder in fs.ls(dirname) \n",
    "                   if folder != dirname \n",
    "                   and os.path.join(\"gs://\", folder) != dirname] # don't keep duplicate folders = same as dirname\n",
    "        \n",
    "        for folder in folders:\n",
    "            # only process folders where: start_week_num < week_number < end_week_num\n",
    "            week_num = int(folder.split('/')[-1][9:]) # get week number: last part of file path, anything after '2020-week'\n",
    "            if week_num < start_week_num or (end_week_num > 0 and week_num > end_week_num):\n",
    "                continue # skip if not in week range\n",
    "            \n",
    "            # for folders of weeks in desired range, get their files\n",
    "            listf = fs.ls(os.path.join(\"gs://\", folder)) # get list of files in this folder\n",
    "            listf = [re.sub(r\"#\", r\"%23\", file) for file in listf] # in each file name, replace '#' with '%23' so pandas can read it\n",
    "            if num_rand_files > 0:\n",
    "                listf = sample(listf, num_rand_files) # get specified number of random files\n",
    "            files.extend(listf) # add each file to list\n",
    "            files = [x for x in files if x.endswith(\".json\") or x.endswith(\".json.gz\")]\n",
    "            \n",
    "    else: # one level (just one folder)\n",
    "        files = fs.ls(dirname)\n",
    "        files = [x for x in files if x.endswith(\".json\") or x.endswith(\".json.gz\")]\n",
    "        if num_rand_files > 0:\n",
    "            files = sample(listf, num_rand_files) # get specified number of random files\n",
    "    \n",
    "    print(f\"Reading in tweets from {len(files)} JSON files...\")\n",
    "    \n",
    "    # Load and merge files as DFs\n",
    "    dfs = []\n",
    "    for f in tqdm(files):\n",
    "        #print(\"gs://{}\".format(f))\n",
    "        thisdf = pd.read_json(\"gs://{}\".format(f), nrows = nrows, lines=True)\n",
    "        if 'lang' in thisdf.columns:\n",
    "            thisdf['language'] = thisdf['lang'] # funnel 'lang' to 'language' column\n",
    "            thisdf.drop(columns = 'lang', inplace = True) # erase 'lang' column (now a duplicate)\n",
    "        thisdf = thisdf[thisdf['language']==language] # Filter to only tweets in language\n",
    "        dfs.append(thisdf)\n",
    "    df = pd.concat(dfs)\n",
    "    \n",
    "    return df"
   ]
  },
  {
   "cell_type": "markdown",
   "metadata": {},
   "source": [
    "## Load & inspect data"
   ]
  },
  {
   "cell_type": "code",
   "execution_count": 4,
   "metadata": {},
   "outputs": [],
   "source": [
    "######################################################\n",
    "# Load models\n",
    "######################################################\n",
    "\n",
    "dis_mod = joblib.load(dis_mod_fp)\n",
    "rem_mod = joblib.load(rem_mod_fp)\n",
    "wth_mod = joblib.load(wth_mod_fp)"
   ]
  },
  {
   "cell_type": "code",
   "execution_count": 16,
   "metadata": {
    "scrolled": false
   },
   "outputs": [
    {
     "name": "stderr",
     "output_type": "stream",
     "text": [
      "\r",
      "  0%|          | 0/21 [00:00<?, ?it/s]"
     ]
    },
    {
     "name": "stdout",
     "output_type": "stream",
     "text": [
      "Reading in tweets from 21 JSON files...\n"
     ]
    },
    {
     "name": "stderr",
     "output_type": "stream",
     "text": [
      "100%|██████████| 21/21 [00:54<00:00,  2.58s/it]"
     ]
    },
    {
     "name": "stdout",
     "output_type": "stream",
     "text": [
      "Number of rows (tweets) and cols in DF: (6016, 61)\n",
      "\n",
      "Columns in tweets DF:\n",
      " Index(['created_at', 'id', 'id_str', 'full_text', 'truncated',\n",
      "       'display_text_range', 'entities', 'metadata', 'source',\n",
      "       'in_reply_to_status_id', 'in_reply_to_status_id_str',\n",
      "       'in_reply_to_user_id', 'in_reply_to_user_id_str',\n",
      "       'in_reply_to_screen_name', 'user', 'geo', 'coordinates', 'place',\n",
      "       'contributors', 'retweeted_status', 'is_quote_status',\n",
      "       'quoted_status_id', 'quoted_status_id_str', 'retweet_count',\n",
      "       'favorite_count', 'favorited', 'retweeted', 'possibly_sensitive',\n",
      "       'quoted_status', 'extended_entities', 'language', 'conversation_id',\n",
      "       'date', 'time', 'timezone', 'user_id', 'username', 'name', 'tweet',\n",
      "       'mentions', 'urls', 'photos', 'replies_count', 'retweets_count',\n",
      "       'likes_count', 'hashtags', 'cashtags', 'link', 'retweet', 'quote_url',\n",
      "       'video', 'thumbnail', 'near', 'user_rt_id', 'user_rt', 'retweet_id',\n",
      "       'reply_to', 'retweet_date', 'translate', 'trans_src', 'trans_dest'],\n",
      "      dtype='object')\n",
      "\n",
      "Example tweet 1:\n",
      " RT @marxistJorge: NY governor has signed an executive order to seize all ventilators in private health facilities. What happened to the sup…\n",
      "\n",
      "Example tweet 2:\n",
      " LIVE with Dr. Fred Teribury talking about #CoronavirusPandemic #Covid_19  #QuarantineLife #Quarantine \n",
      "1 605 562 0444\n",
      "Show ID 690 9491\n",
      "@AngryMarkBeer @CNN \n",
      "\n",
      "https://t.co/E2nur0yjRr\n",
      "\n"
     ]
    },
    {
     "name": "stderr",
     "output_type": "stream",
     "text": [
      "\n"
     ]
    },
    {
     "data": {
      "text/html": [
       "<div>\n",
       "<style scoped>\n",
       "    .dataframe tbody tr th:only-of-type {\n",
       "        vertical-align: middle;\n",
       "    }\n",
       "\n",
       "    .dataframe tbody tr th {\n",
       "        vertical-align: top;\n",
       "    }\n",
       "\n",
       "    .dataframe thead th {\n",
       "        text-align: right;\n",
       "    }\n",
       "</style>\n",
       "<table border=\"1\" class=\"dataframe\">\n",
       "  <thead>\n",
       "    <tr style=\"text-align: right;\">\n",
       "      <th></th>\n",
       "      <th>created_at</th>\n",
       "      <th>id</th>\n",
       "      <th>id_str</th>\n",
       "      <th>full_text</th>\n",
       "      <th>truncated</th>\n",
       "      <th>display_text_range</th>\n",
       "      <th>entities</th>\n",
       "      <th>metadata</th>\n",
       "      <th>source</th>\n",
       "      <th>in_reply_to_status_id</th>\n",
       "      <th>...</th>\n",
       "      <th>thumbnail</th>\n",
       "      <th>near</th>\n",
       "      <th>user_rt_id</th>\n",
       "      <th>user_rt</th>\n",
       "      <th>retweet_id</th>\n",
       "      <th>reply_to</th>\n",
       "      <th>retweet_date</th>\n",
       "      <th>translate</th>\n",
       "      <th>trans_src</th>\n",
       "      <th>trans_dest</th>\n",
       "    </tr>\n",
       "  </thead>\n",
       "  <tbody>\n",
       "    <tr>\n",
       "      <th>0</th>\n",
       "      <td>2020-04-04 00:26:15+00:00</td>\n",
       "      <td>1246232579797323779</td>\n",
       "      <td>1.246233e+18</td>\n",
       "      <td>RT @marxistJorge: NY governor has signed an ex...</td>\n",
       "      <td>False</td>\n",
       "      <td>[0, 140]</td>\n",
       "      <td>{'hashtags': [], 'symbols': [], 'user_mentions...</td>\n",
       "      <td>{'iso_language_code': 'en', 'result_type': 're...</td>\n",
       "      <td>&lt;a href=\"http://twitter.com/download/android\" ...</td>\n",
       "      <td>NaN</td>\n",
       "      <td>...</td>\n",
       "      <td>NaN</td>\n",
       "      <td>NaN</td>\n",
       "      <td>NaN</td>\n",
       "      <td>NaN</td>\n",
       "      <td>NaN</td>\n",
       "      <td>NaN</td>\n",
       "      <td>NaN</td>\n",
       "      <td>NaN</td>\n",
       "      <td>NaN</td>\n",
       "      <td>NaN</td>\n",
       "    </tr>\n",
       "    <tr>\n",
       "      <th>3</th>\n",
       "      <td>2020-04-04 00:26:14+00:00</td>\n",
       "      <td>1246232575640629248</td>\n",
       "      <td>1.246233e+18</td>\n",
       "      <td>'We will starve': Zimbabwe's poor full of misg...</td>\n",
       "      <td>False</td>\n",
       "      <td>[0, 237]</td>\n",
       "      <td>{'hashtags': [{'text': 'Covid_19', 'indices': ...</td>\n",
       "      <td>{'iso_language_code': 'en', 'result_type': 're...</td>\n",
       "      <td>&lt;a href=\"http://twitter.com\" rel=\"nofollow\"&gt;Tw...</td>\n",
       "      <td>NaN</td>\n",
       "      <td>...</td>\n",
       "      <td>NaN</td>\n",
       "      <td>NaN</td>\n",
       "      <td>NaN</td>\n",
       "      <td>NaN</td>\n",
       "      <td>NaN</td>\n",
       "      <td>NaN</td>\n",
       "      <td>NaN</td>\n",
       "      <td>NaN</td>\n",
       "      <td>NaN</td>\n",
       "      <td>NaN</td>\n",
       "    </tr>\n",
       "    <tr>\n",
       "      <th>6</th>\n",
       "      <td>2020-04-04 00:26:14+00:00</td>\n",
       "      <td>1246232574583812096</td>\n",
       "      <td>1.246233e+18</td>\n",
       "      <td>To try to be healthy during this #Quarantine, ...</td>\n",
       "      <td>False</td>\n",
       "      <td>[0, 191]</td>\n",
       "      <td>{'hashtags': [{'text': 'Quarantine', 'indices'...</td>\n",
       "      <td>{'iso_language_code': 'en', 'result_type': 're...</td>\n",
       "      <td>&lt;a href=\"http://twitter.com/download/iphone\" r...</td>\n",
       "      <td>NaN</td>\n",
       "      <td>...</td>\n",
       "      <td>NaN</td>\n",
       "      <td>NaN</td>\n",
       "      <td>NaN</td>\n",
       "      <td>NaN</td>\n",
       "      <td>NaN</td>\n",
       "      <td>NaN</td>\n",
       "      <td>NaN</td>\n",
       "      <td>NaN</td>\n",
       "      <td>NaN</td>\n",
       "      <td>NaN</td>\n",
       "    </tr>\n",
       "    <tr>\n",
       "      <th>8</th>\n",
       "      <td>2020-04-04 00:26:14+00:00</td>\n",
       "      <td>1246232573396815874</td>\n",
       "      <td>1.246233e+18</td>\n",
       "      <td>RT @DrOniBee: The ability to do #SocialDistanc...</td>\n",
       "      <td>False</td>\n",
       "      <td>[0, 140]</td>\n",
       "      <td>{'hashtags': [{'text': 'SocialDistancing', 'in...</td>\n",
       "      <td>{'iso_language_code': 'en', 'result_type': 're...</td>\n",
       "      <td>&lt;a href=\"http://twitter.com/download/android\" ...</td>\n",
       "      <td>NaN</td>\n",
       "      <td>...</td>\n",
       "      <td>NaN</td>\n",
       "      <td>NaN</td>\n",
       "      <td>NaN</td>\n",
       "      <td>NaN</td>\n",
       "      <td>NaN</td>\n",
       "      <td>NaN</td>\n",
       "      <td>NaN</td>\n",
       "      <td>NaN</td>\n",
       "      <td>NaN</td>\n",
       "      <td>NaN</td>\n",
       "    </tr>\n",
       "    <tr>\n",
       "      <th>17</th>\n",
       "      <td>2020-04-04 00:26:09+00:00</td>\n",
       "      <td>1246232556325851136</td>\n",
       "      <td>1.246233e+18</td>\n",
       "      <td>White rabbit is everywhere!! #Adrenochrome #Co...</td>\n",
       "      <td>False</td>\n",
       "      <td>[0, 86]</td>\n",
       "      <td>{'hashtags': [{'text': 'Adrenochrome', 'indice...</td>\n",
       "      <td>{'iso_language_code': 'en', 'result_type': 're...</td>\n",
       "      <td>&lt;a href=\"http://twitter.com/download/android\" ...</td>\n",
       "      <td>NaN</td>\n",
       "      <td>...</td>\n",
       "      <td>NaN</td>\n",
       "      <td>NaN</td>\n",
       "      <td>NaN</td>\n",
       "      <td>NaN</td>\n",
       "      <td>NaN</td>\n",
       "      <td>NaN</td>\n",
       "      <td>NaN</td>\n",
       "      <td>NaN</td>\n",
       "      <td>NaN</td>\n",
       "      <td>NaN</td>\n",
       "    </tr>\n",
       "  </tbody>\n",
       "</table>\n",
       "<p>5 rows × 61 columns</p>\n",
       "</div>"
      ],
      "text/plain": [
       "                  created_at                   id        id_str  \\\n",
       "0  2020-04-04 00:26:15+00:00  1246232579797323779  1.246233e+18   \n",
       "3  2020-04-04 00:26:14+00:00  1246232575640629248  1.246233e+18   \n",
       "6  2020-04-04 00:26:14+00:00  1246232574583812096  1.246233e+18   \n",
       "8  2020-04-04 00:26:14+00:00  1246232573396815874  1.246233e+18   \n",
       "17 2020-04-04 00:26:09+00:00  1246232556325851136  1.246233e+18   \n",
       "\n",
       "                                            full_text truncated  \\\n",
       "0   RT @marxistJorge: NY governor has signed an ex...     False   \n",
       "3   'We will starve': Zimbabwe's poor full of misg...     False   \n",
       "6   To try to be healthy during this #Quarantine, ...     False   \n",
       "8   RT @DrOniBee: The ability to do #SocialDistanc...     False   \n",
       "17  White rabbit is everywhere!! #Adrenochrome #Co...     False   \n",
       "\n",
       "   display_text_range                                           entities  \\\n",
       "0            [0, 140]  {'hashtags': [], 'symbols': [], 'user_mentions...   \n",
       "3            [0, 237]  {'hashtags': [{'text': 'Covid_19', 'indices': ...   \n",
       "6            [0, 191]  {'hashtags': [{'text': 'Quarantine', 'indices'...   \n",
       "8            [0, 140]  {'hashtags': [{'text': 'SocialDistancing', 'in...   \n",
       "17            [0, 86]  {'hashtags': [{'text': 'Adrenochrome', 'indice...   \n",
       "\n",
       "                                             metadata  \\\n",
       "0   {'iso_language_code': 'en', 'result_type': 're...   \n",
       "3   {'iso_language_code': 'en', 'result_type': 're...   \n",
       "6   {'iso_language_code': 'en', 'result_type': 're...   \n",
       "8   {'iso_language_code': 'en', 'result_type': 're...   \n",
       "17  {'iso_language_code': 'en', 'result_type': 're...   \n",
       "\n",
       "                                               source  in_reply_to_status_id  \\\n",
       "0   <a href=\"http://twitter.com/download/android\" ...                    NaN   \n",
       "3   <a href=\"http://twitter.com\" rel=\"nofollow\">Tw...                    NaN   \n",
       "6   <a href=\"http://twitter.com/download/iphone\" r...                    NaN   \n",
       "8   <a href=\"http://twitter.com/download/android\" ...                    NaN   \n",
       "17  <a href=\"http://twitter.com/download/android\" ...                    NaN   \n",
       "\n",
       "    ...  thumbnail  near  user_rt_id user_rt retweet_id reply_to retweet_date  \\\n",
       "0   ...        NaN   NaN         NaN     NaN        NaN      NaN          NaN   \n",
       "3   ...        NaN   NaN         NaN     NaN        NaN      NaN          NaN   \n",
       "6   ...        NaN   NaN         NaN     NaN        NaN      NaN          NaN   \n",
       "8   ...        NaN   NaN         NaN     NaN        NaN      NaN          NaN   \n",
       "17  ...        NaN   NaN         NaN     NaN        NaN      NaN          NaN   \n",
       "\n",
       "   translate  trans_src trans_dest  \n",
       "0        NaN        NaN        NaN  \n",
       "3        NaN        NaN        NaN  \n",
       "6        NaN        NaN        NaN  \n",
       "8        NaN        NaN        NaN  \n",
       "17       NaN        NaN        NaN  \n",
       "\n",
       "[5 rows x 61 columns]"
      ]
     },
     "execution_count": 16,
     "metadata": {},
     "output_type": "execute_result"
    }
   ],
   "source": [
    "######################################################\n",
    "# Load and inspect the data\n",
    "######################################################\n",
    "\n",
    "df = read_tweets(bucket_fp, \n",
    "                 num_rand_files = 1, \n",
    "                 start_week_num = 14, \n",
    "                 end_week_num = 35, \n",
    "                 levels = 2, \n",
    "                 nrows = 1000,\n",
    "                 language='en')\n",
    "\n",
    "print('Number of rows (tweets) and cols in DF:', str(df.shape))\n",
    "print()\n",
    "print('Columns in tweets DF:\\n', str(df.columns))\n",
    "print()\n",
    "\n",
    "# See examples of two tweets. \n",
    "# Have usernames and URLs already been replaced?\n",
    "print(\"Example tweet 1:\\n\", df['full_text'].iloc[0])\n",
    "print()\n",
    "print(\"Example tweet 2:\\n\", df['full_text'].iloc[10])\n",
    "print()\n",
    "\n",
    "df.head(5)"
   ]
  },
  {
   "cell_type": "markdown",
   "metadata": {},
   "source": [
    "## Preprocess text data"
   ]
  },
  {
   "cell_type": "code",
   "execution_count": 17,
   "metadata": {
    "scrolled": true
   },
   "outputs": [
    {
     "name": "stderr",
     "output_type": "stream",
     "text": [
      "  6%|▌         | 360/6016 [00:00<00:01, 3582.98it/s]"
     ]
    },
    {
     "name": "stdout",
     "output_type": "stream",
     "text": [
      "Preprocessing tweets...\n"
     ]
    },
    {
     "name": "stderr",
     "output_type": "stream",
     "text": [
      "100%|██████████| 6016/6016 [00:01<00:00, 3429.95it/s]\n"
     ]
    }
   ],
   "source": [
    "######################################################\n",
    "# Tweet Preprocessing\n",
    "######################################################\n",
    "\n",
    "def process_tweets(tweet):\n",
    "    '''\n",
    "    Preprocesses raw text of a tweet by lower-casing, stripping whitespace, \n",
    "    \n",
    "    TO DO: Check whether URLs and usernames are already replaced with signifers in this data. If not, change cleaning procedure to handle this case and incorporate parameter to scope to both situations.\n",
    "    TO DO: Delete any retweets.\n",
    "    \n",
    "    args:\n",
    "        tweet: raw text of a tweet\n",
    "    '''\n",
    "    \n",
    "    # Skip retweets and non-strings\n",
    "    retweet_pattern = r'^RT\\s+' # recognize retweets by starting with 'RT'\n",
    "    if not isinstance(tweet, str) or re.search(retweet_pattern, tweet):\n",
    "        return ''\n",
    "    \n",
    "    # Convert to lowercase\n",
    "    tweet = tweet.lower()\n",
    "    \n",
    "    # Repair hashtag and remove newline character\n",
    "    # from text_helpers.tweet_text_cleanup\n",
    "    tweet = tweet.replace(\"# \", \"#\")\n",
    "    tweet = tweet.replace(\"\\n\", \" \")\n",
    "    \n",
    "    # remove URLs and @mentions\n",
    "    # Simple regular expression to match URLs starting with `https` or `http`\n",
    "    # More complex regex an be found here: https://mathiasbynens.be/demo/url-regex\n",
    "    url_regex = r\"https?://\\S*\"\n",
    "    # Regex to match mentions\n",
    "    mention_regex = r\"@\\S*\"\n",
    "    tweet = re.sub(url_regex, \"\", tweet)\n",
    "    tweet = re.sub(mention_regex, \"\", tweet)\n",
    "        \n",
    "    # Remove additional white spaces\n",
    "    whitespace_pattern = r'\\s+'\n",
    "    tweet = re.sub(whitespace_pattern, ' ', tweet) # strip whitespaces in between words\n",
    "    tweet = tweet.strip() # strip whitespaces at start & end\n",
    "    \n",
    "    # Replace #word with word\n",
    "    tweet = re.sub(r'#([^\\s]+)', r'\\1', tweet)\n",
    "    \n",
    "    # Remove emojis\n",
    "    tweet = emoji.get_emoji_regexp().sub(u'', tweet)\n",
    "    \n",
    "    # Lemmatization\n",
    "    tweet = tweet.split()\n",
    "    tweet = ' '.join([stemmer.lemmatize(word) for word in tweet])\n",
    "        \n",
    "    return tweet\n",
    "\n",
    "print(\"Preprocessing tweets...\")\n",
    "df['text_cleaned'] = df['full_text'].progress_apply(lambda x: process_tweets(x))\n",
    "df = df[df['text_cleaned']!=''] # Filter to only non-empty text_cleaned tweets"
   ]
  },
  {
   "cell_type": "code",
   "execution_count": 19,
   "metadata": {},
   "outputs": [
    {
     "name": "stdout",
     "output_type": "stream",
     "text": [
      "Example tweet 1 (cleaned):\n",
      " 'we will starve': zimbabwe's poor full of misgiving over covid-19 lockdown - \"zimbabwe ha been plunged into a 21-day national lockdown to curb the spread of covid_19, after eight confirmed cases, and one death.\"\n",
      "\n",
      "Example tweet 2 (cleaned):\n",
      " in other words, a typical weekend! stayhome isolationmode waybackwithkmac keepyourdistance washyourhands covid_19 quarantine\n",
      "\n"
     ]
    }
   ],
   "source": [
    "# Take a look at two (probably different) tweets post-preprocessing\n",
    "print(\"Example tweet 1 (cleaned):\\n\", df['text_cleaned'].iloc[0])\n",
    "print()\n",
    "print(\"Example tweet 2 (cleaned):\\n\", df['text_cleaned'].iloc[10])\n",
    "print()"
   ]
  },
  {
   "cell_type": "code",
   "execution_count": 20,
   "metadata": {
    "scrolled": true
   },
   "outputs": [
    {
     "name": "stderr",
     "output_type": "stream",
     "text": [
      " 10%|▉         | 154/1589 [00:00<00:00, 1535.10it/s]"
     ]
    },
    {
     "name": "stdout",
     "output_type": "stream",
     "text": [
      "Tokenizing words for counting purposes...\n"
     ]
    },
    {
     "name": "stderr",
     "output_type": "stream",
     "text": [
      "100%|██████████| 1589/1589 [00:00<00:00, 1842.68it/s]"
     ]
    },
    {
     "name": "stdout",
     "output_type": "stream",
     "text": [
      "Vocabulary size for preprocessed tweets: 8016\n",
      "20 most frequent words in cleaned tweets:\n"
     ]
    },
    {
     "name": "stderr",
     "output_type": "stream",
     "text": [
      "\n"
     ]
    },
    {
     "data": {
      "text/plain": [
       "[('.', 1362),\n",
       " ('the', 1122),\n",
       " (',', 883),\n",
       " ('to', 876),\n",
       " ('and', 718),\n",
       " ('in', 704),\n",
       " ('covid19', 626),\n",
       " ('of', 586),\n",
       " ('a', 575),\n",
       " ('coronavirus', 574),\n",
       " ('covid', 555),\n",
       " ('case', 509),\n",
       " (':', 502),\n",
       " ('new', 475),\n",
       " ('coronavirusoutbreak', 366),\n",
       " ('is', 361),\n",
       " ('coronavirusupdate', 329),\n",
       " ('for', 326),\n",
       " ('death', 289),\n",
       " ('you', 274)]"
      ]
     },
     "execution_count": 20,
     "metadata": {},
     "output_type": "execute_result"
    }
   ],
   "source": [
    "# Check out vocab size after cleaning\n",
    "# Add words from each cleaned tweet to empty list:\n",
    "tweet_tokens_cleaned = []\n",
    "print(\"Tokenizing words for counting purposes...\")\n",
    "df['text_cleaned'].progress_apply(lambda x: tweet_tokens_cleaned.extend(word_tokenize(x))) # add each word to tokens list\n",
    "\n",
    "print('Vocabulary size for preprocessed tweets:', str(len(set(tweet_tokens_cleaned))))\n",
    "\n",
    "# Check out most frequent words in preprocessed text\n",
    "freq = Counter(tweet_tokens_cleaned)\n",
    "print('20 most frequent words in cleaned tweets:')\n",
    "freq.most_common(20)"
   ]
  },
  {
   "cell_type": "code",
   "execution_count": null,
   "metadata": {},
   "outputs": [],
   "source": [
    "# ######################################################\n",
    "# # Vectorize text\n",
    "# ######################################################\n",
    "\n",
    "# # Use TFIDF weighted DTM because does better overall than unweighted\n",
    "# #vectorizer = CountVectorizer(max_features=10000, min_df=1, max_df=0.8, stop_words=stopwords.words('english')) # DTM\n",
    "# vectorizer = TfidfVectorizer(max_features=2494, min_df=1, max_df=0.8, stop_words=stopwords.words('english')) # TFIDF\n",
    "\n",
    "# # creates sparse DTM X\n",
    "# # use X.toarray() to get with zero representation\n",
    "\n",
    "# tweets = [] # empty list to add tweets to\n",
    "# df['text_cleaned'].apply(lambda x: tweets.append(x)) # add tweet from each row of DF\n",
    "\n",
    "# X = vectorizer.fit_transform(tweets)\n",
    "\n",
    "# print('Number of features in vectorizer (total vocabulary):', len(vectorizer.get_feature_names()))\n",
    "# print()\n",
    "\n",
    "# print(vectorizer.get_feature_names()[::500]) # get every 500th word"
   ]
  },
  {
   "cell_type": "code",
   "execution_count": 21,
   "metadata": {},
   "outputs": [],
   "source": [
    "#####################################################\n",
    "# Load vectorizers and vectorize tweets\n",
    "######################################################\n",
    "\n",
    "dis_vec = joblib.load(dis_vec_fp)\n",
    "rem_vec = joblib.load(rem_vec_fp)\n",
    "wth_vec = joblib.load(wth_vec_fp)\n",
    "\n",
    "# dis_tweets, rem_tweets, wth_tweets = [], [], [] # empty list to add tweets to\n",
    "\n",
    "# X_dis = dis_vec.transform(tqdm(tweets))\n",
    "# X_rem = rem_vec.transform(tqdm(tweets))\n",
    "# X_wth = wth_vec.transform(tqdm(tweets))"
   ]
  },
  {
   "cell_type": "code",
   "execution_count": null,
   "metadata": {},
   "outputs": [],
   "source": [
    "# dis_df = df[['id','full_text', 'text_cleaned']]\n",
    "# rem_df = df[['id','full_text', 'text_cleaned']]\n",
    "# wth_df = df[['id','full_text', 'text_cleaned']]"
   ]
  },
  {
   "cell_type": "code",
   "execution_count": 22,
   "metadata": {},
   "outputs": [
    {
     "data": {
      "text/html": [
       "<div>\n",
       "<style scoped>\n",
       "    .dataframe tbody tr th:only-of-type {\n",
       "        vertical-align: middle;\n",
       "    }\n",
       "\n",
       "    .dataframe tbody tr th {\n",
       "        vertical-align: top;\n",
       "    }\n",
       "\n",
       "    .dataframe thead th {\n",
       "        text-align: right;\n",
       "    }\n",
       "</style>\n",
       "<table border=\"1\" class=\"dataframe\">\n",
       "  <thead>\n",
       "    <tr style=\"text-align: right;\">\n",
       "      <th></th>\n",
       "      <th>id</th>\n",
       "      <th>full_text</th>\n",
       "      <th>text_cleaned</th>\n",
       "    </tr>\n",
       "  </thead>\n",
       "  <tbody>\n",
       "    <tr>\n",
       "      <th>3</th>\n",
       "      <td>1246232575640629248</td>\n",
       "      <td>'We will starve': Zimbabwe's poor full of misg...</td>\n",
       "      <td>'we will starve': zimbabwe's poor full of misg...</td>\n",
       "    </tr>\n",
       "    <tr>\n",
       "      <th>6</th>\n",
       "      <td>1246232574583812096</td>\n",
       "      <td>To try to be healthy during this #Quarantine, ...</td>\n",
       "      <td>to try to be healthy during this quarantine, i...</td>\n",
       "    </tr>\n",
       "    <tr>\n",
       "      <th>17</th>\n",
       "      <td>1246232556325851136</td>\n",
       "      <td>White rabbit is everywhere!! #Adrenochrome #Co...</td>\n",
       "      <td>white rabbit is everywhere!! adrenochrome covi...</td>\n",
       "    </tr>\n",
       "    <tr>\n",
       "      <th>22</th>\n",
       "      <td>1246232549778694150</td>\n",
       "      <td>Moreover, Bolsonaro pointed out that “anyone c...</td>\n",
       "      <td>moreover, bolsonaro pointed out that “anyone c...</td>\n",
       "    </tr>\n",
       "    <tr>\n",
       "      <th>24</th>\n",
       "      <td>1246232548486733824</td>\n",
       "      <td>Before a #TriMet employee can receive #PPE @tr...</td>\n",
       "      <td>before a trimet employee can receive ppe and e...</td>\n",
       "    </tr>\n",
       "    <tr>\n",
       "      <th>...</th>\n",
       "      <td>...</td>\n",
       "      <td>...</td>\n",
       "      <td>...</td>\n",
       "    </tr>\n",
       "    <tr>\n",
       "      <th>970</th>\n",
       "      <td>1297669866774724609</td>\n",
       "      <td>#Japanese Prime Minister #ShinzoAbe is plannin...</td>\n",
       "      <td>japanese prime minister shinzoabe is planning ...</td>\n",
       "    </tr>\n",
       "    <tr>\n",
       "      <th>974</th>\n",
       "      <td>1297674283456647174</td>\n",
       "      <td>In your campaign @DrBiden is the Eternal spiri...</td>\n",
       "      <td>in your campaign is the eternal spirit of paul...</td>\n",
       "    </tr>\n",
       "    <tr>\n",
       "      <th>975</th>\n",
       "      <td>1297673072674209798</td>\n",
       "      <td>Hypocritical.\\n\\nRules for thee, not for me.\\n...</td>\n",
       "      <td>hypocritical. rule for thee, not for me. china...</td>\n",
       "    </tr>\n",
       "    <tr>\n",
       "      <th>982</th>\n",
       "      <td>1297676871421898754</td>\n",
       "      <td>@ChineseEmbinUS The Eternal Spirit of Paul Wel...</td>\n",
       "      <td>the eternal spirit of paul wellstone is there ...</td>\n",
       "    </tr>\n",
       "    <tr>\n",
       "      <th>985</th>\n",
       "      <td>1297675660622626816</td>\n",
       "      <td>Party like it's 2020 and you've been vaccinate...</td>\n",
       "      <td>party like it's 2020 and you've been vaccinate...</td>\n",
       "    </tr>\n",
       "  </tbody>\n",
       "</table>\n",
       "<p>1589 rows × 3 columns</p>\n",
       "</div>"
      ],
      "text/plain": [
       "                      id                                          full_text  \\\n",
       "3    1246232575640629248  'We will starve': Zimbabwe's poor full of misg...   \n",
       "6    1246232574583812096  To try to be healthy during this #Quarantine, ...   \n",
       "17   1246232556325851136  White rabbit is everywhere!! #Adrenochrome #Co...   \n",
       "22   1246232549778694150  Moreover, Bolsonaro pointed out that “anyone c...   \n",
       "24   1246232548486733824  Before a #TriMet employee can receive #PPE @tr...   \n",
       "..                   ...                                                ...   \n",
       "970  1297669866774724609  #Japanese Prime Minister #ShinzoAbe is plannin...   \n",
       "974  1297674283456647174  In your campaign @DrBiden is the Eternal spiri...   \n",
       "975  1297673072674209798  Hypocritical.\\n\\nRules for thee, not for me.\\n...   \n",
       "982  1297676871421898754  @ChineseEmbinUS The Eternal Spirit of Paul Wel...   \n",
       "985  1297675660622626816  Party like it's 2020 and you've been vaccinate...   \n",
       "\n",
       "                                          text_cleaned  \n",
       "3    'we will starve': zimbabwe's poor full of misg...  \n",
       "6    to try to be healthy during this quarantine, i...  \n",
       "17   white rabbit is everywhere!! adrenochrome covi...  \n",
       "22   moreover, bolsonaro pointed out that “anyone c...  \n",
       "24   before a trimet employee can receive ppe and e...  \n",
       "..                                                 ...  \n",
       "970  japanese prime minister shinzoabe is planning ...  \n",
       "974  in your campaign is the eternal spirit of paul...  \n",
       "975  hypocritical. rule for thee, not for me. china...  \n",
       "982  the eternal spirit of paul wellstone is there ...  \n",
       "985  party like it's 2020 and you've been vaccinate...  \n",
       "\n",
       "[1589 rows x 3 columns]"
      ]
     },
     "execution_count": 22,
     "metadata": {},
     "output_type": "execute_result"
    }
   ],
   "source": [
    "# Clean up: Filter to key columns\n",
    "final_df = df[['id','full_text','text_cleaned']]\n",
    "final_df"
   ]
  },
  {
   "cell_type": "markdown",
   "metadata": {},
   "source": [
    "## Compute predictions for each tweet using model"
   ]
  },
  {
   "cell_type": "code",
   "execution_count": 23,
   "metadata": {
    "scrolled": false
   },
   "outputs": [
    {
     "name": "stderr",
     "output_type": "stream",
     "text": [
      "100%|██████████| 1589/1589 [02:41<00:00,  9.86it/s]\n",
      "/opt/conda/lib/python3.8/site-packages/pandas/core/frame.py:3065: SettingWithCopyWarning: \n",
      "A value is trying to be set on a copy of a slice from a DataFrame.\n",
      "Try using .loc[row_indexer,col_indexer] = value instead\n",
      "\n",
      "See the caveats in the documentation: https://pandas.pydata.org/pandas-docs/stable/user_guide/indexing.html#returning-a-view-versus-a-copy\n",
      "  self[k1] = value[k2]\n",
      "100%|██████████| 1589/1589 [02:42<00:00,  9.78it/s]\n",
      "100%|██████████| 1589/1589 [02:45<00:00,  9.60it/s]\n"
     ]
    },
    {
     "data": {
      "text/html": [
       "<div>\n",
       "<style scoped>\n",
       "    .dataframe tbody tr th:only-of-type {\n",
       "        vertical-align: middle;\n",
       "    }\n",
       "\n",
       "    .dataframe tbody tr th {\n",
       "        vertical-align: top;\n",
       "    }\n",
       "\n",
       "    .dataframe thead th {\n",
       "        text-align: right;\n",
       "    }\n",
       "</style>\n",
       "<table border=\"1\" class=\"dataframe\">\n",
       "  <thead>\n",
       "    <tr style=\"text-align: right;\">\n",
       "      <th></th>\n",
       "      <th>id</th>\n",
       "      <th>full_text</th>\n",
       "      <th>text_cleaned</th>\n",
       "      <th>prediction_dis</th>\n",
       "      <th>prediction_dis_prob_yes</th>\n",
       "      <th>prediction_dis_prob_no</th>\n",
       "      <th>prediction_rem</th>\n",
       "      <th>prediction_rem_prob_yes</th>\n",
       "      <th>prediction_rem_prob_no</th>\n",
       "      <th>prediction_wth</th>\n",
       "      <th>prediction_wth_prob_yes</th>\n",
       "      <th>prediction_wth_prob_no</th>\n",
       "    </tr>\n",
       "  </thead>\n",
       "  <tbody>\n",
       "    <tr>\n",
       "      <th>3</th>\n",
       "      <td>1246232575640629248</td>\n",
       "      <td>'We will starve': Zimbabwe's poor full of misg...</td>\n",
       "      <td>'we will starve': zimbabwe's poor full of misg...</td>\n",
       "      <td>no</td>\n",
       "      <td>0.136</td>\n",
       "      <td>0.864</td>\n",
       "      <td>no</td>\n",
       "      <td>0.048</td>\n",
       "      <td>0.952</td>\n",
       "      <td>yes</td>\n",
       "      <td>0.9870</td>\n",
       "      <td>0.0130</td>\n",
       "    </tr>\n",
       "    <tr>\n",
       "      <th>6</th>\n",
       "      <td>1246232574583812096</td>\n",
       "      <td>To try to be healthy during this #Quarantine, ...</td>\n",
       "      <td>to try to be healthy during this quarantine, i...</td>\n",
       "      <td>no</td>\n",
       "      <td>0.162</td>\n",
       "      <td>0.838</td>\n",
       "      <td>no</td>\n",
       "      <td>0.004</td>\n",
       "      <td>0.996</td>\n",
       "      <td>yes</td>\n",
       "      <td>0.9972</td>\n",
       "      <td>0.0028</td>\n",
       "    </tr>\n",
       "    <tr>\n",
       "      <th>17</th>\n",
       "      <td>1246232556325851136</td>\n",
       "      <td>White rabbit is everywhere!! #Adrenochrome #Co...</td>\n",
       "      <td>white rabbit is everywhere!! adrenochrome covi...</td>\n",
       "      <td>no</td>\n",
       "      <td>0.031</td>\n",
       "      <td>0.969</td>\n",
       "      <td>no</td>\n",
       "      <td>0.004</td>\n",
       "      <td>0.996</td>\n",
       "      <td>yes</td>\n",
       "      <td>0.9962</td>\n",
       "      <td>0.0038</td>\n",
       "    </tr>\n",
       "    <tr>\n",
       "      <th>22</th>\n",
       "      <td>1246232549778694150</td>\n",
       "      <td>Moreover, Bolsonaro pointed out that “anyone c...</td>\n",
       "      <td>moreover, bolsonaro pointed out that “anyone c...</td>\n",
       "      <td>no</td>\n",
       "      <td>0.055</td>\n",
       "      <td>0.945</td>\n",
       "      <td>no</td>\n",
       "      <td>0.004</td>\n",
       "      <td>0.996</td>\n",
       "      <td>yes</td>\n",
       "      <td>0.9912</td>\n",
       "      <td>0.0088</td>\n",
       "    </tr>\n",
       "    <tr>\n",
       "      <th>24</th>\n",
       "      <td>1246232548486733824</td>\n",
       "      <td>Before a #TriMet employee can receive #PPE @tr...</td>\n",
       "      <td>before a trimet employee can receive ppe and e...</td>\n",
       "      <td>no</td>\n",
       "      <td>0.035</td>\n",
       "      <td>0.965</td>\n",
       "      <td>no</td>\n",
       "      <td>0.002</td>\n",
       "      <td>0.998</td>\n",
       "      <td>yes</td>\n",
       "      <td>0.9960</td>\n",
       "      <td>0.0040</td>\n",
       "    </tr>\n",
       "    <tr>\n",
       "      <th>...</th>\n",
       "      <td>...</td>\n",
       "      <td>...</td>\n",
       "      <td>...</td>\n",
       "      <td>...</td>\n",
       "      <td>...</td>\n",
       "      <td>...</td>\n",
       "      <td>...</td>\n",
       "      <td>...</td>\n",
       "      <td>...</td>\n",
       "      <td>...</td>\n",
       "      <td>...</td>\n",
       "      <td>...</td>\n",
       "    </tr>\n",
       "    <tr>\n",
       "      <th>970</th>\n",
       "      <td>1297669866774724609</td>\n",
       "      <td>#Japanese Prime Minister #ShinzoAbe is plannin...</td>\n",
       "      <td>japanese prime minister shinzoabe is planning ...</td>\n",
       "      <td>no</td>\n",
       "      <td>0.053</td>\n",
       "      <td>0.947</td>\n",
       "      <td>no</td>\n",
       "      <td>0.179</td>\n",
       "      <td>0.821</td>\n",
       "      <td>yes</td>\n",
       "      <td>0.9972</td>\n",
       "      <td>0.0028</td>\n",
       "    </tr>\n",
       "    <tr>\n",
       "      <th>974</th>\n",
       "      <td>1297674283456647174</td>\n",
       "      <td>In your campaign @DrBiden is the Eternal spiri...</td>\n",
       "      <td>in your campaign is the eternal spirit of paul...</td>\n",
       "      <td>no</td>\n",
       "      <td>0.034</td>\n",
       "      <td>0.966</td>\n",
       "      <td>no</td>\n",
       "      <td>0.008</td>\n",
       "      <td>0.992</td>\n",
       "      <td>yes</td>\n",
       "      <td>0.9962</td>\n",
       "      <td>0.0038</td>\n",
       "    </tr>\n",
       "    <tr>\n",
       "      <th>975</th>\n",
       "      <td>1297673072674209798</td>\n",
       "      <td>Hypocritical.\\n\\nRules for thee, not for me.\\n...</td>\n",
       "      <td>hypocritical. rule for thee, not for me. china...</td>\n",
       "      <td>no</td>\n",
       "      <td>0.042</td>\n",
       "      <td>0.958</td>\n",
       "      <td>no</td>\n",
       "      <td>0.007</td>\n",
       "      <td>0.993</td>\n",
       "      <td>yes</td>\n",
       "      <td>0.9042</td>\n",
       "      <td>0.0958</td>\n",
       "    </tr>\n",
       "    <tr>\n",
       "      <th>982</th>\n",
       "      <td>1297676871421898754</td>\n",
       "      <td>@ChineseEmbinUS The Eternal Spirit of Paul Wel...</td>\n",
       "      <td>the eternal spirit of paul wellstone is there ...</td>\n",
       "      <td>no</td>\n",
       "      <td>0.035</td>\n",
       "      <td>0.965</td>\n",
       "      <td>no</td>\n",
       "      <td>0.008</td>\n",
       "      <td>0.992</td>\n",
       "      <td>yes</td>\n",
       "      <td>0.9962</td>\n",
       "      <td>0.0038</td>\n",
       "    </tr>\n",
       "    <tr>\n",
       "      <th>985</th>\n",
       "      <td>1297675660622626816</td>\n",
       "      <td>Party like it's 2020 and you've been vaccinate...</td>\n",
       "      <td>party like it's 2020 and you've been vaccinate...</td>\n",
       "      <td>no</td>\n",
       "      <td>0.064</td>\n",
       "      <td>0.936</td>\n",
       "      <td>no</td>\n",
       "      <td>0.046</td>\n",
       "      <td>0.954</td>\n",
       "      <td>yes</td>\n",
       "      <td>0.9840</td>\n",
       "      <td>0.0160</td>\n",
       "    </tr>\n",
       "  </tbody>\n",
       "</table>\n",
       "<p>1589 rows × 12 columns</p>\n",
       "</div>"
      ],
      "text/plain": [
       "                      id                                          full_text  \\\n",
       "3    1246232575640629248  'We will starve': Zimbabwe's poor full of misg...   \n",
       "6    1246232574583812096  To try to be healthy during this #Quarantine, ...   \n",
       "17   1246232556325851136  White rabbit is everywhere!! #Adrenochrome #Co...   \n",
       "22   1246232549778694150  Moreover, Bolsonaro pointed out that “anyone c...   \n",
       "24   1246232548486733824  Before a #TriMet employee can receive #PPE @tr...   \n",
       "..                   ...                                                ...   \n",
       "970  1297669866774724609  #Japanese Prime Minister #ShinzoAbe is plannin...   \n",
       "974  1297674283456647174  In your campaign @DrBiden is the Eternal spiri...   \n",
       "975  1297673072674209798  Hypocritical.\\n\\nRules for thee, not for me.\\n...   \n",
       "982  1297676871421898754  @ChineseEmbinUS The Eternal Spirit of Paul Wel...   \n",
       "985  1297675660622626816  Party like it's 2020 and you've been vaccinate...   \n",
       "\n",
       "                                          text_cleaned prediction_dis  \\\n",
       "3    'we will starve': zimbabwe's poor full of misg...             no   \n",
       "6    to try to be healthy during this quarantine, i...             no   \n",
       "17   white rabbit is everywhere!! adrenochrome covi...             no   \n",
       "22   moreover, bolsonaro pointed out that “anyone c...             no   \n",
       "24   before a trimet employee can receive ppe and e...             no   \n",
       "..                                                 ...            ...   \n",
       "970  japanese prime minister shinzoabe is planning ...             no   \n",
       "974  in your campaign is the eternal spirit of paul...             no   \n",
       "975  hypocritical. rule for thee, not for me. china...             no   \n",
       "982  the eternal spirit of paul wellstone is there ...             no   \n",
       "985  party like it's 2020 and you've been vaccinate...             no   \n",
       "\n",
       "     prediction_dis_prob_yes  prediction_dis_prob_no prediction_rem  \\\n",
       "3                      0.136                   0.864             no   \n",
       "6                      0.162                   0.838             no   \n",
       "17                     0.031                   0.969             no   \n",
       "22                     0.055                   0.945             no   \n",
       "24                     0.035                   0.965             no   \n",
       "..                       ...                     ...            ...   \n",
       "970                    0.053                   0.947             no   \n",
       "974                    0.034                   0.966             no   \n",
       "975                    0.042                   0.958             no   \n",
       "982                    0.035                   0.965             no   \n",
       "985                    0.064                   0.936             no   \n",
       "\n",
       "     prediction_rem_prob_yes  prediction_rem_prob_no prediction_wth  \\\n",
       "3                      0.048                   0.952            yes   \n",
       "6                      0.004                   0.996            yes   \n",
       "17                     0.004                   0.996            yes   \n",
       "22                     0.004                   0.996            yes   \n",
       "24                     0.002                   0.998            yes   \n",
       "..                       ...                     ...            ...   \n",
       "970                    0.179                   0.821            yes   \n",
       "974                    0.008                   0.992            yes   \n",
       "975                    0.007                   0.993            yes   \n",
       "982                    0.008                   0.992            yes   \n",
       "985                    0.046                   0.954            yes   \n",
       "\n",
       "     prediction_wth_prob_yes  prediction_wth_prob_no  \n",
       "3                     0.9870                  0.0130  \n",
       "6                     0.9972                  0.0028  \n",
       "17                    0.9962                  0.0038  \n",
       "22                    0.9912                  0.0088  \n",
       "24                    0.9960                  0.0040  \n",
       "..                       ...                     ...  \n",
       "970                   0.9972                  0.0028  \n",
       "974                   0.9962                  0.0038  \n",
       "975                   0.9042                  0.0958  \n",
       "982                   0.9962                  0.0038  \n",
       "985                   0.9840                  0.0160  \n",
       "\n",
       "[1589 rows x 12 columns]"
      ]
     },
     "execution_count": 23,
     "metadata": {},
     "output_type": "execute_result"
    }
   ],
   "source": [
    "def compute_prediction(tweet_text, vectorizer_model, class_model):\n",
    "    '''\n",
    "    Predicts the label for an input tweet using a given model trained to classify Covid-19-related myths in tweets. \n",
    "    \n",
    "    Args:\n",
    "        tweet_text: array of preprocessed text of a single tweet\n",
    "        vectorizer_model: fitted text vectorizer\n",
    "        class_model: trained classification model\n",
    "    Returns:\n",
    "        label: label for tweet_text predicted by model, false for tie\n",
    "        prob: probability for label\n",
    "    '''\n",
    "    \n",
    "    X = vectorizer_model.transform(tweet_text)\n",
    "    probabilities = class_model.predict_proba(X)\n",
    "    \n",
    "    label = 'no'\n",
    "    prob_no = probabilities[0][0]\n",
    "    prob_yes = probabilities[0][1]\n",
    "    \n",
    "    # predicted label is one with greater probability\n",
    "    if probabilities[0][0] < probabilities[0][1]:\n",
    "        label = 'yes'\n",
    "        \n",
    "    return label, prob_yes, prob_no\n",
    "\n",
    "# TODO: Combine two lines so no need to call compute_prediction twice\n",
    "final_df[['prediction_dis','prediction_dis_prob_yes','prediction_dis_prob_no']] = final_df['text_cleaned'].progress_apply(lambda x: pd.Series(compute_prediction([x], dis_vec, dis_mod)))\n",
    "final_df[['prediction_rem','prediction_rem_prob_yes','prediction_rem_prob_no']] = final_df['text_cleaned'].progress_apply(lambda x: pd.Series(compute_prediction([x], rem_vec, rem_mod)))\n",
    "final_df[['prediction_wth','prediction_wth_prob_yes','prediction_wth_prob_no']] = final_df['text_cleaned'].progress_apply(lambda x: pd.Series(compute_prediction([x], wth_vec, wth_mod)))\n",
    "\n",
    "final_df"
   ]
  },
  {
   "cell_type": "markdown",
   "metadata": {},
   "source": [
    "## Visualize distributions of labels"
   ]
  },
  {
   "cell_type": "code",
   "execution_count": 31,
   "metadata": {},
   "outputs": [
    {
     "data": {
      "text/plain": [
       "<AxesSubplot:>"
      ]
     },
     "execution_count": 31,
     "metadata": {},
     "output_type": "execute_result"
    },
    {
     "data": {
      "image/png": "[encoded data removed]",
      "text/plain": [
       "<Figure size 432x288 with 1 Axes>"
      ]
     },
     "metadata": {
      "needs_background": "light"
     },
     "output_type": "display_data"
    }
   ],
   "source": [
    "(final_df['prediction_dis_prob_no'] - final_df['prediction_dis_prob_yes']).hist(bins=100) # differences"
   ]
  },
  {
   "cell_type": "code",
   "execution_count": 35,
   "metadata": {},
   "outputs": [
    {
     "data": {
      "text/plain": [
       "<AxesSubplot:>"
      ]
     },
     "execution_count": 35,
     "metadata": {},
     "output_type": "execute_result"
    },
    {
     "data": {
      "image/png": "[encoded data removed]",
      "text/plain": [
       "<Figure size 432x288 with 1 Axes>"
      ]
     },
     "metadata": {
      "needs_background": "light"
     },
     "output_type": "display_data"
    }
   ],
   "source": [
    "final_df['prediction_dis_prob_yes'].hist(bins=100) # minority class"
   ]
  },
  {
   "cell_type": "code",
   "execution_count": 72,
   "metadata": {},
   "outputs": [
    {
     "name": "stdout",
     "output_type": "stream",
     "text": [
      "10.321% of cases are above 0.125\n"
     ]
    }
   ],
   "source": [
    "threshold = 0.125\n",
    "prop = (len(final_df[final_df['prediction_dis_prob_yes'] > threshold])/len(final_df))*100\n",
    "print(f'{str(round(prop,3))}% of cases are above {str(threshold)}')"
   ]
  },
  {
   "cell_type": "code",
   "execution_count": 38,
   "metadata": {
    "scrolled": true
   },
   "outputs": [
    {
     "name": "stdout",
     "output_type": "stream",
     "text": [
      "prediction_dis\n",
      "no    1510\n",
      "dtype: int64\n"
     ]
    },
    {
     "data": {
      "text/plain": [
       "Text(0, 0.5, 'count')"
      ]
     },
     "execution_count": 38,
     "metadata": {},
     "output_type": "execute_result"
    },
    {
     "data": {
      "image/png": "[encoded data removed]",
      "text/plain": [
       "<Figure size 432x288 with 1 Axes>"
      ]
     },
     "metadata": {
      "needs_background": "light"
     },
     "output_type": "display_data"
    }
   ],
   "source": [
    "print(final_df.groupby('prediction_dis').size())\n",
    "colors = ['red', 'green']\n",
    "dis_plot = final_df.groupby('prediction_dis').size()\\\n",
    "        .plot(kind='bar',title='prediction_dis Statistics', color = colors)\n",
    "dis_plot.set_ylabel('count')"
   ]
  },
  {
   "cell_type": "code",
   "execution_count": 32,
   "metadata": {
    "scrolled": true
   },
   "outputs": [
    {
     "data": {
      "text/plain": [
       "<AxesSubplot:>"
      ]
     },
     "execution_count": 32,
     "metadata": {},
     "output_type": "execute_result"
    },
    {
     "data": {
      "image/png": "[encoded data removed]",
      "text/plain": [
       "<Figure size 432x288 with 1 Axes>"
      ]
     },
     "metadata": {
      "needs_background": "light"
     },
     "output_type": "display_data"
    }
   ],
   "source": [
    "(final_df['prediction_rem_prob_no'] - final_df['prediction_rem_prob_yes']).hist(bins=100) # differences"
   ]
  },
  {
   "cell_type": "code",
   "execution_count": 36,
   "metadata": {},
   "outputs": [
    {
     "data": {
      "text/plain": [
       "<AxesSubplot:>"
      ]
     },
     "execution_count": 36,
     "metadata": {},
     "output_type": "execute_result"
    },
    {
     "data": {
      "image/png": "[encoded data removed]",
      "text/plain": [
       "<Figure size 432x288 with 1 Axes>"
      ]
     },
     "metadata": {
      "needs_background": "light"
     },
     "output_type": "display_data"
    }
   ],
   "source": [
    "final_df['prediction_rem_prob_yes'].hist(bins=100) # minority class"
   ]
  },
  {
   "cell_type": "code",
   "execution_count": 68,
   "metadata": {},
   "outputs": [
    {
     "name": "stdout",
     "output_type": "stream",
     "text": [
      "10.636% of cases are above 0.155\n"
     ]
    }
   ],
   "source": [
    "threshold = 0.155\n",
    "prop = (len(final_df[final_df['prediction_rem_prob_yes'] > threshold])/len(final_df))*100\n",
    "print(f'{str(round(prop,3))}% of cases are above {str(threshold)}')"
   ]
  },
  {
   "cell_type": "code",
   "execution_count": 32,
   "metadata": {},
   "outputs": [
    {
     "name": "stdout",
     "output_type": "stream",
     "text": [
      "prediction_rem\n",
      "no    1510\n",
      "dtype: int64\n"
     ]
    },
    {
     "data": {
      "text/plain": [
       "Text(0, 0.5, 'count')"
      ]
     },
     "execution_count": 32,
     "metadata": {},
     "output_type": "execute_result"
    },
    {
     "data": {
      "image/png": "[encoded data removed]",
      "text/plain": [
       "<Figure size 432x288 with 1 Axes>"
      ]
     },
     "metadata": {
      "needs_background": "light"
     },
     "output_type": "display_data"
    }
   ],
   "source": [
    "print(final_df.groupby('prediction_rem').size())\n",
    "colors = ['red', 'green']\n",
    "rem_plot = final_df.groupby('prediction_rem').size()\\\n",
    "        .plot(kind='bar',title='prediction_rem Statistics', color = colors)\n",
    "rem_plot.set_ylabel('count')"
   ]
  },
  {
   "cell_type": "code",
   "execution_count": 33,
   "metadata": {},
   "outputs": [
    {
     "data": {
      "text/plain": [
       "<AxesSubplot:>"
      ]
     },
     "execution_count": 33,
     "metadata": {},
     "output_type": "execute_result"
    },
    {
     "data": {
      "image/png": "[encoded data removed]",
      "text/plain": [
       "<Figure size 432x288 with 1 Axes>"
      ]
     },
     "metadata": {
      "needs_background": "light"
     },
     "output_type": "display_data"
    }
   ],
   "source": [
    "(final_df['prediction_wth_prob_yes'] - final_df['prediction_wth_prob_no']).hist(bins=100) # differences"
   ]
  },
  {
   "cell_type": "code",
   "execution_count": 37,
   "metadata": {},
   "outputs": [
    {
     "data": {
      "text/plain": [
       "<AxesSubplot:>"
      ]
     },
     "execution_count": 37,
     "metadata": {},
     "output_type": "execute_result"
    },
    {
     "data": {
      "image/png": "[encoded data removed]",
      "text/plain": [
       "<Figure size 432x288 with 1 Axes>"
      ]
     },
     "metadata": {
      "needs_background": "light"
     },
     "output_type": "display_data"
    }
   ],
   "source": [
    "final_df['prediction_wth_prob_no'].hist(bins=100) # minority class"
   ]
  },
  {
   "cell_type": "code",
   "execution_count": 65,
   "metadata": {},
   "outputs": [
    {
     "name": "stdout",
     "output_type": "stream",
     "text": [
      "10.195% of cases are above 0.105\n"
     ]
    }
   ],
   "source": [
    "threshold = 0.105\n",
    "prop = (len(final_df[final_df['prediction_wth_prob_no'] > threshold])/len(final_df))*100\n",
    "print(f'{str(round(prop,3))}% of cases are above {str(threshold)}')"
   ]
  },
  {
   "cell_type": "code",
   "execution_count": 30,
   "metadata": {},
   "outputs": [
    {
     "name": "stdout",
     "output_type": "stream",
     "text": [
      "prediction_wth\n",
      "yes    1589\n",
      "dtype: int64\n"
     ]
    },
    {
     "data": {
      "text/plain": [
       "Text(0, 0.5, 'count')"
      ]
     },
     "execution_count": 30,
     "metadata": {},
     "output_type": "execute_result"
    },
    {
     "data": {
      "image/png": "[encoded data removed]",
      "text/plain": [
       "<Figure size 432x288 with 1 Axes>"
      ]
     },
     "metadata": {
      "needs_background": "light"
     },
     "output_type": "display_data"
    }
   ],
   "source": [
    "print(final_df.groupby('prediction_wth').size())\n",
    "colors = ['red', 'green']\n",
    "wth_plot = final_df.groupby('prediction_wth').size()\\\n",
    "        .plot(kind='bar',title='prediction_wth Statistics', color = colors)\n",
    "wth_plot.set_ylabel('count')"
   ]
  },
  {
   "cell_type": "markdown",
   "metadata": {},
   "source": [
    "## Select tweets for sample"
   ]
  },
  {
   "cell_type": "markdown",
   "metadata": {},
   "source": [
    "Get 150 new tweets, no more than 5 per date, composed of 90% minority class and 10% majority class.<br>\n",
    "To improve fidelity of model, make the tweets selected majority class fuzzy/unreliable, so model gets better at labeling these.<br>\n",
    "First, filter into new DFs, one for minority class and one for (fuzzy) majority class."
   ]
  },
  {
   "cell_type": "code",
   "execution_count": 73,
   "metadata": {},
   "outputs": [
    {
     "name": "stdout",
     "output_type": "stream",
     "text": [
      "Number of minority cases selected for each myth:\n",
      "164 for disinfectants\n",
      "169 for home remedies\n",
      "162 for weather\n"
     ]
    }
   ],
   "source": [
    "# set thresholds for minority cases for each myth\n",
    "# set these as low as possible to capture ~140 tweets likely to fall in minority class\n",
    "minority_threshold_dis = 0.125 \n",
    "minority_threshold_rem = 0.155\n",
    "minority_threshold_wth = 0.105\n",
    "\n",
    "# filter using threshold\n",
    "df_dis_minority = final_df[final_df['prediction_dis_prob_yes'] > minority_threshold_dis]\n",
    "df_rem_minority = final_df[final_df['prediction_rem_prob_yes'] > minority_threshold_rem]\n",
    "df_wth_minority = final_df[final_df['prediction_wth_prob_no'] > minority_threshold_wth]\n",
    "\n",
    "# check out results\n",
    "print('Number of minority cases selected for each myth:')\n",
    "print(f'{len(df_dis_minority)} for disinfectants')\n",
    "print(f'{len(df_rem_minority)} for home remedies')\n",
    "print(f'{len(df_wth_minority)} for weather')"
   ]
  },
  {
   "cell_type": "code",
   "execution_count": null,
   "metadata": {},
   "outputs": [],
   "source": [
    "# Note: This function is for later on, once our classifier can better predict minority class.\n",
    "\n",
    "def check_pred_fuzzy(row, \n",
    "                     pred_labels = ['yes', 'no'], \n",
    "                     myth_labels = ['dis', 'rem', 'wth']\n",
    "                     upper_threshold=0.30, \n",
    "                     lower_threshold=0.10):\n",
    "    \n",
    "    '''\n",
    "    Checks whether prediction is fuzzy/unreliable. Use this to determine if a tweet is worth hand-coding.\n",
    "    Rationale: by only coding tweets with unreliable labels, we can improve the classifier's ability to detect 'unsure' cases.\n",
    "    \n",
    "    Function focuses on this difference: prob(predicted label) - prob(some other label).\n",
    "    If difference is greater than lower_threshold (minimum for hand-coding of tweet to be possible), \n",
    "    but lesser than upper_threshold (maximum for hand-coding to be necessary), then it IS worth coding, so return True. \n",
    "    If difference is not between these, then we either it can't be reliably coded, or already have a reliable prediction,\n",
    "    so we don't need to hand-code --> return False.\n",
    "\n",
    "    To help select a threshold, ask: To what extent do we want the uncertainty to be, to help inform our sample selection?    \n",
    "    For example, if a tweet is labeled as POS with 90% prob and NEG 10% --> this is very obvious sample, so don't bother coding.\n",
    "    On the other hand, if the predictions are 51% NEG and 49 POS, then we need ppl to label this to update our model. \n",
    "    If our upper_threshold is 20% (0.20), then if a tweet has 61% NEG 39% POS probabilities, we don't choose it. \n",
    "    If some other tweet has prob 59% POS 41% NEG, we do select it for coding.\n",
    "    \n",
    "    Args:\n",
    "        row: row corresponding to tweet, with predictions in format...\n",
    "        pred_labels: labels for probabilities to use--used for naming columns\n",
    "        myth_labels: labels for COVID-19 myths to detect--used for naming columns\n",
    "        upper_threshold: max difference between predicted probs\n",
    "        lower_threshold: min difference between predicted probs\n",
    "    \n",
    "    Returns:\n",
    "        binary: True if tweet should be hand-coded, otherwise False.\n",
    "    '''\n",
    "    \n",
    "    # TO DO (once we can classify minority class reliably): Update column titles using myth_labels\n",
    "    \n",
    "    pred_label = row[\"prediction\"].strip() # get label of prediction for tweet--must be one of those in possible_labels!\n",
    "    pred_score = float(row[\"prob_{}\".format(pred_label)]) # get probability of predicted label (probably high)\n",
    "    \n",
    "    for pred in pred_labels: # Look at each label\n",
    "        pred = pred.strip() # clean label text\n",
    "        \n",
    "        if pred != pred_label: # if this label isn't the predicted one...\n",
    "            difference = pred_score - float(row[\"prob_{}\".format(pred)]) # ...then look at their difference in probability\n",
    "            if lower_threshold <= difference <= upper_threshold:\n",
    "                 # if difference in probs is > lower_threshold but < upper_threshold, then pred is fuzzy and we should code\n",
    "                return True # worth coding\n",
    "    \n",
    "    return False # not worth coding\n",
    "\n",
    "df_fuzzy = df[df.progress_apply(check_pred_fuzzy, axis=1)] # limit to only fuzzy labels\n",
    "df_fuzzy.shape"
   ]
  },
  {
   "cell_type": "markdown",
   "metadata": {},
   "source": [
    "## Get 5 tweets/day for random dates from Apr-Aug, 2020"
   ]
  },
  {
   "cell_type": "code",
   "execution_count": null,
   "metadata": {},
   "outputs": [],
   "source": [
    "# TO DO: write code for this function\n",
    "\n",
    "def sample_tweets(df, myth, tweets_per_day = 5, sample_size = 150, prop_yes = .9):\n",
    "    '''\n",
    "    For tweets in df, randomly samples tweets_per_day tweets until it reaches sample_size.\n",
    "    \n",
    "    Args:\n",
    "        df: has predictions\n",
    "        myth: which myth\n",
    "        tweets_per_day: number of tweets to gather per day\n",
    "        sample_size: number of fresh tweets to classify\n",
    "        prop_yes: what proportion of tweets in sample should be predicted yes\n",
    "    Returns:\n",
    "        sample: 150 new tweets to label by hand\n",
    "    '''\n",
    "    \n",
    "    # code here\n",
    "    \n",
    "    # randomly sample\n",
    "    \n",
    "    # return sample"
   ]
  },
  {
   "cell_type": "code",
   "execution_count": null,
   "metadata": {},
   "outputs": [],
   "source": [
    "dis_sample = sample_tweets(dis_probs, df)\n",
    "rem_sample = \n",
    "wth_sample = "
   ]
  },
  {
   "cell_type": "code",
   "execution_count": null,
   "metadata": {},
   "outputs": [],
   "source": [
    "# TO DO: preprocess tweets for MTurk using conservative version of above function: \n",
    "# e.g., censoring usernames but not lower-casing, for instance\n",
    "# Create options to adjust its parameters to do this"
   ]
  },
  {
   "cell_type": "markdown",
   "metadata": {},
   "source": [
    "## Ken's old code: Filter with tweet IDs"
   ]
  },
  {
   "cell_type": "code",
   "execution_count": null,
   "metadata": {},
   "outputs": [],
   "source": [
    "if len(already_used_input_fp) > 0:\n",
    "    df_used = pd.concat([\n",
    "        pd.read_csv(fp.strip(), dtype=str) for fp in already_used_input_fp\n",
    "    ], ignore_index=True)\n",
    "    \n",
    "    already_used_ids = set(df_used[\"tweet_id\"])\n",
    "else:\n",
    "    already_used_ids = set()\n",
    "\n",
    "print(\"There are {} tweets already used\".format(len(already_used_ids)))\n",
    "\n",
    "df_low = df_low[~df_low[\"tweet_id\"].isin(already_used_ids)]\n",
    "df_low.shape"
   ]
  },
  {
   "cell_type": "markdown",
   "metadata": {},
   "source": [
    "## Ken's old code: Take sample with desired ratio of cases"
   ]
  },
  {
   "cell_type": "code",
   "execution_count": null,
   "metadata": {},
   "outputs": [],
   "source": [
    "# Set fraction of cases we want in minority class \n",
    "frac_min = 0.9"
   ]
  },
  {
   "cell_type": "code",
   "execution_count": null,
   "metadata": {},
   "outputs": [],
   "source": [
    "df_against = df_low[df_low[\"prediction\"]==\"AGAINST\"]\\\n",
    ".sample(n=int(n_sample*0.4), random_state=3)\n",
    "\n",
    "df_favor = df_low[df_low[\"prediction\"]==\"FAVOR\"]\\\n",
    ".sample(n=int(n_sample*0.4), random_state=3)\n",
    "\n",
    "df_none = df_low[df_low[\"prediction\"]==\"NONE\"]\\\n",
    ".sample(n=int(n_sample*0.2), random_state=3)\n",
    "\n",
    "df_output = pd.concat([df_against, df_favor, df_none], ignore_index=True).sample(frac=1.0, random_state=5445)\n",
    "\n",
    "df_output.shape\n"
   ]
  },
  {
   "cell_type": "code",
   "execution_count": null,
   "metadata": {},
   "outputs": [],
   "source": [
    "collections.Counter(df_output[\"prediction\"])"
   ]
  },
  {
   "cell_type": "code",
   "execution_count": null,
   "metadata": {},
   "outputs": [],
   "source": [
    "df_output = df_output[[\"tweet_id\", \"text\", \"created_at\", \"prediction\"]]"
   ]
  },
  {
   "cell_type": "code",
   "execution_count": null,
   "metadata": {},
   "outputs": [],
   "source": [
    "df_output.head(5)"
   ]
  },
  {
   "cell_type": "markdown",
   "metadata": {},
   "source": [
    "## Save to file"
   ]
  },
  {
   "cell_type": "code",
   "execution_count": null,
   "metadata": {},
   "outputs": [],
   "source": [
    "# Write\n",
    "# TO DO: Update this part\n",
    "df_output.to_csv(output_fp,\\\n",
    "    escapechar='\\\"', \\\n",
    "    quotechar='\\\"',\\\n",
    "    quoting=csv.QUOTE_ALL,\\\n",
    "    index=False)"
   ]
  }
 ],
 "metadata": {
  "kernelspec": {
   "display_name": "Python 3",
   "language": "python",
   "name": "python3"
  },
  "language_info": {
   "codemirror_mode": {
    "name": "ipython",
    "version": 3
   },
   "file_extension": ".py",
   "mimetype": "text/x-python",
   "name": "python",
   "nbconvert_exporter": "python",
   "pygments_lexer": "ipython3",
   "version": "3.8.5"
  }
 },
 "nbformat": 4,
 "nbformat_minor": 4
}
